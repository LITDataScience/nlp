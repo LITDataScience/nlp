{
 "cells": [
  {
   "cell_type": "code",
   "execution_count": 1,
   "metadata": {},
   "outputs": [],
   "source": [
    "import spacy\n",
    "nlp = spacy.load('en_core_web_lg')"
   ]
  },
  {
   "cell_type": "code",
   "execution_count": 2,
   "metadata": {},
   "outputs": [
    {
     "name": "stdout",
     "output_type": "stream",
     "text": [
      "Carter \t PROPN \t 781435979667126786 \t Carter\n",
      "robot \t NOUN \t 3260124340649071971 \t robot\n",
      "is \t AUX \t 10382539506755952630 \t be\n",
      "built \t VERB \t 15542623189494043735 \t build\n",
      "by \t ADP \t 16764210730586636600 \t by\n",
      "NVIDIA \t PROPN \t 8211568539394661359 \t NVIDIA\n",
      "using \t VERB \t 6873750497785110593 \t use\n",
      "Isaac \t PROPN \t 1864268972082553008 \t Isaac\n",
      "SDK \t PROPN \t 8114354561935218407 \t SDK\n",
      ". \t PUNCT \t 12646065887601541794 \t .\n",
      "This \t DET \t 1995909169258310477 \t this\n",
      "robot \t NOUN \t 3260124340649071971 \t robot\n",
      "does \t AUX \t 2158845516055552166 \t do\n",
      "wonders \t NOUN \t 17230765341337091640 \t wonder\n",
      "when \t ADV \t 15807309897752499399 \t when\n",
      "running \t VERB \t 12767647472892411841 \t run\n",
      "in \t ADP \t 3002984154512732771 \t in\n",
      "the \t DET \t 7425985699627899538 \t the\n",
      "office \t NOUN \t 10874922665013127783 \t office\n",
      "! \t PUNCT \t 17494803046312582752 \t !\n"
     ]
    }
   ],
   "source": [
    "doc1 = nlp(u\"Carter robot is built by NVIDIA using Isaac SDK. This robot does wonders when running in the office!\")\n",
    "\n",
    "for token in doc1:\n",
    "    print(token.text, '\\t', token.pos_, '\\t', token.lemma, '\\t', token.lemma_)"
   ]
  },
  {
   "cell_type": "code",
   "execution_count": 3,
   "metadata": {},
   "outputs": [],
   "source": [
    "def show_lemmas(text):\n",
    "    for token in text:\n",
    "        print(f'{token.text:{12}} {token.pos_:{6}} {token.lemma:<{22}} {token.lemma_}')"
   ]
  },
  {
   "cell_type": "code",
   "execution_count": 4,
   "metadata": {},
   "outputs": [
    {
     "name": "stdout",
     "output_type": "stream",
     "text": [
      "Carter       PROPN  781435979667126786     Carter\n",
      "robot        NOUN   3260124340649071971    robot\n",
      "is           AUX    10382539506755952630   be\n",
      "built        VERB   15542623189494043735   build\n",
      "by           ADP    16764210730586636600   by\n",
      "NVIDIA       PROPN  8211568539394661359    NVIDIA\n",
      "using        VERB   6873750497785110593    use\n",
      "Isaac        PROPN  1864268972082553008    Isaac\n",
      "SDK          PROPN  8114354561935218407    SDK\n",
      ".            PUNCT  12646065887601541794   .\n",
      "This         DET    1995909169258310477    this\n",
      "robot        NOUN   3260124340649071971    robot\n",
      "does         AUX    2158845516055552166    do\n",
      "wonders      NOUN   17230765341337091640   wonder\n",
      "when         ADV    15807309897752499399   when\n",
      "running      VERB   12767647472892411841   run\n",
      "in           ADP    3002984154512732771    in\n",
      "the          DET    7425985699627899538    the\n",
      "office       NOUN   10874922665013127783   office\n",
      "!            PUNCT  17494803046312582752   !\n"
     ]
    }
   ],
   "source": [
    "show_lemmas(doc1)"
   ]
  }
 ],
 "metadata": {
  "kernelspec": {
   "display_name": "Python 3",
   "language": "python",
   "name": "python3"
  },
  "language_info": {
   "codemirror_mode": {
    "name": "ipython",
    "version": 3
   },
   "file_extension": ".py",
   "mimetype": "text/x-python",
   "name": "python",
   "nbconvert_exporter": "python",
   "pygments_lexer": "ipython3",
   "version": "3.7.9"
  }
 },
 "nbformat": 4,
 "nbformat_minor": 4
}
