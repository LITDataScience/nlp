{
 "cells": [
  {
   "cell_type": "code",
   "execution_count": 1,
   "id": "suited-access",
   "metadata": {},
   "outputs": [
    {
     "name": "stderr",
     "output_type": "stream",
     "text": [
      "[nltk_data] Downloading package vader_lexicon to\n",
      "[nltk_data]     C:\\Users\\rajeevs\\AppData\\Roaming\\nltk_data...\n"
     ]
    },
    {
     "data": {
      "text/plain": [
       "True"
      ]
     },
     "execution_count": 1,
     "metadata": {},
     "output_type": "execute_result"
    }
   ],
   "source": [
    "import nltk\n",
    "nltk.download('vader_lexicon') # movie review dictionary"
   ]
  },
  {
   "cell_type": "code",
   "execution_count": 2,
   "id": "auburn-clinic",
   "metadata": {},
   "outputs": [],
   "source": [
    "from nltk.sentiment.vader import SentimentIntensityAnalyzer"
   ]
  },
  {
   "cell_type": "code",
   "execution_count": 3,
   "id": "thick-democrat",
   "metadata": {},
   "outputs": [],
   "source": [
    "sid = SentimentIntensityAnalyzer() # creating an instance of it"
   ]
  },
  {
   "cell_type": "code",
   "execution_count": 4,
   "id": "sunrise-appeal",
   "metadata": {},
   "outputs": [
    {
     "data": {
      "text/plain": [
       "{'neg': 0.0, 'neu': 0.534, 'pos': 0.466, 'compound': 0.54}"
      ]
     },
     "execution_count": 4,
     "metadata": {},
     "output_type": "execute_result"
    }
   ],
   "source": [
    "rev_1 = \"This is a really good movie!\"\n",
    "sid.polarity_scores(rev_1)"
   ]
  },
  {
   "cell_type": "code",
   "execution_count": 6,
   "id": "oriental-analyst",
   "metadata": {},
   "outputs": [
    {
     "data": {
      "text/plain": [
       "{'neg': 0.0, 'neu': 0.564, 'pos': 0.436, 'compound': 0.8825}"
      ]
     },
     "execution_count": 6,
     "metadata": {},
     "output_type": "execute_result"
    }
   ],
   "source": [
    "rev_2 = \"This is one of the really good and BEST MOVIE ever made in 2021!!!\"\n",
    "sid.polarity_scores(rev_2)"
   ]
  },
  {
   "cell_type": "code",
   "execution_count": 8,
   "id": "middle-technician",
   "metadata": {},
   "outputs": [
    {
     "data": {
      "text/plain": [
       "{'neg': 0.541, 'neu': 0.277, 'pos': 0.183, 'compound': -0.7562}"
      ]
     },
     "execution_count": 8,
     "metadata": {},
     "output_type": "execute_result"
    }
   ],
   "source": [
    "rev_3 = \"Such a bad movie! Wasted 2 hours and no fun!! BADDDDDDDDDDD\"\n",
    "sid.polarity_scores(rev_3)"
   ]
  },
  {
   "cell_type": "markdown",
   "id": "periodic-respondent",
   "metadata": {},
   "source": [
    "`# Let's use VADER to analyse Amazon's product reviews`"
   ]
  },
  {
   "cell_type": "code",
   "execution_count": null,
   "id": "amateur-mailman",
   "metadata": {},
   "outputs": [],
   "source": []
  }
 ],
 "metadata": {
  "kernelspec": {
   "display_name": "Python 3",
   "language": "python",
   "name": "python3"
  },
  "language_info": {
   "codemirror_mode": {
    "name": "ipython",
    "version": 3
   },
   "file_extension": ".py",
   "mimetype": "text/x-python",
   "name": "python",
   "nbconvert_exporter": "python",
   "pygments_lexer": "ipython3",
   "version": "3.7.9"
  }
 },
 "nbformat": 4,
 "nbformat_minor": 5
}
