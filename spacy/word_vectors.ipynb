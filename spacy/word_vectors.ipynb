{
 "cells": [
  {
   "cell_type": "markdown",
   "id": "unauthorized-fancy",
   "metadata": {},
   "source": [
    "`# Word Vectors in SpaCy`"
   ]
  },
  {
   "cell_type": "code",
   "execution_count": 1,
   "id": "little-benjamin",
   "metadata": {},
   "outputs": [],
   "source": [
    "import spacy\n",
    "nlp = spacy.load('en_core_web_lg')"
   ]
  },
  {
   "cell_type": "code",
   "execution_count": 2,
   "id": "amino-raleigh",
   "metadata": {},
   "outputs": [],
   "source": [
    "%config Completer.use_jedi = False"
   ]
  },
  {
   "cell_type": "code",
   "execution_count": 3,
   "id": "verbal-sacramento",
   "metadata": {},
   "outputs": [
    {
     "data": {
      "text/plain": [
       "(300,)"
      ]
     },
     "execution_count": 3,
     "metadata": {},
     "output_type": "execute_result"
    }
   ],
   "source": [
    "nlp('lion').vector.shape"
   ]
  },
  {
   "cell_type": "code",
   "execution_count": 4,
   "id": "cosmetic-object",
   "metadata": {},
   "outputs": [
    {
     "data": {
      "text/plain": [
       "(300,)"
      ]
     },
     "execution_count": 4,
     "metadata": {},
     "output_type": "execute_result"
    }
   ],
   "source": [
    "nlp('My name is Rudra! I am 26 years young :D').vector.shape"
   ]
  },
  {
   "cell_type": "code",
   "execution_count": 5,
   "id": "ordered-discrimination",
   "metadata": {},
   "outputs": [],
   "source": [
    "tokens = nlp('lion ball tree')"
   ]
  },
  {
   "cell_type": "code",
   "execution_count": 6,
   "id": "seasonal-culture",
   "metadata": {},
   "outputs": [
    {
     "name": "stdout",
     "output_type": "stream",
     "text": [
      "lion lion 1.0\n",
      "lion ball 0.19351771\n",
      "lion tree 0.35865536\n",
      "ball lion 0.19351771\n",
      "ball ball 1.0\n",
      "ball tree 0.26132903\n",
      "tree lion 0.35865536\n",
      "tree ball 0.26132903\n",
      "tree tree 1.0\n"
     ]
    }
   ],
   "source": [
    "for t1 in tokens:\n",
    "    for t2 in tokens:\n",
    "        print(t1.text, t2.text, t1.similarity(t2))"
   ]
  },
  {
   "cell_type": "code",
   "execution_count": 7,
   "id": "scenic-procurement",
   "metadata": {},
   "outputs": [
    {
     "data": {
      "text/plain": [
       "684831"
      ]
     },
     "execution_count": 7,
     "metadata": {},
     "output_type": "execute_result"
    }
   ],
   "source": [
    "# How big is SpaCys Vocabulary\n",
    "len(nlp.vocab.vectors)"
   ]
  },
  {
   "cell_type": "code",
   "execution_count": 8,
   "id": "plastic-application",
   "metadata": {},
   "outputs": [
    {
     "data": {
      "text/plain": [
       "(684831, 300)"
      ]
     },
     "execution_count": 8,
     "metadata": {},
     "output_type": "execute_result"
    }
   ],
   "source": [
    "# Let's check the shape\n",
    "nlp.vocab.vectors.shape"
   ]
  },
  {
   "cell_type": "code",
   "execution_count": 9,
   "id": "single-bubble",
   "metadata": {},
   "outputs": [],
   "source": [
    "# Check if a vector exists\n",
    "tokens = nlp(u'Hello Apple JohnCena')"
   ]
  },
  {
   "cell_type": "code",
   "execution_count": 10,
   "id": "absolute-hardware",
   "metadata": {},
   "outputs": [
    {
     "name": "stdout",
     "output_type": "stream",
     "text": [
      "Hello True 5.586428 False\n",
      "Apple True 7.1346846 False\n",
      "JohnCena False 0.0 True\n"
     ]
    }
   ],
   "source": [
    "for t in tokens:\n",
    "    print(t.text, t.has_vector, t.vector_norm, t.is_oov)"
   ]
  },
  {
   "cell_type": "markdown",
   "id": "reserved-prince",
   "metadata": {},
   "source": [
    "`# Calculating Cosine Similarity`"
   ]
  },
  {
   "cell_type": "code",
   "execution_count": 11,
   "id": "vietnamese-disability",
   "metadata": {},
   "outputs": [],
   "source": [
    "from scipy import spatial\n",
    "\n",
    "cosine_similarity = lambda vec1, vec2: 1 - spatial.distance.cosine(vec1, vec2)"
   ]
  },
  {
   "cell_type": "code",
   "execution_count": 12,
   "id": "romantic-scanning",
   "metadata": {},
   "outputs": [],
   "source": [
    "man = nlp.vocab['man'].vector\n",
    "woman = nlp.vocab['woman'].vector\n",
    "king = nlp.vocab['king'].vector\n",
    "\n",
    "new_vector = king - man + woman ## This new_vector should be similar to queen or princess"
   ]
  },
  {
   "cell_type": "code",
   "execution_count": 13,
   "id": "bored-steam",
   "metadata": {},
   "outputs": [],
   "source": [
    "# finding the possible computed similarities\n",
    "computed_similarity = []\n",
    "\n",
    "## Finding all words in the vocabulary\n",
    "for word in nlp.vocab:\n",
    "    if word.has_vector:\n",
    "        if word.is_lower:\n",
    "            if word.is_alpha:  # should not be a number\n",
    "                similarity = cosine_similarity(new_vector, word.vector)\n",
    "                computed_similarity.append((word, similarity)) ## List of tuples"
   ]
  },
  {
   "cell_type": "code",
   "execution_count": 14,
   "id": "athletic-jenny",
   "metadata": {},
   "outputs": [],
   "source": [
    "## Let's sort the list of tuples now\n",
    "computed_similarity = sorted(computed_similarity, key=lambda item:-item[1]) ## `lambda item:-item[1]` means the descending order of the item at index(1) which is `similarity`.\n",
    "## This is a fancy way of sorting the tuples based on descending values of their similarity."
   ]
  },
  {
   "cell_type": "code",
   "execution_count": 15,
   "id": "virtual-correspondence",
   "metadata": {},
   "outputs": [
    {
     "name": "stdout",
     "output_type": "stream",
     "text": [
      "['king', 'woman', 'she', 'lion', 'who', 'young', 'when', 'dare', 'was', 'not']\n"
     ]
    }
   ],
   "source": [
    "print([t[0].text for t in computed_similarity[:10]]) # grabbing first word in tuple and doing that for top 10 words."
   ]
  },
  {
   "cell_type": "code",
   "execution_count": null,
   "id": "unsigned-calculator",
   "metadata": {},
   "outputs": [],
   "source": []
  }
 ],
 "metadata": {
  "kernelspec": {
   "display_name": "Python 3",
   "language": "python",
   "name": "python3"
  },
  "language_info": {
   "codemirror_mode": {
    "name": "ipython",
    "version": 3
   },
   "file_extension": ".py",
   "mimetype": "text/x-python",
   "name": "python",
   "nbconvert_exporter": "python",
   "pygments_lexer": "ipython3",
   "version": "3.7.9"
  }
 },
 "nbformat": 4,
 "nbformat_minor": 5
}
