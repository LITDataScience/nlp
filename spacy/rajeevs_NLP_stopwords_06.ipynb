{
 "cells": [
  {
   "cell_type": "code",
   "execution_count": 1,
   "metadata": {},
   "outputs": [],
   "source": [
    "# Perform standard imports:\n",
    "import spacy\n",
    "nlp = spacy.load('en_core_web_lg')"
   ]
  },
  {
   "cell_type": "code",
   "execution_count": 13,
   "metadata": {},
   "outputs": [
    {
     "name": "stdout",
     "output_type": "stream",
     "text": [
      "{'to', 'me', 'nor', 'first', 'same', '‘ll', 'anyone', 'across', 'either', 'amount', 'beforehand', 'i', 'upon', 'nevertheless', 'thereby', 'under', 'someone', 'an', 'third', 'seeming', 'therein', 'seem', 'the', '‘s', 'did', 'hers', 'itself', 'might', 'fifteen', 'please', 'five', 'never', 'up', 'becoming', 'was', 'whom', 'get', 'along', 'side', 'already', '‘d', 'latter', 'our', 'ca', 'indeed', 'which', 'and', 'ours', 'others', 'regarding', 'beside', 'then', 'those', 'whence', 'between', 'myself', 'been', 'other', 'anyway', 'one', 'thereafter', 'not', 'over', 'everyone', 'make', 'take', 'less', 'n‘t', 'any', 'am', 'there', 'noone', 'but', 'call', 'something', 'onto', 're', 'though', '’d', 'hereafter', 'would', 'go', 'keep', 'twenty', 'against', 'whose', '‘m', 'how', 'whereby', 'wherein', 'whoever', 'himself', 'rather', 'being', 'yet', 'done', 'should', 'because', 'nothing', 'often', 'both', 'really', 'well', 'for', 'anyhow', 'somewhere', 'due', \"'s\", 'afterwards', 'ten', 'is', 'become', 'we', 'throughout', 'eleven', 'she', 'serious', 'more', 'their', 'with', 'or', 'namely', 'front', 'together', 'into', 'seems', '’ll', 'why', 'can', 'during', 'hereupon', 'that', 'amongst', '‘ve', 'say', 'twelve', 'as', 'out', 'last', 'now', 'elsewhere', \"n't\", 'where', 'quite', \"'m\", 'nobody', 'per', 'your', 'beyond', 'meanwhile', 'just', 'when', 'nowhere', 'it', 'sometimes', 'whither', 'n’t', 'wherever', 'too', 'former', 'could', 'except', 'mine', 'these', 'some', 'otherwise', 'ourselves', 'yourself', 'most', 'what', 'here', 'through', 'few', 'around', 'so', 'therefore', 'anywhere', 'from', 'always', 'thus', 'above', 'ever', 'have', 'thru', 'eight', 'him', 'using', 'every', 'however', 'unless', 'part', 'enough', 'be', 'were', 'without', '’re', 'even', 'in', 'top', 'of', 'whereupon', 'each', 'still', 'at', 'whenever', 'must', 'made', 'move', 'after', 'will', 'hence', 'very', \"'d\", 'whereafter', 'besides', 'yourselves', 'off', \"'ve\", 'own', '’m', 'moreover', 'until', 'back', 'doing', 'his', 'empty', 'if', 'mostly', 'many', 'everything', 'seemed', 'before', 'least', 'yours', 'see', 'are', 'perhaps', 'down', 'her', 'formerly', 'whole', 'all', 'behind', 'give', 'becomes', 'bottom', 'my', 'among', 'via', 'almost', 'herein', 'this', 'than', 'further', 'cannot', 'put', 'whatever', 'show', 'latterly', 'hundred', 'may', 'name', 'has', 'such', 'else', 'next', 'fifty', 'themselves', 'on', 'sometime', 'within', 'two', 'thereupon', 'by', 'once', 'does', 'who', 'hereby', 'you', 'anything', 'towards', 'four', 'only', 'nine', 'toward', 'none', 'alone', 'sixty', 'us', 'although', 'full', 'became', 'everywhere', 'no', \"'ll\", 'used', 'whereas', 'several', '’ve', 'somehow', 'them', 'neither', 'again', 'about', 'thence', 'below', 'another', 'forty', 'while', 'a', 'whether', 'various', 'also', 'do', 'its', 'six', 'he', 'much', 'they', 'three', '’s', \"'re\", 'herself', '‘re', 'since', 'had'}\n",
      "\n",
      "Total Number of stop words in the above list is: 326\n"
     ]
    }
   ],
   "source": [
    "# Print the set of spaCy's default stop words (remember that sets are unordered):\n",
    "print(f\"{nlp.Defaults.stop_words}\\n\\nTotal Number of stop words in the above list is: {len(nlp.Defaults.stop_words)}\" )"
   ]
  },
  {
   "cell_type": "code",
   "execution_count": 14,
   "metadata": {},
   "outputs": [
    {
     "data": {
      "text/plain": [
       "True"
      ]
     },
     "execution_count": 14,
     "metadata": {},
     "output_type": "execute_result"
    }
   ],
   "source": [
    "nlp.vocab['myself'].is_stop"
   ]
  },
  {
   "cell_type": "code",
   "execution_count": 15,
   "metadata": {},
   "outputs": [
    {
     "data": {
      "text/plain": [
       "False"
      ]
     },
     "execution_count": 15,
     "metadata": {},
     "output_type": "execute_result"
    }
   ],
   "source": [
    "nlp.vocab['mystery'].is_stop"
   ]
  },
  {
   "cell_type": "code",
   "execution_count": 16,
   "metadata": {},
   "outputs": [],
   "source": [
    "# Add the word to the set of stop words. Use lowercase!\n",
    "nlp.Defaults.stop_words.add('btw')\n",
    "\n",
    "# Set the stop_word tag on the lexeme\n",
    "nlp.vocab['btw'].is_stop = True"
   ]
  },
  {
   "cell_type": "code",
   "execution_count": 17,
   "metadata": {},
   "outputs": [
    {
     "data": {
      "text/plain": [
       "327"
      ]
     },
     "execution_count": 17,
     "metadata": {},
     "output_type": "execute_result"
    }
   ],
   "source": [
    "len(nlp.Defaults.stop_words)"
   ]
  },
  {
   "cell_type": "code",
   "execution_count": null,
   "metadata": {},
   "outputs": [],
   "source": []
  }
 ],
 "metadata": {
  "kernelspec": {
   "display_name": "Python 3",
   "language": "python",
   "name": "python3"
  },
  "language_info": {
   "codemirror_mode": {
    "name": "ipython",
    "version": 3
   },
   "file_extension": ".py",
   "mimetype": "text/x-python",
   "name": "python",
   "nbconvert_exporter": "python",
   "pygments_lexer": "ipython3",
   "version": "3.7.9"
  }
 },
 "nbformat": 4,
 "nbformat_minor": 4
}
