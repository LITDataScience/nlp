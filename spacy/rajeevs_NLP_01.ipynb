{
 "cells": [
  {
   "cell_type": "code",
   "execution_count": 1,
   "metadata": {},
   "outputs": [],
   "source": [
    "# Importing the spacy library\n",
    "import spacy"
   ]
  },
  {
   "cell_type": "code",
   "execution_count": 14,
   "metadata": {},
   "outputs": [],
   "source": [
    "# Download the models with:\n",
    "\n",
    "## python -m spacy download en_core_web_sm\n",
    "## python -m spacy download en_core_web_md\n",
    "## python -m spacy download en_core_web_lg\n",
    "\n",
    "# Loading the small version of the model\n",
    "nlp = spacy.load('en_core_web_md')"
   ]
  },
  {
   "cell_type": "code",
   "execution_count": 15,
   "metadata": {},
   "outputs": [],
   "source": [
    "# Any random string\n",
    "doc = nlp(u'Volvo is looking at buying I.S.A.A.C Robotics support from NVIDIA at $6 million')"
   ]
  },
  {
   "cell_type": "code",
   "execution_count": 16,
   "metadata": {},
   "outputs": [
    {
     "name": "stdout",
     "output_type": "stream",
     "text": [
      "Volvo   |96| PROPN| nsubj|\n",
      "is   |87| AUX| aux|\n",
      "looking   |100| VERB| ROOT|\n",
      "at   |85| ADP| prep|\n",
      "buying   |100| VERB| pcomp|\n",
      "I.S.A.A.C   |96| PROPN| punct|\n",
      "Robotics   |96| PROPN| compound|\n",
      "support   |92| NOUN| dobj|\n",
      "from   |85| ADP| prep|\n",
      "NVIDIA   |96| PROPN| pobj|\n",
      "at   |85| ADP| prep|\n",
      "$   |99| SYM| quantmod|\n",
      "6   |93| NUM| compound|\n",
      "million   |93| NUM| pobj|\n"
     ]
    }
   ],
   "source": [
    "# Spacy has prebuilt functions. It can do various things with the provided text.\n",
    "for token in doc:\n",
    "    print(f\"{token.text}   |{token.pos}| {token.pos_}| {token.dep_}|\")"
   ]
  },
  {
   "cell_type": "code",
   "execution_count": 17,
   "metadata": {},
   "outputs": [
    {
     "data": {
      "text/plain": [
       "[('tagger', <spacy.pipeline.pipes.Tagger at 0x1ad08e3ec88>),\n",
       " ('parser', <spacy.pipeline.pipes.DependencyParser at 0x1ad04261a08>),\n",
       " ('ner', <spacy.pipeline.pipes.EntityRecognizer at 0x1ad08ecc768>)]"
      ]
     },
     "execution_count": 17,
     "metadata": {},
     "output_type": "execute_result"
    }
   ],
   "source": [
    "# Spacy's processing pipeline\n",
    "nlp.pipeline"
   ]
  },
  {
   "cell_type": "code",
   "execution_count": 18,
   "metadata": {},
   "outputs": [
    {
     "data": {
      "text/plain": [
       "['tagger', 'parser', 'ner']"
      ]
     },
     "execution_count": 18,
     "metadata": {},
     "output_type": "execute_result"
    }
   ],
   "source": [
    "nlp.pipe_names"
   ]
  },
  {
   "cell_type": "code",
   "execution_count": 19,
   "metadata": {},
   "outputs": [
    {
     "data": {
      "text/plain": [
       "'PROPN'"
      ]
     },
     "execution_count": 19,
     "metadata": {},
     "output_type": "execute_result"
    }
   ],
   "source": [
    "doc[0].pos_"
   ]
  },
  {
   "cell_type": "code",
   "execution_count": 20,
   "metadata": {},
   "outputs": [
    {
     "data": {
      "text/plain": [
       "'nsubj'"
      ]
     },
     "execution_count": 20,
     "metadata": {},
     "output_type": "execute_result"
    }
   ],
   "source": [
    "doc[0].dep_"
   ]
  }
 ],
 "metadata": {
  "kernelspec": {
   "display_name": "Python 3",
   "language": "python",
   "name": "python3"
  },
  "language_info": {
   "codemirror_mode": {
    "name": "ipython",
    "version": 3
   },
   "file_extension": ".py",
   "mimetype": "text/x-python",
   "name": "python",
   "nbconvert_exporter": "python",
   "pygments_lexer": "ipython3",
   "version": "3.7.9"
  }
 },
 "nbformat": 4,
 "nbformat_minor": 4
}
