{
  "nbformat": 4,
  "nbformat_minor": 0,
  "metadata": {
    "colab": {
      "name": "MovieData2.ipynb",
      "provenance": [],
      "collapsed_sections": []
    },
    "kernelspec": {
      "name": "python3",
      "display_name": "Python 3"
    }
  },
  "cells": [
    {
      "cell_type": "code",
      "metadata": {
        "id": "BTBH_SYROiY2"
      },
      "source": [
        "import numpy as np\r\n",
        "import pandas as pd"
      ],
      "execution_count": 1,
      "outputs": []
    },
    {
      "cell_type": "code",
      "metadata": {
        "colab": {
          "base_uri": "https://localhost:8080/",
          "height": 203
        },
        "id": "R-kaZxkMO2VE",
        "outputId": "5f650c0b-ed2b-463d-f598-827cd253b10e"
      },
      "source": [
        "df = pd.read_csv('/content/moviereviews2.tsv', sep='\\t')\r\n",
        "df.head()"
      ],
      "execution_count": 2,
      "outputs": [
        {
          "output_type": "execute_result",
          "data": {
            "text/html": [
              "<div>\n",
              "<style scoped>\n",
              "    .dataframe tbody tr th:only-of-type {\n",
              "        vertical-align: middle;\n",
              "    }\n",
              "\n",
              "    .dataframe tbody tr th {\n",
              "        vertical-align: top;\n",
              "    }\n",
              "\n",
              "    .dataframe thead th {\n",
              "        text-align: right;\n",
              "    }\n",
              "</style>\n",
              "<table border=\"1\" class=\"dataframe\">\n",
              "  <thead>\n",
              "    <tr style=\"text-align: right;\">\n",
              "      <th></th>\n",
              "      <th>label</th>\n",
              "      <th>review</th>\n",
              "    </tr>\n",
              "  </thead>\n",
              "  <tbody>\n",
              "    <tr>\n",
              "      <th>0</th>\n",
              "      <td>pos</td>\n",
              "      <td>I loved this movie and will watch it again. Or...</td>\n",
              "    </tr>\n",
              "    <tr>\n",
              "      <th>1</th>\n",
              "      <td>pos</td>\n",
              "      <td>A warm, touching movie that has a fantasy-like...</td>\n",
              "    </tr>\n",
              "    <tr>\n",
              "      <th>2</th>\n",
              "      <td>pos</td>\n",
              "      <td>I was not expecting the powerful filmmaking ex...</td>\n",
              "    </tr>\n",
              "    <tr>\n",
              "      <th>3</th>\n",
              "      <td>neg</td>\n",
              "      <td>This so-called \"documentary\" tries to tell tha...</td>\n",
              "    </tr>\n",
              "    <tr>\n",
              "      <th>4</th>\n",
              "      <td>pos</td>\n",
              "      <td>This show has been my escape from reality for ...</td>\n",
              "    </tr>\n",
              "  </tbody>\n",
              "</table>\n",
              "</div>"
            ],
            "text/plain": [
              "  label                                             review\n",
              "0   pos  I loved this movie and will watch it again. Or...\n",
              "1   pos  A warm, touching movie that has a fantasy-like...\n",
              "2   pos  I was not expecting the powerful filmmaking ex...\n",
              "3   neg  This so-called \"documentary\" tries to tell tha...\n",
              "4   pos  This show has been my escape from reality for ..."
            ]
          },
          "metadata": {
            "tags": []
          },
          "execution_count": 2
        }
      ]
    },
    {
      "cell_type": "code",
      "metadata": {
        "colab": {
          "base_uri": "https://localhost:8080/"
        },
        "id": "UCVc-AHbPAex",
        "outputId": "5a8587de-dab6-4078-ab68-999233a16c30"
      },
      "source": [
        "len(df)"
      ],
      "execution_count": 3,
      "outputs": [
        {
          "output_type": "execute_result",
          "data": {
            "text/plain": [
              "6000"
            ]
          },
          "metadata": {
            "tags": []
          },
          "execution_count": 3
        }
      ]
    },
    {
      "cell_type": "code",
      "metadata": {
        "colab": {
          "base_uri": "https://localhost:8080/"
        },
        "id": "FBRvLCW_PG-S",
        "outputId": "10eb6565-6f0b-496e-e727-bb8d7750e02e"
      },
      "source": [
        "print(df['review'][0]) ## Let's check a negative review of the movie"
      ],
      "execution_count": 4,
      "outputs": [
        {
          "output_type": "stream",
          "text": [
            "I loved this movie and will watch it again. Original twist to Plot of Man vs Man vs Self. I think this is Kurt Russell's best movie. His eyes conveyed more than most actors words. Perhaps there's hope for Mankind in spite of Government Intervention?\n"
          ],
          "name": "stdout"
        }
      ]
    },
    {
      "cell_type": "code",
      "metadata": {
        "id": "WNpY2zehPMqf",
        "colab": {
          "base_uri": "https://localhost:8080/"
        },
        "outputId": "d0ed2647-f378-4ae3-a536-4a5a45839671"
      },
      "source": [
        "print(df['review'][2]) ## Let's check a positive review of the movie"
      ],
      "execution_count": 5,
      "outputs": [
        {
          "output_type": "stream",
          "text": [
            "I was not expecting the powerful filmmaking experience of \"Girlfight\". It's an Indie; low-budget, no big-name actors, freshman director. I had heard it was good, but not this good.<br /><br />Placed in a contemporary, ethnic, working-class Brooklyn, Karyn Kusama has done an extraordinary job of capturing the day-do-day struggles of urban Latinos. Diana, the protagonist, is seething with anger and lashes out at her high school peers, getting in trouble with the school and her friends. She is being raised by her single father, who appears to love her and her brother, but applies a strict, sex-based double standard on his children. The father's double standard is illustrated by the fact that Tiny, the brother, is taking boxing lessons at the local gym, but Diana is denied similar pursuits. On an errand to the gym to meet Tiny, Diana is captivated by boxing. Tiny doesn't like boxing, so he and Diana trade places; he gets the money from Dad then gives it to Diana to take the lessons in his place.<br /><br />This is actually a feel-good movie, as Diana grows and learns about herself through boxing, meets a guy, and addresses some very serious issues head-on. There's no giggly, 'everything that can go right does go right' resolution a la \"Bend It Like Beckham\". The reality and attendant personal issues are too big for pat resolutions, but in my opinion, \"Girlfight\" is a better and more satisfying film for it.\n"
          ],
          "name": "stdout"
        }
      ]
    },
    {
      "cell_type": "markdown",
      "metadata": {
        "id": "fcNMMaob0NPC"
      },
      "source": [
        "\r\n",
        "\r\n",
        "```\r\n",
        "# Let's train the raw text to predict if a new review is positive or negative!\r\n",
        "```\r\n",
        "\r\n"
      ]
    },
    {
      "cell_type": "code",
      "metadata": {
        "colab": {
          "base_uri": "https://localhost:8080/"
        },
        "id": "nxcs6szH0TaD",
        "outputId": "64e76352-2764-4254-cfaa-f543c5b030e6"
      },
      "source": [
        "## Checking for missing values first\r\n",
        "df.isnull().sum()"
      ],
      "execution_count": 6,
      "outputs": [
        {
          "output_type": "execute_result",
          "data": {
            "text/plain": [
              "label      0\n",
              "review    20\n",
              "dtype: int64"
            ]
          },
          "metadata": {
            "tags": []
          },
          "execution_count": 6
        }
      ]
    },
    {
      "cell_type": "markdown",
      "metadata": {
        "id": "FYf2TF7k02ZW"
      },
      "source": [
        "\r\n",
        "\r\n",
        "```\r\n",
        "# In the above, we're not missing any labels but 35 reviews are missing! Let's remove these empty values.\r\n",
        "```\r\n",
        "\r\n"
      ]
    },
    {
      "cell_type": "code",
      "metadata": {
        "id": "3r7_QqIh1DE7"
      },
      "source": [
        "df.dropna(inplace=True) # inplace=True makes a permanent drop of the missing values"
      ],
      "execution_count": 7,
      "outputs": []
    },
    {
      "cell_type": "code",
      "metadata": {
        "colab": {
          "base_uri": "https://localhost:8080/"
        },
        "id": "qQ-ho16N1aqS",
        "outputId": "c2c38ef5-0d18-4e1b-f8cc-ece990284571"
      },
      "source": [
        "df.isnull().sum()"
      ],
      "execution_count": 8,
      "outputs": [
        {
          "output_type": "execute_result",
          "data": {
            "text/plain": [
              "label     0\n",
              "review    0\n",
              "dtype: int64"
            ]
          },
          "metadata": {
            "tags": []
          },
          "execution_count": 8
        }
      ]
    },
    {
      "cell_type": "code",
      "metadata": {
        "id": "PwrvN4Zo1d1F"
      },
      "source": [
        "## This will drop empty strings.\r\n",
        "blanks = []\r\n",
        "\r\n",
        "for i, lb, rv in df.itertuples():\r\n",
        "  if rv.isspace():\r\n",
        "    blanks.append(i) # Here I'm collecting index position of these blanks statements"
      ],
      "execution_count": 9,
      "outputs": []
    },
    {
      "cell_type": "code",
      "metadata": {
        "colab": {
          "base_uri": "https://localhost:8080/"
        },
        "id": "SSoAzI1e27aJ",
        "outputId": "0bbb9b09-e746-4a7c-d69b-ac4cdcf6ff35"
      },
      "source": [
        "blanks"
      ],
      "execution_count": 10,
      "outputs": [
        {
          "output_type": "execute_result",
          "data": {
            "text/plain": [
              "[]"
            ]
          },
          "metadata": {
            "tags": []
          },
          "execution_count": 10
        }
      ]
    },
    {
      "cell_type": "code",
      "metadata": {
        "id": "8m1RluhB3TEx"
      },
      "source": [
        "# Let's drop these indexes with blanks\r\n",
        "df.drop(blanks, inplace=True)"
      ],
      "execution_count": 11,
      "outputs": []
    },
    {
      "cell_type": "code",
      "metadata": {
        "colab": {
          "base_uri": "https://localhost:8080/"
        },
        "id": "XpA5cMBh3exn",
        "outputId": "847953e7-18c0-46c3-8d36-2bf58c62cb07"
      },
      "source": [
        "len(df) ## New length of cleaned dataframe (dropping missing data and empty strings data)"
      ],
      "execution_count": 12,
      "outputs": [
        {
          "output_type": "execute_result",
          "data": {
            "text/plain": [
              "5980"
            ]
          },
          "metadata": {
            "tags": []
          },
          "execution_count": 12
        }
      ]
    },
    {
      "cell_type": "code",
      "metadata": {
        "id": "F_-Qxk5i3jGM"
      },
      "source": [
        "from sklearn.model_selection import train_test_split\r\n",
        "X = df['review']\r\n",
        "y = df['label']"
      ],
      "execution_count": 13,
      "outputs": []
    },
    {
      "cell_type": "code",
      "metadata": {
        "id": "_OMq4g5X4j41"
      },
      "source": [
        "X_train, X_test, y_train, y_test = train_test_split(X, y, test_size=0.33, random_state=42)"
      ],
      "execution_count": 14,
      "outputs": []
    },
    {
      "cell_type": "markdown",
      "metadata": {
        "id": "2KDMWsLn4wxk"
      },
      "source": [
        "\r\n",
        "\r\n",
        "```\r\n",
        "# Let's build a pipeline\r\n",
        "```\r\n",
        "\r\n"
      ]
    },
    {
      "cell_type": "code",
      "metadata": {
        "id": "b43gvYbx4zBn"
      },
      "source": [
        "from sklearn.pipeline import Pipeline\r\n",
        "from sklearn.feature_extraction.text import TfidfVectorizer\r\n",
        "from sklearn.svm import LinearSVC"
      ],
      "execution_count": 15,
      "outputs": []
    },
    {
      "cell_type": "code",
      "metadata": {
        "id": "LXuGj-1E5Deb"
      },
      "source": [
        "test_clf = Pipeline([('tfidf', TfidfVectorizer()),\r\n",
        "                     ('clf', LinearSVC())]).fit(X_train, y_train)"
      ],
      "execution_count": 16,
      "outputs": []
    },
    {
      "cell_type": "code",
      "metadata": {
        "id": "Aft7MB9d6HRh"
      },
      "source": [
        "predictions = test_clf.predict(X_test)"
      ],
      "execution_count": 17,
      "outputs": []
    },
    {
      "cell_type": "code",
      "metadata": {
        "id": "quciHX2r6Unc"
      },
      "source": [
        "from sklearn import metrics\r\n",
        "from sklearn.metrics import confusion_matrix, classification_report"
      ],
      "execution_count": 18,
      "outputs": []
    },
    {
      "cell_type": "code",
      "metadata": {
        "colab": {
          "base_uri": "https://localhost:8080/"
        },
        "id": "8TDm9pBt6izc",
        "outputId": "24f3d621-49b2-40da-c5a6-b16d1f059476"
      },
      "source": [
        "print(confusion_matrix(y_test, predictions))\r\n",
        "print(f'--------------------------------------------------------')\r\n",
        "print(classification_report(y_test, predictions))"
      ],
      "execution_count": 19,
      "outputs": [
        {
          "output_type": "stream",
          "text": [
            "[[900  91]\n",
            " [ 63 920]]\n",
            "--------------------------------------------------------\n",
            "              precision    recall  f1-score   support\n",
            "\n",
            "         neg       0.93      0.91      0.92       991\n",
            "         pos       0.91      0.94      0.92       983\n",
            "\n",
            "    accuracy                           0.92      1974\n",
            "   macro avg       0.92      0.92      0.92      1974\n",
            "weighted avg       0.92      0.92      0.92      1974\n",
            "\n"
          ],
          "name": "stdout"
        }
      ]
    },
    {
      "cell_type": "code",
      "metadata": {
        "colab": {
          "base_uri": "https://localhost:8080/"
        },
        "id": "dWUNp1Mj6pHp",
        "outputId": "3a8335bf-d455-4a9a-990f-f7219fdd6d44"
      },
      "source": [
        "print(metrics.accuracy_score(y_test, predictions))"
      ],
      "execution_count": 20,
      "outputs": [
        {
          "output_type": "stream",
          "text": [
            "0.9219858156028369\n"
          ],
          "name": "stdout"
        }
      ]
    },
    {
      "cell_type": "code",
      "metadata": {
        "id": "HRET1Lfl8lYF"
      },
      "source": [
        ""
      ],
      "execution_count": 20,
      "outputs": []
    }
  ]
}