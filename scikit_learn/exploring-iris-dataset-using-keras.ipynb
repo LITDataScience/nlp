{
 "cells": [
  {
   "cell_type": "markdown",
   "metadata": {
    "papermill": {
     "duration": 0.058415,
     "end_time": "2021-01-25T11:54:53.500987",
     "exception": false,
     "start_time": "2021-01-25T11:54:53.442572",
     "status": "completed"
    },
    "tags": []
   },
   "source": [
    "![](https://s3.amazonaws.com/assets.datacamp.com/blog_assets/Machine+Learning+R/iris-machinelearning.png)"
   ]
  },
  {
   "cell_type": "markdown",
   "metadata": {
    "papermill": {
     "duration": 0.059185,
     "end_time": "2021-01-25T11:54:53.635017",
     "exception": false,
     "start_time": "2021-01-25T11:54:53.575832",
     "status": "completed"
    },
    "tags": []
   },
   "source": [
    "<a id=\"1.1\"></a>\n",
    "<h3 style=\"background-color:gold;font-family:newtimeroman;font-size:200%;text-align:center\">IRIS DATASET using Scikit-Learn</h3>"
   ]
  },
  {
   "cell_type": "markdown",
   "metadata": {
    "papermill": {
     "duration": 0.060287,
     "end_time": "2021-01-25T11:54:53.754601",
     "exception": false,
     "start_time": "2021-01-25T11:54:53.694314",
     "status": "completed"
    },
    "tags": []
   },
   "source": [
    "**<font size=\"3\"><a href=\"#chap1\">1. Imports</a></font>**\n",
    "**<br><font size=\"3\"><a href=\"#chap2\">2. Loading the dataset</a></font>**\n",
    "**<br><font size=\"3\"><a href=\"#chap3\">3. Reading the dataset</a></font>**\n",
    "**<br><font size=\"3\"><a href=\"#chap4\">4. Split the Data into Training and Test</a></font>**\n",
    "**<br><font size=\"3\"><a href=\"#chap5\">5. Preprocessing and Standardizing the Data</a></font>**\n",
    "**<br><font size=\"3\"><a href=\"#chap6\">6. Building the Network with Keras</a></font>**\n",
    "**<br><font size=\"3\"><a href=\"#chap7\">7. Model Training</a></font>**\n",
    "**<br><font size=\"3\"><a href=\"#chap8\">8. Predicting the model</a></font>**\n",
    "**<br><font size=\"3\"><a href=\"#chap9\">9. Model Performance evaluation</a></font>**\n",
    "**<br><font size=\"3\"><a href=\"#chap10\">10. Saving the model</a></font>**"
   ]
  },
  {
   "cell_type": "markdown",
   "metadata": {
    "papermill": {
     "duration": 0.059114,
     "end_time": "2021-01-25T11:54:53.917117",
     "exception": false,
     "start_time": "2021-01-25T11:54:53.858003",
     "status": "completed"
    },
    "tags": []
   },
   "source": [
    "<a id=\"chap1\"></a>\n",
    "<h3 style=\"background-color:gold;font-family:newtimeroman;font-size:200%;text-align:center\">Imports</h3>"
   ]
  },
  {
   "cell_type": "markdown",
   "metadata": {
    "papermill": {
     "duration": 0.057599,
     "end_time": "2021-01-25T11:54:54.032603",
     "exception": false,
     "start_time": "2021-01-25T11:54:53.975004",
     "status": "completed"
    },
    "tags": []
   },
   "source": [
    "We're going to use the famous **IRIS dataset**.\n",
    "More info on the data set is available on [Wikipedia](https://en.wikipedia.org/wiki/Iris_flower_data_set)"
   ]
  },
  {
   "cell_type": "markdown",
   "metadata": {
    "papermill": {
     "duration": 0.057018,
     "end_time": "2021-01-25T11:54:54.147583",
     "exception": false,
     "start_time": "2021-01-25T11:54:54.090565",
     "status": "completed"
    },
    "tags": []
   },
   "source": [
    "![Graphical view for Data Clustering](https://upload.wikimedia.org/wikipedia/commons/thumb/5/56/Iris_dataset_scatterplot.svg/1200px-Iris_dataset_scatterplot.svg.png)"
   ]
  },
  {
   "cell_type": "code",
   "execution_count": 1,
   "metadata": {
    "_cell_guid": "b1076dfc-b9ad-4769-8c92-a6c4dae69d19",
    "_uuid": "8f2839f25d086af736a60e9eeb907d3b93b6e0e5",
    "execution": {
     "iopub.execute_input": "2021-01-25T11:54:54.283868Z",
     "iopub.status.busy": "2021-01-25T11:54:54.282857Z",
     "iopub.status.idle": "2021-01-25T11:54:54.287079Z",
     "shell.execute_reply": "2021-01-25T11:54:54.287764Z"
    },
    "papermill": {
     "duration": 0.08227,
     "end_time": "2021-01-25T11:54:54.287962",
     "exception": false,
     "start_time": "2021-01-25T11:54:54.205692",
     "status": "completed"
    },
    "tags": []
   },
   "outputs": [],
   "source": [
    "import numpy as np # linear algebra\n",
    "import pandas as pd # data processing, CSV file I/O (e.g. pd.read_csv)"
   ]
  },
  {
   "cell_type": "code",
   "execution_count": 2,
   "metadata": {
    "execution": {
     "iopub.execute_input": "2021-01-25T11:54:54.397438Z",
     "iopub.status.busy": "2021-01-25T11:54:54.396642Z",
     "iopub.status.idle": "2021-01-25T11:54:55.260150Z",
     "shell.execute_reply": "2021-01-25T11:54:55.259294Z"
    },
    "papermill": {
     "duration": 0.909284,
     "end_time": "2021-01-25T11:54:55.260271",
     "exception": false,
     "start_time": "2021-01-25T11:54:54.350987",
     "status": "completed"
    },
    "tags": []
   },
   "outputs": [],
   "source": [
    "from sklearn.model_selection import train_test_split\n",
    "from sklearn.metrics import accuracy_score, precision_score, recall_score"
   ]
  },
  {
   "cell_type": "code",
   "execution_count": 3,
   "metadata": {
    "execution": {
     "iopub.execute_input": "2021-01-25T11:54:55.350226Z",
     "iopub.status.busy": "2021-01-25T11:54:55.349343Z",
     "iopub.status.idle": "2021-01-25T11:54:55.428485Z",
     "shell.execute_reply": "2021-01-25T11:54:55.427862Z"
    },
    "papermill": {
     "duration": 0.125919,
     "end_time": "2021-01-25T11:54:55.428596",
     "exception": false,
     "start_time": "2021-01-25T11:54:55.302677",
     "status": "completed"
    },
    "tags": []
   },
   "outputs": [],
   "source": [
    "from sklearn.datasets import load_iris"
   ]
  },
  {
   "cell_type": "markdown",
   "metadata": {
    "papermill": {
     "duration": 0.042177,
     "end_time": "2021-01-25T11:54:55.513856",
     "exception": false,
     "start_time": "2021-01-25T11:54:55.471679",
     "status": "completed"
    },
    "tags": []
   },
   "source": [
    "<a id=\"chap2\"></a>\n",
    "<h3 style=\"background-color:gold;font-family:newtimeroman;font-size:200%;text-align:center\">Loading the dataset</h3>"
   ]
  },
  {
   "cell_type": "code",
   "execution_count": 4,
   "metadata": {
    "execution": {
     "iopub.execute_input": "2021-01-25T11:54:55.604775Z",
     "iopub.status.busy": "2021-01-25T11:54:55.604020Z",
     "iopub.status.idle": "2021-01-25T11:54:55.615449Z",
     "shell.execute_reply": "2021-01-25T11:54:55.614902Z"
    },
    "papermill": {
     "duration": 0.059186,
     "end_time": "2021-01-25T11:54:55.615561",
     "exception": false,
     "start_time": "2021-01-25T11:54:55.556375",
     "status": "completed"
    },
    "tags": []
   },
   "outputs": [
    {
     "data": {
      "text/plain": [
       "sklearn.utils.Bunch"
      ]
     },
     "execution_count": 4,
     "metadata": {},
     "output_type": "execute_result"
    }
   ],
   "source": [
    "iris = load_iris()\n",
    "type(iris) ## Specialized Bunch Object"
   ]
  },
  {
   "cell_type": "code",
   "execution_count": 5,
   "metadata": {
    "execution": {
     "iopub.execute_input": "2021-01-25T11:54:55.707883Z",
     "iopub.status.busy": "2021-01-25T11:54:55.706999Z",
     "iopub.status.idle": "2021-01-25T11:54:55.711365Z",
     "shell.execute_reply": "2021-01-25T11:54:55.712006Z"
    },
    "papermill": {
     "duration": 0.053084,
     "end_time": "2021-01-25T11:54:55.712129",
     "exception": false,
     "start_time": "2021-01-25T11:54:55.659045",
     "status": "completed"
    },
    "tags": []
   },
   "outputs": [
    {
     "name": "stdout",
     "output_type": "stream",
     "text": [
      ".. _iris_dataset:\n",
      "\n",
      "Iris plants dataset\n",
      "--------------------\n",
      "\n",
      "**Data Set Characteristics:**\n",
      "\n",
      "    :Number of Instances: 150 (50 in each of three classes)\n",
      "    :Number of Attributes: 4 numeric, predictive attributes and the class\n",
      "    :Attribute Information:\n",
      "        - sepal length in cm\n",
      "        - sepal width in cm\n",
      "        - petal length in cm\n",
      "        - petal width in cm\n",
      "        - class:\n",
      "                - Iris-Setosa\n",
      "                - Iris-Versicolour\n",
      "                - Iris-Virginica\n",
      "                \n",
      "    :Summary Statistics:\n",
      "\n",
      "    ============== ==== ==== ======= ===== ====================\n",
      "                    Min  Max   Mean    SD   Class Correlation\n",
      "    ============== ==== ==== ======= ===== ====================\n",
      "    sepal length:   4.3  7.9   5.84   0.83    0.7826\n",
      "    sepal width:    2.0  4.4   3.05   0.43   -0.4194\n",
      "    petal length:   1.0  6.9   3.76   1.76    0.9490  (high!)\n",
      "    petal width:    0.1  2.5   1.20   0.76    0.9565  (high!)\n",
      "    ============== ==== ==== ======= ===== ====================\n",
      "\n",
      "    :Missing Attribute Values: None\n",
      "    :Class Distribution: 33.3% for each of 3 classes.\n",
      "    :Creator: R.A. Fisher\n",
      "    :Donor: Michael Marshall (MARSHALL%PLU@io.arc.nasa.gov)\n",
      "    :Date: July, 1988\n",
      "\n",
      "The famous Iris database, first used by Sir R.A. Fisher. The dataset is taken\n",
      "from Fisher's paper. Note that it's the same as in R, but not as in the UCI\n",
      "Machine Learning Repository, which has two wrong data points.\n",
      "\n",
      "This is perhaps the best known database to be found in the\n",
      "pattern recognition literature.  Fisher's paper is a classic in the field and\n",
      "is referenced frequently to this day.  (See Duda & Hart, for example.)  The\n",
      "data set contains 3 classes of 50 instances each, where each class refers to a\n",
      "type of iris plant.  One class is linearly separable from the other 2; the\n",
      "latter are NOT linearly separable from each other.\n",
      "\n",
      ".. topic:: References\n",
      "\n",
      "   - Fisher, R.A. \"The use of multiple measurements in taxonomic problems\"\n",
      "     Annual Eugenics, 7, Part II, 179-188 (1936); also in \"Contributions to\n",
      "     Mathematical Statistics\" (John Wiley, NY, 1950).\n",
      "   - Duda, R.O., & Hart, P.E. (1973) Pattern Classification and Scene Analysis.\n",
      "     (Q327.D83) John Wiley & Sons.  ISBN 0-471-22361-1.  See page 218.\n",
      "   - Dasarathy, B.V. (1980) \"Nosing Around the Neighborhood: A New System\n",
      "     Structure and Classification Rule for Recognition in Partially Exposed\n",
      "     Environments\".  IEEE Transactions on Pattern Analysis and Machine\n",
      "     Intelligence, Vol. PAMI-2, No. 1, 67-71.\n",
      "   - Gates, G.W. (1972) \"The Reduced Nearest Neighbor Rule\".  IEEE Transactions\n",
      "     on Information Theory, May 1972, 431-433.\n",
      "   - See also: 1988 MLC Proceedings, 54-64.  Cheeseman et al\"s AUTOCLASS II\n",
      "     conceptual clustering system finds 3 classes in the data.\n",
      "   - Many, many more ...\n"
     ]
    }
   ],
   "source": [
    "print(iris.DESCR)"
   ]
  },
  {
   "cell_type": "code",
   "execution_count": 6,
   "metadata": {
    "execution": {
     "iopub.execute_input": "2021-01-25T11:54:55.810281Z",
     "iopub.status.busy": "2021-01-25T11:54:55.809314Z",
     "iopub.status.idle": "2021-01-25T11:54:55.813638Z",
     "shell.execute_reply": "2021-01-25T11:54:55.813148Z"
    },
    "papermill": {
     "duration": 0.054121,
     "end_time": "2021-01-25T11:54:55.813741",
     "exception": false,
     "start_time": "2021-01-25T11:54:55.759620",
     "status": "completed"
    },
    "tags": []
   },
   "outputs": [
    {
     "data": {
      "text/plain": [
       "7"
      ]
     },
     "execution_count": 6,
     "metadata": {},
     "output_type": "execute_result"
    }
   ],
   "source": [
    "len(iris)"
   ]
  },
  {
   "cell_type": "markdown",
   "metadata": {
    "papermill": {
     "duration": 0.044527,
     "end_time": "2021-01-25T11:54:55.902916",
     "exception": false,
     "start_time": "2021-01-25T11:54:55.858389",
     "status": "completed"
    },
    "tags": []
   },
   "source": [
    "<a id=\"chap3\"></a>\n",
    "<h3 style=\"background-color:gold;font-family:newtimeroman;font-size:200%;text-align:center\">Reading the dataset</h3>"
   ]
  },
  {
   "cell_type": "markdown",
   "metadata": {
    "papermill": {
     "duration": 0.045177,
     "end_time": "2021-01-25T11:54:55.991341",
     "exception": false,
     "start_time": "2021-01-25T11:54:55.946164",
     "status": "completed"
    },
    "tags": []
   },
   "source": [
    "`Let's grab the feature and the Label information`"
   ]
  },
  {
   "cell_type": "code",
   "execution_count": 7,
   "metadata": {
    "execution": {
     "iopub.execute_input": "2021-01-25T11:54:56.084337Z",
     "iopub.status.busy": "2021-01-25T11:54:56.083475Z",
     "iopub.status.idle": "2021-01-25T11:54:56.086356Z",
     "shell.execute_reply": "2021-01-25T11:54:56.085860Z"
    },
    "papermill": {
     "duration": 0.050781,
     "end_time": "2021-01-25T11:54:56.086456",
     "exception": false,
     "start_time": "2021-01-25T11:54:56.035675",
     "status": "completed"
    },
    "tags": []
   },
   "outputs": [],
   "source": [
    "# Creating X as a feature object\n",
    "X = iris.data"
   ]
  },
  {
   "cell_type": "code",
   "execution_count": 8,
   "metadata": {
    "execution": {
     "iopub.execute_input": "2021-01-25T11:54:56.189888Z",
     "iopub.status.busy": "2021-01-25T11:54:56.180802Z",
     "iopub.status.idle": "2021-01-25T11:54:56.194045Z",
     "shell.execute_reply": "2021-01-25T11:54:56.193558Z"
    },
    "papermill": {
     "duration": 0.063173,
     "end_time": "2021-01-25T11:54:56.194146",
     "exception": false,
     "start_time": "2021-01-25T11:54:56.130973",
     "status": "completed"
    },
    "tags": []
   },
   "outputs": [
    {
     "data": {
      "text/plain": [
       "array([[5.1, 3.5, 1.4, 0.2],\n",
       "       [4.9, 3. , 1.4, 0.2],\n",
       "       [4.7, 3.2, 1.3, 0.2],\n",
       "       [4.6, 3.1, 1.5, 0.2],\n",
       "       [5. , 3.6, 1.4, 0.2],\n",
       "       [5.4, 3.9, 1.7, 0.4],\n",
       "       [4.6, 3.4, 1.4, 0.3],\n",
       "       [5. , 3.4, 1.5, 0.2],\n",
       "       [4.4, 2.9, 1.4, 0.2],\n",
       "       [4.9, 3.1, 1.5, 0.1],\n",
       "       [5.4, 3.7, 1.5, 0.2],\n",
       "       [4.8, 3.4, 1.6, 0.2],\n",
       "       [4.8, 3. , 1.4, 0.1],\n",
       "       [4.3, 3. , 1.1, 0.1],\n",
       "       [5.8, 4. , 1.2, 0.2],\n",
       "       [5.7, 4.4, 1.5, 0.4],\n",
       "       [5.4, 3.9, 1.3, 0.4],\n",
       "       [5.1, 3.5, 1.4, 0.3],\n",
       "       [5.7, 3.8, 1.7, 0.3],\n",
       "       [5.1, 3.8, 1.5, 0.3],\n",
       "       [5.4, 3.4, 1.7, 0.2],\n",
       "       [5.1, 3.7, 1.5, 0.4],\n",
       "       [4.6, 3.6, 1. , 0.2],\n",
       "       [5.1, 3.3, 1.7, 0.5],\n",
       "       [4.8, 3.4, 1.9, 0.2],\n",
       "       [5. , 3. , 1.6, 0.2],\n",
       "       [5. , 3.4, 1.6, 0.4],\n",
       "       [5.2, 3.5, 1.5, 0.2],\n",
       "       [5.2, 3.4, 1.4, 0.2],\n",
       "       [4.7, 3.2, 1.6, 0.2],\n",
       "       [4.8, 3.1, 1.6, 0.2],\n",
       "       [5.4, 3.4, 1.5, 0.4],\n",
       "       [5.2, 4.1, 1.5, 0.1],\n",
       "       [5.5, 4.2, 1.4, 0.2],\n",
       "       [4.9, 3.1, 1.5, 0.2],\n",
       "       [5. , 3.2, 1.2, 0.2],\n",
       "       [5.5, 3.5, 1.3, 0.2],\n",
       "       [4.9, 3.6, 1.4, 0.1],\n",
       "       [4.4, 3. , 1.3, 0.2],\n",
       "       [5.1, 3.4, 1.5, 0.2],\n",
       "       [5. , 3.5, 1.3, 0.3],\n",
       "       [4.5, 2.3, 1.3, 0.3],\n",
       "       [4.4, 3.2, 1.3, 0.2],\n",
       "       [5. , 3.5, 1.6, 0.6],\n",
       "       [5.1, 3.8, 1.9, 0.4],\n",
       "       [4.8, 3. , 1.4, 0.3],\n",
       "       [5.1, 3.8, 1.6, 0.2],\n",
       "       [4.6, 3.2, 1.4, 0.2],\n",
       "       [5.3, 3.7, 1.5, 0.2],\n",
       "       [5. , 3.3, 1.4, 0.2],\n",
       "       [7. , 3.2, 4.7, 1.4],\n",
       "       [6.4, 3.2, 4.5, 1.5],\n",
       "       [6.9, 3.1, 4.9, 1.5],\n",
       "       [5.5, 2.3, 4. , 1.3],\n",
       "       [6.5, 2.8, 4.6, 1.5],\n",
       "       [5.7, 2.8, 4.5, 1.3],\n",
       "       [6.3, 3.3, 4.7, 1.6],\n",
       "       [4.9, 2.4, 3.3, 1. ],\n",
       "       [6.6, 2.9, 4.6, 1.3],\n",
       "       [5.2, 2.7, 3.9, 1.4],\n",
       "       [5. , 2. , 3.5, 1. ],\n",
       "       [5.9, 3. , 4.2, 1.5],\n",
       "       [6. , 2.2, 4. , 1. ],\n",
       "       [6.1, 2.9, 4.7, 1.4],\n",
       "       [5.6, 2.9, 3.6, 1.3],\n",
       "       [6.7, 3.1, 4.4, 1.4],\n",
       "       [5.6, 3. , 4.5, 1.5],\n",
       "       [5.8, 2.7, 4.1, 1. ],\n",
       "       [6.2, 2.2, 4.5, 1.5],\n",
       "       [5.6, 2.5, 3.9, 1.1],\n",
       "       [5.9, 3.2, 4.8, 1.8],\n",
       "       [6.1, 2.8, 4. , 1.3],\n",
       "       [6.3, 2.5, 4.9, 1.5],\n",
       "       [6.1, 2.8, 4.7, 1.2],\n",
       "       [6.4, 2.9, 4.3, 1.3],\n",
       "       [6.6, 3. , 4.4, 1.4],\n",
       "       [6.8, 2.8, 4.8, 1.4],\n",
       "       [6.7, 3. , 5. , 1.7],\n",
       "       [6. , 2.9, 4.5, 1.5],\n",
       "       [5.7, 2.6, 3.5, 1. ],\n",
       "       [5.5, 2.4, 3.8, 1.1],\n",
       "       [5.5, 2.4, 3.7, 1. ],\n",
       "       [5.8, 2.7, 3.9, 1.2],\n",
       "       [6. , 2.7, 5.1, 1.6],\n",
       "       [5.4, 3. , 4.5, 1.5],\n",
       "       [6. , 3.4, 4.5, 1.6],\n",
       "       [6.7, 3.1, 4.7, 1.5],\n",
       "       [6.3, 2.3, 4.4, 1.3],\n",
       "       [5.6, 3. , 4.1, 1.3],\n",
       "       [5.5, 2.5, 4. , 1.3],\n",
       "       [5.5, 2.6, 4.4, 1.2],\n",
       "       [6.1, 3. , 4.6, 1.4],\n",
       "       [5.8, 2.6, 4. , 1.2],\n",
       "       [5. , 2.3, 3.3, 1. ],\n",
       "       [5.6, 2.7, 4.2, 1.3],\n",
       "       [5.7, 3. , 4.2, 1.2],\n",
       "       [5.7, 2.9, 4.2, 1.3],\n",
       "       [6.2, 2.9, 4.3, 1.3],\n",
       "       [5.1, 2.5, 3. , 1.1],\n",
       "       [5.7, 2.8, 4.1, 1.3],\n",
       "       [6.3, 3.3, 6. , 2.5],\n",
       "       [5.8, 2.7, 5.1, 1.9],\n",
       "       [7.1, 3. , 5.9, 2.1],\n",
       "       [6.3, 2.9, 5.6, 1.8],\n",
       "       [6.5, 3. , 5.8, 2.2],\n",
       "       [7.6, 3. , 6.6, 2.1],\n",
       "       [4.9, 2.5, 4.5, 1.7],\n",
       "       [7.3, 2.9, 6.3, 1.8],\n",
       "       [6.7, 2.5, 5.8, 1.8],\n",
       "       [7.2, 3.6, 6.1, 2.5],\n",
       "       [6.5, 3.2, 5.1, 2. ],\n",
       "       [6.4, 2.7, 5.3, 1.9],\n",
       "       [6.8, 3. , 5.5, 2.1],\n",
       "       [5.7, 2.5, 5. , 2. ],\n",
       "       [5.8, 2.8, 5.1, 2.4],\n",
       "       [6.4, 3.2, 5.3, 2.3],\n",
       "       [6.5, 3. , 5.5, 1.8],\n",
       "       [7.7, 3.8, 6.7, 2.2],\n",
       "       [7.7, 2.6, 6.9, 2.3],\n",
       "       [6. , 2.2, 5. , 1.5],\n",
       "       [6.9, 3.2, 5.7, 2.3],\n",
       "       [5.6, 2.8, 4.9, 2. ],\n",
       "       [7.7, 2.8, 6.7, 2. ],\n",
       "       [6.3, 2.7, 4.9, 1.8],\n",
       "       [6.7, 3.3, 5.7, 2.1],\n",
       "       [7.2, 3.2, 6. , 1.8],\n",
       "       [6.2, 2.8, 4.8, 1.8],\n",
       "       [6.1, 3. , 4.9, 1.8],\n",
       "       [6.4, 2.8, 5.6, 2.1],\n",
       "       [7.2, 3. , 5.8, 1.6],\n",
       "       [7.4, 2.8, 6.1, 1.9],\n",
       "       [7.9, 3.8, 6.4, 2. ],\n",
       "       [6.4, 2.8, 5.6, 2.2],\n",
       "       [6.3, 2.8, 5.1, 1.5],\n",
       "       [6.1, 2.6, 5.6, 1.4],\n",
       "       [7.7, 3. , 6.1, 2.3],\n",
       "       [6.3, 3.4, 5.6, 2.4],\n",
       "       [6.4, 3.1, 5.5, 1.8],\n",
       "       [6. , 3. , 4.8, 1.8],\n",
       "       [6.9, 3.1, 5.4, 2.1],\n",
       "       [6.7, 3.1, 5.6, 2.4],\n",
       "       [6.9, 3.1, 5.1, 2.3],\n",
       "       [5.8, 2.7, 5.1, 1.9],\n",
       "       [6.8, 3.2, 5.9, 2.3],\n",
       "       [6.7, 3.3, 5.7, 2.5],\n",
       "       [6.7, 3. , 5.2, 2.3],\n",
       "       [6.3, 2.5, 5. , 1.9],\n",
       "       [6.5, 3. , 5.2, 2. ],\n",
       "       [6.2, 3.4, 5.4, 2.3],\n",
       "       [5.9, 3. , 5.1, 1.8]])"
      ]
     },
     "execution_count": 8,
     "metadata": {},
     "output_type": "execute_result"
    }
   ],
   "source": [
    "X # Just a numpy array with measurements lined up (Sepal-length, Sepal-width, Petal-length, Petal-width)"
   ]
  },
  {
   "cell_type": "code",
   "execution_count": 9,
   "metadata": {
    "execution": {
     "iopub.execute_input": "2021-01-25T11:54:56.290118Z",
     "iopub.status.busy": "2021-01-25T11:54:56.289253Z",
     "iopub.status.idle": "2021-01-25T11:54:56.291658Z",
     "shell.execute_reply": "2021-01-25T11:54:56.292186Z"
    },
    "papermill": {
     "duration": 0.052564,
     "end_time": "2021-01-25T11:54:56.292312",
     "exception": false,
     "start_time": "2021-01-25T11:54:56.239748",
     "status": "completed"
    },
    "tags": []
   },
   "outputs": [],
   "source": [
    "# Grabbing Labels now\n",
    "y = iris.target"
   ]
  },
  {
   "cell_type": "code",
   "execution_count": 10,
   "metadata": {
    "execution": {
     "iopub.execute_input": "2021-01-25T11:54:56.390663Z",
     "iopub.status.busy": "2021-01-25T11:54:56.389973Z",
     "iopub.status.idle": "2021-01-25T11:54:56.393399Z",
     "shell.execute_reply": "2021-01-25T11:54:56.393891Z"
    },
    "papermill": {
     "duration": 0.056705,
     "end_time": "2021-01-25T11:54:56.394040",
     "exception": false,
     "start_time": "2021-01-25T11:54:56.337335",
     "status": "completed"
    },
    "tags": []
   },
   "outputs": [
    {
     "name": "stdout",
     "output_type": "stream",
     "text": [
      "[0 0 0 0 0 0 0 0 0 0 0 0 0 0 0 0 0 0 0 0 0 0 0 0 0 0 0 0 0 0 0 0 0 0 0 0 0\n",
      " 0 0 0 0 0 0 0 0 0 0 0 0 0 1 1 1 1 1 1 1 1 1 1 1 1 1 1 1 1 1 1 1 1 1 1 1 1\n",
      " 1 1 1 1 1 1 1 1 1 1 1 1 1 1 1 1 1 1 1 1 1 1 1 1 1 1 2 2 2 2 2 2 2 2 2 2 2\n",
      " 2 2 2 2 2 2 2 2 2 2 2 2 2 2 2 2 2 2 2 2 2 2 2 2 2 2 2 2 2 2 2 2 2 2 2 2 2\n",
      " 2 2]\n"
     ]
    }
   ],
   "source": [
    "print(f'{y}')"
   ]
  },
  {
   "cell_type": "code",
   "execution_count": 11,
   "metadata": {
    "execution": {
     "iopub.execute_input": "2021-01-25T11:54:56.488707Z",
     "iopub.status.busy": "2021-01-25T11:54:56.487896Z",
     "iopub.status.idle": "2021-01-25T11:54:56.490840Z",
     "shell.execute_reply": "2021-01-25T11:54:56.490216Z"
    },
    "papermill": {
     "duration": 0.051969,
     "end_time": "2021-01-25T11:54:56.490963",
     "exception": false,
     "start_time": "2021-01-25T11:54:56.438994",
     "status": "completed"
    },
    "tags": []
   },
   "outputs": [],
   "source": [
    "## We have three classes above, class-0, class-1, class-2"
   ]
  },
  {
   "cell_type": "markdown",
   "metadata": {
    "papermill": {
     "duration": 0.045431,
     "end_time": "2021-01-25T11:54:56.591763",
     "exception": false,
     "start_time": "2021-01-25T11:54:56.546332",
     "status": "completed"
    },
    "tags": []
   },
   "source": [
    "`Converting into one-hot encoded system`\n",
    "##### e.g; Since we've three classes, [0,1,2] Let's create a list with the Index positions of these classes:\n",
    "1. Class 0 ----> [1, 0, 0]\n",
    "2. Class 1 ----> [0, 1, 0]\n",
    "3. Class 2 ----> [0, 0, 1]"
   ]
  },
  {
   "cell_type": "code",
   "execution_count": 12,
   "metadata": {
    "execution": {
     "iopub.execute_input": "2021-01-25T11:54:56.684210Z",
     "iopub.status.busy": "2021-01-25T11:54:56.683431Z",
     "iopub.status.idle": "2021-01-25T11:55:01.451803Z",
     "shell.execute_reply": "2021-01-25T11:55:01.451214Z"
    },
    "papermill": {
     "duration": 4.81616,
     "end_time": "2021-01-25T11:55:01.451940",
     "exception": false,
     "start_time": "2021-01-25T11:54:56.635780",
     "status": "completed"
    },
    "tags": []
   },
   "outputs": [],
   "source": [
    "## One hot encoding can be easily done using Keras\n",
    "from keras.utils import to_categorical"
   ]
  },
  {
   "cell_type": "code",
   "execution_count": 13,
   "metadata": {
    "execution": {
     "iopub.execute_input": "2021-01-25T11:55:01.550089Z",
     "iopub.status.busy": "2021-01-25T11:55:01.549391Z",
     "iopub.status.idle": "2021-01-25T11:55:01.553639Z",
     "shell.execute_reply": "2021-01-25T11:55:01.553135Z"
    },
    "papermill": {
     "duration": 0.053648,
     "end_time": "2021-01-25T11:55:01.553738",
     "exception": false,
     "start_time": "2021-01-25T11:55:01.500090",
     "status": "completed"
    },
    "tags": []
   },
   "outputs": [],
   "source": [
    "# Type casting 'y'\n",
    "y = to_categorical(y)"
   ]
  },
  {
   "cell_type": "code",
   "execution_count": 14,
   "metadata": {
    "execution": {
     "iopub.execute_input": "2021-01-25T11:55:01.648813Z",
     "iopub.status.busy": "2021-01-25T11:55:01.647961Z",
     "iopub.status.idle": "2021-01-25T11:55:01.651060Z",
     "shell.execute_reply": "2021-01-25T11:55:01.651521Z"
    },
    "papermill": {
     "duration": 0.053417,
     "end_time": "2021-01-25T11:55:01.651639",
     "exception": false,
     "start_time": "2021-01-25T11:55:01.598222",
     "status": "completed"
    },
    "tags": []
   },
   "outputs": [
    {
     "data": {
      "text/plain": [
       "(150, 3)"
      ]
     },
     "execution_count": 14,
     "metadata": {},
     "output_type": "execute_result"
    }
   ],
   "source": [
    "y.shape"
   ]
  },
  {
   "cell_type": "code",
   "execution_count": 15,
   "metadata": {
    "execution": {
     "iopub.execute_input": "2021-01-25T11:55:01.749358Z",
     "iopub.status.busy": "2021-01-25T11:55:01.748362Z",
     "iopub.status.idle": "2021-01-25T11:55:01.751548Z",
     "shell.execute_reply": "2021-01-25T11:55:01.750900Z"
    },
    "papermill": {
     "duration": 0.054169,
     "end_time": "2021-01-25T11:55:01.751657",
     "exception": false,
     "start_time": "2021-01-25T11:55:01.697488",
     "status": "completed"
    },
    "tags": []
   },
   "outputs": [],
   "source": [
    "## y has 150 instances with 3 values per label"
   ]
  },
  {
   "cell_type": "code",
   "execution_count": 16,
   "metadata": {
    "execution": {
     "iopub.execute_input": "2021-01-25T11:55:01.854489Z",
     "iopub.status.busy": "2021-01-25T11:55:01.853645Z",
     "iopub.status.idle": "2021-01-25T11:55:01.858887Z",
     "shell.execute_reply": "2021-01-25T11:55:01.859485Z"
    },
    "papermill": {
     "duration": 0.061528,
     "end_time": "2021-01-25T11:55:01.859610",
     "exception": false,
     "start_time": "2021-01-25T11:55:01.798082",
     "status": "completed"
    },
    "tags": []
   },
   "outputs": [
    {
     "name": "stdout",
     "output_type": "stream",
     "text": [
      "[[1. 0. 0.]\n",
      " [1. 0. 0.]\n",
      " [1. 0. 0.]\n",
      " [1. 0. 0.]\n",
      " [1. 0. 0.]\n",
      " [1. 0. 0.]\n",
      " [1. 0. 0.]\n",
      " [1. 0. 0.]\n",
      " [1. 0. 0.]\n",
      " [1. 0. 0.]\n",
      " [1. 0. 0.]\n",
      " [1. 0. 0.]\n",
      " [1. 0. 0.]\n",
      " [1. 0. 0.]\n",
      " [1. 0. 0.]\n",
      " [1. 0. 0.]\n",
      " [1. 0. 0.]\n",
      " [1. 0. 0.]\n",
      " [1. 0. 0.]\n",
      " [1. 0. 0.]\n",
      " [1. 0. 0.]\n",
      " [1. 0. 0.]\n",
      " [1. 0. 0.]\n",
      " [1. 0. 0.]\n",
      " [1. 0. 0.]\n",
      " [1. 0. 0.]\n",
      " [1. 0. 0.]\n",
      " [1. 0. 0.]\n",
      " [1. 0. 0.]\n",
      " [1. 0. 0.]\n",
      " [1. 0. 0.]\n",
      " [1. 0. 0.]\n",
      " [1. 0. 0.]\n",
      " [1. 0. 0.]\n",
      " [1. 0. 0.]\n",
      " [1. 0. 0.]\n",
      " [1. 0. 0.]\n",
      " [1. 0. 0.]\n",
      " [1. 0. 0.]\n",
      " [1. 0. 0.]\n",
      " [1. 0. 0.]\n",
      " [1. 0. 0.]\n",
      " [1. 0. 0.]\n",
      " [1. 0. 0.]\n",
      " [1. 0. 0.]\n",
      " [1. 0. 0.]\n",
      " [1. 0. 0.]\n",
      " [1. 0. 0.]\n",
      " [1. 0. 0.]\n",
      " [1. 0. 0.]\n",
      " [0. 1. 0.]\n",
      " [0. 1. 0.]\n",
      " [0. 1. 0.]\n",
      " [0. 1. 0.]\n",
      " [0. 1. 0.]\n",
      " [0. 1. 0.]\n",
      " [0. 1. 0.]\n",
      " [0. 1. 0.]\n",
      " [0. 1. 0.]\n",
      " [0. 1. 0.]\n",
      " [0. 1. 0.]\n",
      " [0. 1. 0.]\n",
      " [0. 1. 0.]\n",
      " [0. 1. 0.]\n",
      " [0. 1. 0.]\n",
      " [0. 1. 0.]\n",
      " [0. 1. 0.]\n",
      " [0. 1. 0.]\n",
      " [0. 1. 0.]\n",
      " [0. 1. 0.]\n",
      " [0. 1. 0.]\n",
      " [0. 1. 0.]\n",
      " [0. 1. 0.]\n",
      " [0. 1. 0.]\n",
      " [0. 1. 0.]\n",
      " [0. 1. 0.]\n",
      " [0. 1. 0.]\n",
      " [0. 1. 0.]\n",
      " [0. 1. 0.]\n",
      " [0. 1. 0.]\n",
      " [0. 1. 0.]\n",
      " [0. 1. 0.]\n",
      " [0. 1. 0.]\n",
      " [0. 1. 0.]\n",
      " [0. 1. 0.]\n",
      " [0. 1. 0.]\n",
      " [0. 1. 0.]\n",
      " [0. 1. 0.]\n",
      " [0. 1. 0.]\n",
      " [0. 1. 0.]\n",
      " [0. 1. 0.]\n",
      " [0. 1. 0.]\n",
      " [0. 1. 0.]\n",
      " [0. 1. 0.]\n",
      " [0. 1. 0.]\n",
      " [0. 1. 0.]\n",
      " [0. 1. 0.]\n",
      " [0. 1. 0.]\n",
      " [0. 1. 0.]\n",
      " [0. 1. 0.]\n",
      " [0. 0. 1.]\n",
      " [0. 0. 1.]\n",
      " [0. 0. 1.]\n",
      " [0. 0. 1.]\n",
      " [0. 0. 1.]\n",
      " [0. 0. 1.]\n",
      " [0. 0. 1.]\n",
      " [0. 0. 1.]\n",
      " [0. 0. 1.]\n",
      " [0. 0. 1.]\n",
      " [0. 0. 1.]\n",
      " [0. 0. 1.]\n",
      " [0. 0. 1.]\n",
      " [0. 0. 1.]\n",
      " [0. 0. 1.]\n",
      " [0. 0. 1.]\n",
      " [0. 0. 1.]\n",
      " [0. 0. 1.]\n",
      " [0. 0. 1.]\n",
      " [0. 0. 1.]\n",
      " [0. 0. 1.]\n",
      " [0. 0. 1.]\n",
      " [0. 0. 1.]\n",
      " [0. 0. 1.]\n",
      " [0. 0. 1.]\n",
      " [0. 0. 1.]\n",
      " [0. 0. 1.]\n",
      " [0. 0. 1.]\n",
      " [0. 0. 1.]\n",
      " [0. 0. 1.]\n",
      " [0. 0. 1.]\n",
      " [0. 0. 1.]\n",
      " [0. 0. 1.]\n",
      " [0. 0. 1.]\n",
      " [0. 0. 1.]\n",
      " [0. 0. 1.]\n",
      " [0. 0. 1.]\n",
      " [0. 0. 1.]\n",
      " [0. 0. 1.]\n",
      " [0. 0. 1.]\n",
      " [0. 0. 1.]\n",
      " [0. 0. 1.]\n",
      " [0. 0. 1.]\n",
      " [0. 0. 1.]\n",
      " [0. 0. 1.]\n",
      " [0. 0. 1.]\n",
      " [0. 0. 1.]\n",
      " [0. 0. 1.]\n",
      " [0. 0. 1.]\n",
      " [0. 0. 1.]]\n"
     ]
    }
   ],
   "source": [
    "print(f'{y}') # one-hot encoded format"
   ]
  },
  {
   "cell_type": "markdown",
   "metadata": {
    "papermill": {
     "duration": 0.05352,
     "end_time": "2021-01-25T11:55:01.960371",
     "exception": false,
     "start_time": "2021-01-25T11:55:01.906851",
     "status": "completed"
    },
    "tags": []
   },
   "source": [
    "<a id=\"chap4\"></a>\n",
    "<h3 style=\"background-color:gold;font-family:newtimeroman;font-size:200%;text-align:center\">Splitting the dataset</h3>"
   ]
  },
  {
   "cell_type": "markdown",
   "metadata": {
    "papermill": {
     "duration": 0.04676,
     "end_time": "2021-01-25T11:55:02.054143",
     "exception": false,
     "start_time": "2021-01-25T11:55:02.007383",
     "status": "completed"
    },
    "tags": []
   },
   "source": [
    "`# Let's split the data into a train/test set. You can also split it 3 ways, i.e; train/test/validation.`"
   ]
  },
  {
   "cell_type": "code",
   "execution_count": 17,
   "metadata": {
    "execution": {
     "iopub.execute_input": "2021-01-25T11:55:02.155172Z",
     "iopub.status.busy": "2021-01-25T11:55:02.154285Z",
     "iopub.status.idle": "2021-01-25T11:55:02.157240Z",
     "shell.execute_reply": "2021-01-25T11:55:02.156724Z"
    },
    "papermill": {
     "duration": 0.054218,
     "end_time": "2021-01-25T11:55:02.157335",
     "exception": false,
     "start_time": "2021-01-25T11:55:02.103117",
     "status": "completed"
    },
    "tags": []
   },
   "outputs": [],
   "source": [
    "from sklearn.model_selection import train_test_split\n",
    "X_train, X_test, y_train, y_test = train_test_split(X, y, test_size=0.33, random_state=42)"
   ]
  },
  {
   "cell_type": "code",
   "execution_count": 18,
   "metadata": {
    "execution": {
     "iopub.execute_input": "2021-01-25T11:55:02.264553Z",
     "iopub.status.busy": "2021-01-25T11:55:02.263681Z",
     "iopub.status.idle": "2021-01-25T11:55:02.267678Z",
     "shell.execute_reply": "2021-01-25T11:55:02.267109Z"
    },
    "papermill": {
     "duration": 0.062589,
     "end_time": "2021-01-25T11:55:02.267777",
     "exception": false,
     "start_time": "2021-01-25T11:55:02.205188",
     "status": "completed"
    },
    "tags": []
   },
   "outputs": [
    {
     "data": {
      "text/plain": [
       "array([[5.7, 2.9, 4.2, 1.3],\n",
       "       [7.6, 3. , 6.6, 2.1],\n",
       "       [5.6, 3. , 4.5, 1.5],\n",
       "       [5.1, 3.5, 1.4, 0.2],\n",
       "       [7.7, 2.8, 6.7, 2. ],\n",
       "       [5.8, 2.7, 4.1, 1. ],\n",
       "       [5.2, 3.4, 1.4, 0.2],\n",
       "       [5. , 3.5, 1.3, 0.3],\n",
       "       [5.1, 3.8, 1.9, 0.4],\n",
       "       [5. , 2. , 3.5, 1. ],\n",
       "       [6.3, 2.7, 4.9, 1.8],\n",
       "       [4.8, 3.4, 1.9, 0.2],\n",
       "       [5. , 3. , 1.6, 0.2],\n",
       "       [5.1, 3.3, 1.7, 0.5],\n",
       "       [5.6, 2.7, 4.2, 1.3],\n",
       "       [5.1, 3.4, 1.5, 0.2],\n",
       "       [5.7, 3. , 4.2, 1.2],\n",
       "       [7.7, 3.8, 6.7, 2.2],\n",
       "       [4.6, 3.2, 1.4, 0.2],\n",
       "       [6.2, 2.9, 4.3, 1.3],\n",
       "       [5.7, 2.5, 5. , 2. ],\n",
       "       [5.5, 4.2, 1.4, 0.2],\n",
       "       [6. , 3. , 4.8, 1.8],\n",
       "       [5.8, 2.7, 5.1, 1.9],\n",
       "       [6. , 2.2, 4. , 1. ],\n",
       "       [5.4, 3. , 4.5, 1.5],\n",
       "       [6.2, 3.4, 5.4, 2.3],\n",
       "       [5.5, 2.3, 4. , 1.3],\n",
       "       [5.4, 3.9, 1.7, 0.4],\n",
       "       [5. , 2.3, 3.3, 1. ],\n",
       "       [6.4, 2.7, 5.3, 1.9],\n",
       "       [5. , 3.3, 1.4, 0.2],\n",
       "       [5. , 3.2, 1.2, 0.2],\n",
       "       [5.5, 2.4, 3.8, 1.1],\n",
       "       [6.7, 3. , 5. , 1.7],\n",
       "       [4.9, 3.1, 1.5, 0.2],\n",
       "       [5.8, 2.8, 5.1, 2.4],\n",
       "       [5. , 3.4, 1.5, 0.2],\n",
       "       [5. , 3.5, 1.6, 0.6],\n",
       "       [5.9, 3.2, 4.8, 1.8],\n",
       "       [5.1, 2.5, 3. , 1.1],\n",
       "       [6.9, 3.2, 5.7, 2.3],\n",
       "       [6. , 2.7, 5.1, 1.6],\n",
       "       [6.1, 2.6, 5.6, 1.4],\n",
       "       [7.7, 3. , 6.1, 2.3],\n",
       "       [5.5, 2.5, 4. , 1.3],\n",
       "       [4.4, 2.9, 1.4, 0.2],\n",
       "       [4.3, 3. , 1.1, 0.1],\n",
       "       [6. , 2.2, 5. , 1.5],\n",
       "       [7.2, 3.2, 6. , 1.8],\n",
       "       [4.6, 3.1, 1.5, 0.2],\n",
       "       [5.1, 3.5, 1.4, 0.3],\n",
       "       [4.4, 3. , 1.3, 0.2],\n",
       "       [6.3, 2.5, 4.9, 1.5],\n",
       "       [6.3, 3.4, 5.6, 2.4],\n",
       "       [4.6, 3.4, 1.4, 0.3],\n",
       "       [6.8, 3. , 5.5, 2.1],\n",
       "       [6.3, 3.3, 6. , 2.5],\n",
       "       [4.7, 3.2, 1.3, 0.2],\n",
       "       [6.1, 2.9, 4.7, 1.4],\n",
       "       [6.5, 2.8, 4.6, 1.5],\n",
       "       [6.2, 2.8, 4.8, 1.8],\n",
       "       [7. , 3.2, 4.7, 1.4],\n",
       "       [6.4, 3.2, 5.3, 2.3],\n",
       "       [5.1, 3.8, 1.6, 0.2],\n",
       "       [6.9, 3.1, 5.4, 2.1],\n",
       "       [5.9, 3. , 4.2, 1.5],\n",
       "       [6.5, 3. , 5.2, 2. ],\n",
       "       [5.7, 2.6, 3.5, 1. ],\n",
       "       [5.2, 2.7, 3.9, 1.4],\n",
       "       [6.1, 3. , 4.6, 1.4],\n",
       "       [4.5, 2.3, 1.3, 0.3],\n",
       "       [6.6, 2.9, 4.6, 1.3],\n",
       "       [5.5, 2.6, 4.4, 1.2],\n",
       "       [5.3, 3.7, 1.5, 0.2],\n",
       "       [5.6, 3. , 4.1, 1.3],\n",
       "       [7.3, 2.9, 6.3, 1.8],\n",
       "       [6.7, 3.3, 5.7, 2.1],\n",
       "       [5.1, 3.7, 1.5, 0.4],\n",
       "       [4.9, 2.4, 3.3, 1. ],\n",
       "       [6.7, 3.3, 5.7, 2.5],\n",
       "       [7.2, 3. , 5.8, 1.6],\n",
       "       [4.9, 3.6, 1.4, 0.1],\n",
       "       [6.7, 3.1, 5.6, 2.4],\n",
       "       [4.9, 3. , 1.4, 0.2],\n",
       "       [6.9, 3.1, 4.9, 1.5],\n",
       "       [7.4, 2.8, 6.1, 1.9],\n",
       "       [6.3, 2.9, 5.6, 1.8],\n",
       "       [5.7, 2.8, 4.1, 1.3],\n",
       "       [6.5, 3. , 5.5, 1.8],\n",
       "       [6.3, 2.3, 4.4, 1.3],\n",
       "       [6.4, 2.9, 4.3, 1.3],\n",
       "       [5.6, 2.8, 4.9, 2. ],\n",
       "       [5.9, 3. , 5.1, 1.8],\n",
       "       [5.4, 3.4, 1.7, 0.2],\n",
       "       [6.1, 2.8, 4. , 1.3],\n",
       "       [4.9, 2.5, 4.5, 1.7],\n",
       "       [5.8, 4. , 1.2, 0.2],\n",
       "       [5.8, 2.6, 4. , 1.2],\n",
       "       [7.1, 3. , 5.9, 2.1]])"
      ]
     },
     "execution_count": 18,
     "metadata": {},
     "output_type": "execute_result"
    }
   ],
   "source": [
    "X_train # training data"
   ]
  },
  {
   "cell_type": "code",
   "execution_count": 19,
   "metadata": {
    "execution": {
     "iopub.execute_input": "2021-01-25T11:55:02.368455Z",
     "iopub.status.busy": "2021-01-25T11:55:02.367615Z",
     "iopub.status.idle": "2021-01-25T11:55:02.371004Z",
     "shell.execute_reply": "2021-01-25T11:55:02.371520Z"
    },
    "papermill": {
     "duration": 0.057423,
     "end_time": "2021-01-25T11:55:02.371637",
     "exception": false,
     "start_time": "2021-01-25T11:55:02.314214",
     "status": "completed"
    },
    "tags": []
   },
   "outputs": [
    {
     "data": {
      "text/plain": [
       "array([[6.1, 2.8, 4.7, 1.2],\n",
       "       [5.7, 3.8, 1.7, 0.3],\n",
       "       [7.7, 2.6, 6.9, 2.3],\n",
       "       [6. , 2.9, 4.5, 1.5],\n",
       "       [6.8, 2.8, 4.8, 1.4],\n",
       "       [5.4, 3.4, 1.5, 0.4],\n",
       "       [5.6, 2.9, 3.6, 1.3],\n",
       "       [6.9, 3.1, 5.1, 2.3],\n",
       "       [6.2, 2.2, 4.5, 1.5],\n",
       "       [5.8, 2.7, 3.9, 1.2],\n",
       "       [6.5, 3.2, 5.1, 2. ],\n",
       "       [4.8, 3. , 1.4, 0.1],\n",
       "       [5.5, 3.5, 1.3, 0.2],\n",
       "       [4.9, 3.1, 1.5, 0.1],\n",
       "       [5.1, 3.8, 1.5, 0.3],\n",
       "       [6.3, 3.3, 4.7, 1.6],\n",
       "       [6.5, 3. , 5.8, 2.2],\n",
       "       [5.6, 2.5, 3.9, 1.1],\n",
       "       [5.7, 2.8, 4.5, 1.3],\n",
       "       [6.4, 2.8, 5.6, 2.2],\n",
       "       [4.7, 3.2, 1.6, 0.2],\n",
       "       [6.1, 3. , 4.9, 1.8],\n",
       "       [5. , 3.4, 1.6, 0.4],\n",
       "       [6.4, 2.8, 5.6, 2.1],\n",
       "       [7.9, 3.8, 6.4, 2. ],\n",
       "       [6.7, 3. , 5.2, 2.3],\n",
       "       [6.7, 2.5, 5.8, 1.8],\n",
       "       [6.8, 3.2, 5.9, 2.3],\n",
       "       [4.8, 3. , 1.4, 0.3],\n",
       "       [4.8, 3.1, 1.6, 0.2],\n",
       "       [4.6, 3.6, 1. , 0.2],\n",
       "       [5.7, 4.4, 1.5, 0.4],\n",
       "       [6.7, 3.1, 4.4, 1.4],\n",
       "       [4.8, 3.4, 1.6, 0.2],\n",
       "       [4.4, 3.2, 1.3, 0.2],\n",
       "       [6.3, 2.5, 5. , 1.9],\n",
       "       [6.4, 3.2, 4.5, 1.5],\n",
       "       [5.2, 3.5, 1.5, 0.2],\n",
       "       [5. , 3.6, 1.4, 0.2],\n",
       "       [5.2, 4.1, 1.5, 0.1],\n",
       "       [5.8, 2.7, 5.1, 1.9],\n",
       "       [6. , 3.4, 4.5, 1.6],\n",
       "       [6.7, 3.1, 4.7, 1.5],\n",
       "       [5.4, 3.9, 1.3, 0.4],\n",
       "       [5.4, 3.7, 1.5, 0.2],\n",
       "       [5.5, 2.4, 3.7, 1. ],\n",
       "       [6.3, 2.8, 5.1, 1.5],\n",
       "       [6.4, 3.1, 5.5, 1.8],\n",
       "       [6.6, 3. , 4.4, 1.4],\n",
       "       [7.2, 3.6, 6.1, 2.5]])"
      ]
     },
     "execution_count": 19,
     "metadata": {},
     "output_type": "execute_result"
    }
   ],
   "source": [
    "X_test # testing features"
   ]
  },
  {
   "cell_type": "code",
   "execution_count": 20,
   "metadata": {
    "execution": {
     "iopub.execute_input": "2021-01-25T11:55:02.481768Z",
     "iopub.status.busy": "2021-01-25T11:55:02.481173Z",
     "iopub.status.idle": "2021-01-25T11:55:02.485753Z",
     "shell.execute_reply": "2021-01-25T11:55:02.485229Z"
    },
    "papermill": {
     "duration": 0.061592,
     "end_time": "2021-01-25T11:55:02.485847",
     "exception": false,
     "start_time": "2021-01-25T11:55:02.424255",
     "status": "completed"
    },
    "tags": []
   },
   "outputs": [
    {
     "data": {
      "text/plain": [
       "array([[0., 1., 0.],\n",
       "       [0., 0., 1.],\n",
       "       [0., 1., 0.],\n",
       "       [1., 0., 0.],\n",
       "       [0., 0., 1.],\n",
       "       [0., 1., 0.],\n",
       "       [1., 0., 0.],\n",
       "       [1., 0., 0.],\n",
       "       [1., 0., 0.],\n",
       "       [0., 1., 0.],\n",
       "       [0., 0., 1.],\n",
       "       [1., 0., 0.],\n",
       "       [1., 0., 0.],\n",
       "       [1., 0., 0.],\n",
       "       [0., 1., 0.],\n",
       "       [1., 0., 0.],\n",
       "       [0., 1., 0.],\n",
       "       [0., 0., 1.],\n",
       "       [1., 0., 0.],\n",
       "       [0., 1., 0.],\n",
       "       [0., 0., 1.],\n",
       "       [1., 0., 0.],\n",
       "       [0., 0., 1.],\n",
       "       [0., 0., 1.],\n",
       "       [0., 1., 0.],\n",
       "       [0., 1., 0.],\n",
       "       [0., 0., 1.],\n",
       "       [0., 1., 0.],\n",
       "       [1., 0., 0.],\n",
       "       [0., 1., 0.],\n",
       "       [0., 0., 1.],\n",
       "       [1., 0., 0.],\n",
       "       [1., 0., 0.],\n",
       "       [0., 1., 0.],\n",
       "       [0., 1., 0.],\n",
       "       [1., 0., 0.],\n",
       "       [0., 0., 1.],\n",
       "       [1., 0., 0.],\n",
       "       [1., 0., 0.],\n",
       "       [0., 1., 0.],\n",
       "       [0., 1., 0.],\n",
       "       [0., 0., 1.],\n",
       "       [0., 1., 0.],\n",
       "       [0., 0., 1.],\n",
       "       [0., 0., 1.],\n",
       "       [0., 1., 0.],\n",
       "       [1., 0., 0.],\n",
       "       [1., 0., 0.],\n",
       "       [0., 0., 1.],\n",
       "       [0., 0., 1.],\n",
       "       [1., 0., 0.],\n",
       "       [1., 0., 0.],\n",
       "       [1., 0., 0.],\n",
       "       [0., 1., 0.],\n",
       "       [0., 0., 1.],\n",
       "       [1., 0., 0.],\n",
       "       [0., 0., 1.],\n",
       "       [0., 0., 1.],\n",
       "       [1., 0., 0.],\n",
       "       [0., 1., 0.],\n",
       "       [0., 1., 0.],\n",
       "       [0., 0., 1.],\n",
       "       [0., 1., 0.],\n",
       "       [0., 0., 1.],\n",
       "       [1., 0., 0.],\n",
       "       [0., 0., 1.],\n",
       "       [0., 1., 0.],\n",
       "       [0., 0., 1.],\n",
       "       [0., 1., 0.],\n",
       "       [0., 1., 0.],\n",
       "       [0., 1., 0.],\n",
       "       [1., 0., 0.],\n",
       "       [0., 1., 0.],\n",
       "       [0., 1., 0.],\n",
       "       [1., 0., 0.],\n",
       "       [0., 1., 0.],\n",
       "       [0., 0., 1.],\n",
       "       [0., 0., 1.],\n",
       "       [1., 0., 0.],\n",
       "       [0., 1., 0.],\n",
       "       [0., 0., 1.],\n",
       "       [0., 0., 1.],\n",
       "       [1., 0., 0.],\n",
       "       [0., 0., 1.],\n",
       "       [1., 0., 0.],\n",
       "       [0., 1., 0.],\n",
       "       [0., 0., 1.],\n",
       "       [0., 0., 1.],\n",
       "       [0., 1., 0.],\n",
       "       [0., 0., 1.],\n",
       "       [0., 1., 0.],\n",
       "       [0., 1., 0.],\n",
       "       [0., 0., 1.],\n",
       "       [0., 0., 1.],\n",
       "       [1., 0., 0.],\n",
       "       [0., 1., 0.],\n",
       "       [0., 0., 1.],\n",
       "       [1., 0., 0.],\n",
       "       [0., 1., 0.],\n",
       "       [0., 0., 1.]], dtype=float32)"
      ]
     },
     "execution_count": 20,
     "metadata": {},
     "output_type": "execute_result"
    }
   ],
   "source": [
    "y_train # labels for training data"
   ]
  },
  {
   "cell_type": "code",
   "execution_count": 21,
   "metadata": {
    "execution": {
     "iopub.execute_input": "2021-01-25T11:55:02.591814Z",
     "iopub.status.busy": "2021-01-25T11:55:02.590884Z",
     "iopub.status.idle": "2021-01-25T11:55:02.595895Z",
     "shell.execute_reply": "2021-01-25T11:55:02.595364Z"
    },
    "papermill": {
     "duration": 0.060523,
     "end_time": "2021-01-25T11:55:02.596015",
     "exception": false,
     "start_time": "2021-01-25T11:55:02.535492",
     "status": "completed"
    },
    "tags": []
   },
   "outputs": [
    {
     "data": {
      "text/plain": [
       "array([[0., 1., 0.],\n",
       "       [1., 0., 0.],\n",
       "       [0., 0., 1.],\n",
       "       [0., 1., 0.],\n",
       "       [0., 1., 0.],\n",
       "       [1., 0., 0.],\n",
       "       [0., 1., 0.],\n",
       "       [0., 0., 1.],\n",
       "       [0., 1., 0.],\n",
       "       [0., 1., 0.],\n",
       "       [0., 0., 1.],\n",
       "       [1., 0., 0.],\n",
       "       [1., 0., 0.],\n",
       "       [1., 0., 0.],\n",
       "       [1., 0., 0.],\n",
       "       [0., 1., 0.],\n",
       "       [0., 0., 1.],\n",
       "       [0., 1., 0.],\n",
       "       [0., 1., 0.],\n",
       "       [0., 0., 1.],\n",
       "       [1., 0., 0.],\n",
       "       [0., 0., 1.],\n",
       "       [1., 0., 0.],\n",
       "       [0., 0., 1.],\n",
       "       [0., 0., 1.],\n",
       "       [0., 0., 1.],\n",
       "       [0., 0., 1.],\n",
       "       [0., 0., 1.],\n",
       "       [1., 0., 0.],\n",
       "       [1., 0., 0.],\n",
       "       [1., 0., 0.],\n",
       "       [1., 0., 0.],\n",
       "       [0., 1., 0.],\n",
       "       [1., 0., 0.],\n",
       "       [1., 0., 0.],\n",
       "       [0., 0., 1.],\n",
       "       [0., 1., 0.],\n",
       "       [1., 0., 0.],\n",
       "       [1., 0., 0.],\n",
       "       [1., 0., 0.],\n",
       "       [0., 0., 1.],\n",
       "       [0., 1., 0.],\n",
       "       [0., 1., 0.],\n",
       "       [1., 0., 0.],\n",
       "       [1., 0., 0.],\n",
       "       [0., 1., 0.],\n",
       "       [0., 0., 1.],\n",
       "       [0., 0., 1.],\n",
       "       [0., 1., 0.],\n",
       "       [0., 0., 1.]], dtype=float32)"
      ]
     },
     "execution_count": 21,
     "metadata": {},
     "output_type": "execute_result"
    }
   ],
   "source": [
    "y_test # labels for testing features"
   ]
  },
  {
   "cell_type": "markdown",
   "metadata": {
    "papermill": {
     "duration": 0.048536,
     "end_time": "2021-01-25T11:55:02.693318",
     "exception": false,
     "start_time": "2021-01-25T11:55:02.644782",
     "status": "completed"
    },
    "tags": []
   },
   "source": [
    "<a id=\"chap5\"></a>\n",
    "<h3 style=\"background-color:gold;font-family:newtimeroman;font-size:200%;text-align:center\">Preprocessing and Standardizing the data</h3>"
   ]
  },
  {
   "cell_type": "markdown",
   "metadata": {
    "papermill": {
     "duration": 0.049404,
     "end_time": "2021-01-25T11:55:02.794528",
     "exception": false,
     "start_time": "2021-01-25T11:55:02.745124",
     "status": "completed"
    },
    "tags": []
   },
   "source": [
    "While working with Neural Networks, we get better performance when we standardize the data. Standardization just means normalizing the values to all fit between a certain range, like 0-1, or -1 to 1.\n",
    "\n",
    "> e.g. if we take an array of numbers and divide it with it's max value in array, we get the output of numbers in between 0-1\n",
    "`np.array([2,4,6,8])/8 will give the output as array([0.25, 0.5 , 0.75, 1.])`\n",
    "\n",
    "The scikit learn library also provides a nice function for this known as the [MinMaxScaler](http://scikit-learn.org/stable/modules/generated/sklearn.preprocessing.MinMaxScaler.html)"
   ]
  },
  {
   "cell_type": "code",
   "execution_count": 22,
   "metadata": {
    "execution": {
     "iopub.execute_input": "2021-01-25T11:55:02.896913Z",
     "iopub.status.busy": "2021-01-25T11:55:02.896056Z",
     "iopub.status.idle": "2021-01-25T11:55:02.899026Z",
     "shell.execute_reply": "2021-01-25T11:55:02.898502Z"
    },
    "papermill": {
     "duration": 0.055633,
     "end_time": "2021-01-25T11:55:02.899133",
     "exception": false,
     "start_time": "2021-01-25T11:55:02.843500",
     "status": "completed"
    },
    "tags": []
   },
   "outputs": [],
   "source": [
    "from sklearn.preprocessing import MinMaxScaler"
   ]
  },
  {
   "cell_type": "code",
   "execution_count": 23,
   "metadata": {
    "execution": {
     "iopub.execute_input": "2021-01-25T11:55:03.003749Z",
     "iopub.status.busy": "2021-01-25T11:55:03.002881Z",
     "iopub.status.idle": "2021-01-25T11:55:03.006253Z",
     "shell.execute_reply": "2021-01-25T11:55:03.005553Z"
    },
    "papermill": {
     "duration": 0.057847,
     "end_time": "2021-01-25T11:55:03.006361",
     "exception": false,
     "start_time": "2021-01-25T11:55:02.948514",
     "status": "completed"
    },
    "tags": []
   },
   "outputs": [],
   "source": [
    "scaler_object = MinMaxScaler()"
   ]
  },
  {
   "cell_type": "code",
   "execution_count": 24,
   "metadata": {
    "execution": {
     "iopub.execute_input": "2021-01-25T11:55:03.110954Z",
     "iopub.status.busy": "2021-01-25T11:55:03.110045Z",
     "iopub.status.idle": "2021-01-25T11:55:03.112448Z",
     "shell.execute_reply": "2021-01-25T11:55:03.112976Z"
    },
    "papermill": {
     "duration": 0.057349,
     "end_time": "2021-01-25T11:55:03.113098",
     "exception": false,
     "start_time": "2021-01-25T11:55:03.055749",
     "status": "completed"
    },
    "tags": []
   },
   "outputs": [],
   "source": [
    "scaled_X_train = scaler_object.fit_transform(X_train)"
   ]
  },
  {
   "cell_type": "code",
   "execution_count": 25,
   "metadata": {
    "execution": {
     "iopub.execute_input": "2021-01-25T11:55:03.218125Z",
     "iopub.status.busy": "2021-01-25T11:55:03.217234Z",
     "iopub.status.idle": "2021-01-25T11:55:03.220134Z",
     "shell.execute_reply": "2021-01-25T11:55:03.219607Z"
    },
    "papermill": {
     "duration": 0.058078,
     "end_time": "2021-01-25T11:55:03.220238",
     "exception": false,
     "start_time": "2021-01-25T11:55:03.162160",
     "status": "completed"
    },
    "tags": []
   },
   "outputs": [],
   "source": [
    "scaled_X_test = scaler_object.transform(X_test) # we won't fit the test data as that would be cheating :P ;)"
   ]
  },
  {
   "cell_type": "code",
   "execution_count": 26,
   "metadata": {
    "execution": {
     "iopub.execute_input": "2021-01-25T11:55:03.324773Z",
     "iopub.status.busy": "2021-01-25T11:55:03.323953Z",
     "iopub.status.idle": "2021-01-25T11:55:03.328005Z",
     "shell.execute_reply": "2021-01-25T11:55:03.327470Z"
    },
    "papermill": {
     "duration": 0.057995,
     "end_time": "2021-01-25T11:55:03.328119",
     "exception": false,
     "start_time": "2021-01-25T11:55:03.270124",
     "status": "completed"
    },
    "tags": []
   },
   "outputs": [
    {
     "data": {
      "text/plain": [
       "7.7"
      ]
     },
     "execution_count": 26,
     "metadata": {},
     "output_type": "execute_result"
    }
   ],
   "source": [
    "X_train.max()"
   ]
  },
  {
   "cell_type": "code",
   "execution_count": 27,
   "metadata": {
    "execution": {
     "iopub.execute_input": "2021-01-25T11:55:03.435979Z",
     "iopub.status.busy": "2021-01-25T11:55:03.435155Z",
     "iopub.status.idle": "2021-01-25T11:55:03.438526Z",
     "shell.execute_reply": "2021-01-25T11:55:03.439053Z"
    },
    "papermill": {
     "duration": 0.059653,
     "end_time": "2021-01-25T11:55:03.439177",
     "exception": false,
     "start_time": "2021-01-25T11:55:03.379524",
     "status": "completed"
    },
    "tags": []
   },
   "outputs": [
    {
     "data": {
      "text/plain": [
       "1.0"
      ]
     },
     "execution_count": 27,
     "metadata": {},
     "output_type": "execute_result"
    }
   ],
   "source": [
    "scaled_X_train.max()"
   ]
  },
  {
   "cell_type": "code",
   "execution_count": 28,
   "metadata": {
    "execution": {
     "iopub.execute_input": "2021-01-25T11:55:03.547795Z",
     "iopub.status.busy": "2021-01-25T11:55:03.547025Z",
     "iopub.status.idle": "2021-01-25T11:55:03.550515Z",
     "shell.execute_reply": "2021-01-25T11:55:03.551013Z"
    },
    "papermill": {
     "duration": 0.061333,
     "end_time": "2021-01-25T11:55:03.551148",
     "exception": false,
     "start_time": "2021-01-25T11:55:03.489815",
     "status": "completed"
    },
    "tags": []
   },
   "outputs": [
    {
     "data": {
      "text/plain": [
       "1.0909090909090908"
      ]
     },
     "execution_count": 28,
     "metadata": {},
     "output_type": "execute_result"
    }
   ],
   "source": [
    "scaled_X_test.max()"
   ]
  },
  {
   "cell_type": "code",
   "execution_count": 29,
   "metadata": {
    "execution": {
     "iopub.execute_input": "2021-01-25T11:55:03.664385Z",
     "iopub.status.busy": "2021-01-25T11:55:03.663435Z",
     "iopub.status.idle": "2021-01-25T11:55:03.667136Z",
     "shell.execute_reply": "2021-01-25T11:55:03.667741Z"
    },
    "papermill": {
     "duration": 0.066122,
     "end_time": "2021-01-25T11:55:03.667880",
     "exception": false,
     "start_time": "2021-01-25T11:55:03.601758",
     "status": "completed"
    },
    "tags": []
   },
   "outputs": [
    {
     "data": {
      "text/plain": [
       "array([[5.7, 2.9, 4.2, 1.3],\n",
       "       [7.6, 3. , 6.6, 2.1],\n",
       "       [5.6, 3. , 4.5, 1.5],\n",
       "       [5.1, 3.5, 1.4, 0.2],\n",
       "       [7.7, 2.8, 6.7, 2. ],\n",
       "       [5.8, 2.7, 4.1, 1. ],\n",
       "       [5.2, 3.4, 1.4, 0.2],\n",
       "       [5. , 3.5, 1.3, 0.3],\n",
       "       [5.1, 3.8, 1.9, 0.4],\n",
       "       [5. , 2. , 3.5, 1. ],\n",
       "       [6.3, 2.7, 4.9, 1.8],\n",
       "       [4.8, 3.4, 1.9, 0.2],\n",
       "       [5. , 3. , 1.6, 0.2],\n",
       "       [5.1, 3.3, 1.7, 0.5],\n",
       "       [5.6, 2.7, 4.2, 1.3],\n",
       "       [5.1, 3.4, 1.5, 0.2],\n",
       "       [5.7, 3. , 4.2, 1.2],\n",
       "       [7.7, 3.8, 6.7, 2.2],\n",
       "       [4.6, 3.2, 1.4, 0.2],\n",
       "       [6.2, 2.9, 4.3, 1.3],\n",
       "       [5.7, 2.5, 5. , 2. ],\n",
       "       [5.5, 4.2, 1.4, 0.2],\n",
       "       [6. , 3. , 4.8, 1.8],\n",
       "       [5.8, 2.7, 5.1, 1.9],\n",
       "       [6. , 2.2, 4. , 1. ],\n",
       "       [5.4, 3. , 4.5, 1.5],\n",
       "       [6.2, 3.4, 5.4, 2.3],\n",
       "       [5.5, 2.3, 4. , 1.3],\n",
       "       [5.4, 3.9, 1.7, 0.4],\n",
       "       [5. , 2.3, 3.3, 1. ],\n",
       "       [6.4, 2.7, 5.3, 1.9],\n",
       "       [5. , 3.3, 1.4, 0.2],\n",
       "       [5. , 3.2, 1.2, 0.2],\n",
       "       [5.5, 2.4, 3.8, 1.1],\n",
       "       [6.7, 3. , 5. , 1.7],\n",
       "       [4.9, 3.1, 1.5, 0.2],\n",
       "       [5.8, 2.8, 5.1, 2.4],\n",
       "       [5. , 3.4, 1.5, 0.2],\n",
       "       [5. , 3.5, 1.6, 0.6],\n",
       "       [5.9, 3.2, 4.8, 1.8],\n",
       "       [5.1, 2.5, 3. , 1.1],\n",
       "       [6.9, 3.2, 5.7, 2.3],\n",
       "       [6. , 2.7, 5.1, 1.6],\n",
       "       [6.1, 2.6, 5.6, 1.4],\n",
       "       [7.7, 3. , 6.1, 2.3],\n",
       "       [5.5, 2.5, 4. , 1.3],\n",
       "       [4.4, 2.9, 1.4, 0.2],\n",
       "       [4.3, 3. , 1.1, 0.1],\n",
       "       [6. , 2.2, 5. , 1.5],\n",
       "       [7.2, 3.2, 6. , 1.8],\n",
       "       [4.6, 3.1, 1.5, 0.2],\n",
       "       [5.1, 3.5, 1.4, 0.3],\n",
       "       [4.4, 3. , 1.3, 0.2],\n",
       "       [6.3, 2.5, 4.9, 1.5],\n",
       "       [6.3, 3.4, 5.6, 2.4],\n",
       "       [4.6, 3.4, 1.4, 0.3],\n",
       "       [6.8, 3. , 5.5, 2.1],\n",
       "       [6.3, 3.3, 6. , 2.5],\n",
       "       [4.7, 3.2, 1.3, 0.2],\n",
       "       [6.1, 2.9, 4.7, 1.4],\n",
       "       [6.5, 2.8, 4.6, 1.5],\n",
       "       [6.2, 2.8, 4.8, 1.8],\n",
       "       [7. , 3.2, 4.7, 1.4],\n",
       "       [6.4, 3.2, 5.3, 2.3],\n",
       "       [5.1, 3.8, 1.6, 0.2],\n",
       "       [6.9, 3.1, 5.4, 2.1],\n",
       "       [5.9, 3. , 4.2, 1.5],\n",
       "       [6.5, 3. , 5.2, 2. ],\n",
       "       [5.7, 2.6, 3.5, 1. ],\n",
       "       [5.2, 2.7, 3.9, 1.4],\n",
       "       [6.1, 3. , 4.6, 1.4],\n",
       "       [4.5, 2.3, 1.3, 0.3],\n",
       "       [6.6, 2.9, 4.6, 1.3],\n",
       "       [5.5, 2.6, 4.4, 1.2],\n",
       "       [5.3, 3.7, 1.5, 0.2],\n",
       "       [5.6, 3. , 4.1, 1.3],\n",
       "       [7.3, 2.9, 6.3, 1.8],\n",
       "       [6.7, 3.3, 5.7, 2.1],\n",
       "       [5.1, 3.7, 1.5, 0.4],\n",
       "       [4.9, 2.4, 3.3, 1. ],\n",
       "       [6.7, 3.3, 5.7, 2.5],\n",
       "       [7.2, 3. , 5.8, 1.6],\n",
       "       [4.9, 3.6, 1.4, 0.1],\n",
       "       [6.7, 3.1, 5.6, 2.4],\n",
       "       [4.9, 3. , 1.4, 0.2],\n",
       "       [6.9, 3.1, 4.9, 1.5],\n",
       "       [7.4, 2.8, 6.1, 1.9],\n",
       "       [6.3, 2.9, 5.6, 1.8],\n",
       "       [5.7, 2.8, 4.1, 1.3],\n",
       "       [6.5, 3. , 5.5, 1.8],\n",
       "       [6.3, 2.3, 4.4, 1.3],\n",
       "       [6.4, 2.9, 4.3, 1.3],\n",
       "       [5.6, 2.8, 4.9, 2. ],\n",
       "       [5.9, 3. , 5.1, 1.8],\n",
       "       [5.4, 3.4, 1.7, 0.2],\n",
       "       [6.1, 2.8, 4. , 1.3],\n",
       "       [4.9, 2.5, 4.5, 1.7],\n",
       "       [5.8, 4. , 1.2, 0.2],\n",
       "       [5.8, 2.6, 4. , 1.2],\n",
       "       [7.1, 3. , 5.9, 2.1]])"
      ]
     },
     "execution_count": 29,
     "metadata": {},
     "output_type": "execute_result"
    }
   ],
   "source": [
    "X_train"
   ]
  },
  {
   "cell_type": "code",
   "execution_count": 30,
   "metadata": {
    "execution": {
     "iopub.execute_input": "2021-01-25T11:55:03.786818Z",
     "iopub.status.busy": "2021-01-25T11:55:03.785773Z",
     "iopub.status.idle": "2021-01-25T11:55:03.789370Z",
     "shell.execute_reply": "2021-01-25T11:55:03.789845Z"
    },
    "papermill": {
     "duration": 0.069366,
     "end_time": "2021-01-25T11:55:03.789984",
     "exception": false,
     "start_time": "2021-01-25T11:55:03.720618",
     "status": "completed"
    },
    "tags": []
   },
   "outputs": [
    {
     "data": {
      "text/plain": [
       "array([[0.41176471, 0.40909091, 0.55357143, 0.5       ],\n",
       "       [0.97058824, 0.45454545, 0.98214286, 0.83333333],\n",
       "       [0.38235294, 0.45454545, 0.60714286, 0.58333333],\n",
       "       [0.23529412, 0.68181818, 0.05357143, 0.04166667],\n",
       "       [1.        , 0.36363636, 1.        , 0.79166667],\n",
       "       [0.44117647, 0.31818182, 0.53571429, 0.375     ],\n",
       "       [0.26470588, 0.63636364, 0.05357143, 0.04166667],\n",
       "       [0.20588235, 0.68181818, 0.03571429, 0.08333333],\n",
       "       [0.23529412, 0.81818182, 0.14285714, 0.125     ],\n",
       "       [0.20588235, 0.        , 0.42857143, 0.375     ],\n",
       "       [0.58823529, 0.31818182, 0.67857143, 0.70833333],\n",
       "       [0.14705882, 0.63636364, 0.14285714, 0.04166667],\n",
       "       [0.20588235, 0.45454545, 0.08928571, 0.04166667],\n",
       "       [0.23529412, 0.59090909, 0.10714286, 0.16666667],\n",
       "       [0.38235294, 0.31818182, 0.55357143, 0.5       ],\n",
       "       [0.23529412, 0.63636364, 0.07142857, 0.04166667],\n",
       "       [0.41176471, 0.45454545, 0.55357143, 0.45833333],\n",
       "       [1.        , 0.81818182, 1.        , 0.875     ],\n",
       "       [0.08823529, 0.54545455, 0.05357143, 0.04166667],\n",
       "       [0.55882353, 0.40909091, 0.57142857, 0.5       ],\n",
       "       [0.41176471, 0.22727273, 0.69642857, 0.79166667],\n",
       "       [0.35294118, 1.        , 0.05357143, 0.04166667],\n",
       "       [0.5       , 0.45454545, 0.66071429, 0.70833333],\n",
       "       [0.44117647, 0.31818182, 0.71428571, 0.75      ],\n",
       "       [0.5       , 0.09090909, 0.51785714, 0.375     ],\n",
       "       [0.32352941, 0.45454545, 0.60714286, 0.58333333],\n",
       "       [0.55882353, 0.63636364, 0.76785714, 0.91666667],\n",
       "       [0.35294118, 0.13636364, 0.51785714, 0.5       ],\n",
       "       [0.32352941, 0.86363636, 0.10714286, 0.125     ],\n",
       "       [0.20588235, 0.13636364, 0.39285714, 0.375     ],\n",
       "       [0.61764706, 0.31818182, 0.75      , 0.75      ],\n",
       "       [0.20588235, 0.59090909, 0.05357143, 0.04166667],\n",
       "       [0.20588235, 0.54545455, 0.01785714, 0.04166667],\n",
       "       [0.35294118, 0.18181818, 0.48214286, 0.41666667],\n",
       "       [0.70588235, 0.45454545, 0.69642857, 0.66666667],\n",
       "       [0.17647059, 0.5       , 0.07142857, 0.04166667],\n",
       "       [0.44117647, 0.36363636, 0.71428571, 0.95833333],\n",
       "       [0.20588235, 0.63636364, 0.07142857, 0.04166667],\n",
       "       [0.20588235, 0.68181818, 0.08928571, 0.20833333],\n",
       "       [0.47058824, 0.54545455, 0.66071429, 0.70833333],\n",
       "       [0.23529412, 0.22727273, 0.33928571, 0.41666667],\n",
       "       [0.76470588, 0.54545455, 0.82142857, 0.91666667],\n",
       "       [0.5       , 0.31818182, 0.71428571, 0.625     ],\n",
       "       [0.52941176, 0.27272727, 0.80357143, 0.54166667],\n",
       "       [1.        , 0.45454545, 0.89285714, 0.91666667],\n",
       "       [0.35294118, 0.22727273, 0.51785714, 0.5       ],\n",
       "       [0.02941176, 0.40909091, 0.05357143, 0.04166667],\n",
       "       [0.        , 0.45454545, 0.        , 0.        ],\n",
       "       [0.5       , 0.09090909, 0.69642857, 0.58333333],\n",
       "       [0.85294118, 0.54545455, 0.875     , 0.70833333],\n",
       "       [0.08823529, 0.5       , 0.07142857, 0.04166667],\n",
       "       [0.23529412, 0.68181818, 0.05357143, 0.08333333],\n",
       "       [0.02941176, 0.45454545, 0.03571429, 0.04166667],\n",
       "       [0.58823529, 0.22727273, 0.67857143, 0.58333333],\n",
       "       [0.58823529, 0.63636364, 0.80357143, 0.95833333],\n",
       "       [0.08823529, 0.63636364, 0.05357143, 0.08333333],\n",
       "       [0.73529412, 0.45454545, 0.78571429, 0.83333333],\n",
       "       [0.58823529, 0.59090909, 0.875     , 1.        ],\n",
       "       [0.11764706, 0.54545455, 0.03571429, 0.04166667],\n",
       "       [0.52941176, 0.40909091, 0.64285714, 0.54166667],\n",
       "       [0.64705882, 0.36363636, 0.625     , 0.58333333],\n",
       "       [0.55882353, 0.36363636, 0.66071429, 0.70833333],\n",
       "       [0.79411765, 0.54545455, 0.64285714, 0.54166667],\n",
       "       [0.61764706, 0.54545455, 0.75      , 0.91666667],\n",
       "       [0.23529412, 0.81818182, 0.08928571, 0.04166667],\n",
       "       [0.76470588, 0.5       , 0.76785714, 0.83333333],\n",
       "       [0.47058824, 0.45454545, 0.55357143, 0.58333333],\n",
       "       [0.64705882, 0.45454545, 0.73214286, 0.79166667],\n",
       "       [0.41176471, 0.27272727, 0.42857143, 0.375     ],\n",
       "       [0.26470588, 0.31818182, 0.5       , 0.54166667],\n",
       "       [0.52941176, 0.45454545, 0.625     , 0.54166667],\n",
       "       [0.05882353, 0.13636364, 0.03571429, 0.08333333],\n",
       "       [0.67647059, 0.40909091, 0.625     , 0.5       ],\n",
       "       [0.35294118, 0.27272727, 0.58928571, 0.45833333],\n",
       "       [0.29411765, 0.77272727, 0.07142857, 0.04166667],\n",
       "       [0.38235294, 0.45454545, 0.53571429, 0.5       ],\n",
       "       [0.88235294, 0.40909091, 0.92857143, 0.70833333],\n",
       "       [0.70588235, 0.59090909, 0.82142857, 0.83333333],\n",
       "       [0.23529412, 0.77272727, 0.07142857, 0.125     ],\n",
       "       [0.17647059, 0.18181818, 0.39285714, 0.375     ],\n",
       "       [0.70588235, 0.59090909, 0.82142857, 1.        ],\n",
       "       [0.85294118, 0.45454545, 0.83928571, 0.625     ],\n",
       "       [0.17647059, 0.72727273, 0.05357143, 0.        ],\n",
       "       [0.70588235, 0.5       , 0.80357143, 0.95833333],\n",
       "       [0.17647059, 0.45454545, 0.05357143, 0.04166667],\n",
       "       [0.76470588, 0.5       , 0.67857143, 0.58333333],\n",
       "       [0.91176471, 0.36363636, 0.89285714, 0.75      ],\n",
       "       [0.58823529, 0.40909091, 0.80357143, 0.70833333],\n",
       "       [0.41176471, 0.36363636, 0.53571429, 0.5       ],\n",
       "       [0.64705882, 0.45454545, 0.78571429, 0.70833333],\n",
       "       [0.58823529, 0.13636364, 0.58928571, 0.5       ],\n",
       "       [0.61764706, 0.40909091, 0.57142857, 0.5       ],\n",
       "       [0.38235294, 0.36363636, 0.67857143, 0.79166667],\n",
       "       [0.47058824, 0.45454545, 0.71428571, 0.70833333],\n",
       "       [0.32352941, 0.63636364, 0.10714286, 0.04166667],\n",
       "       [0.52941176, 0.36363636, 0.51785714, 0.5       ],\n",
       "       [0.17647059, 0.22727273, 0.60714286, 0.66666667],\n",
       "       [0.44117647, 0.90909091, 0.01785714, 0.04166667],\n",
       "       [0.44117647, 0.27272727, 0.51785714, 0.45833333],\n",
       "       [0.82352941, 0.45454545, 0.85714286, 0.83333333]])"
      ]
     },
     "execution_count": 30,
     "metadata": {},
     "output_type": "execute_result"
    }
   ],
   "source": [
    "scaled_X_train"
   ]
  },
  {
   "cell_type": "markdown",
   "metadata": {
    "papermill": {
     "duration": 0.052776,
     "end_time": "2021-01-25T11:55:03.894366",
     "exception": false,
     "start_time": "2021-01-25T11:55:03.841590",
     "status": "completed"
    },
    "tags": []
   },
   "source": [
    "<a id=\"chap6\"></a>\n",
    "<h3 style=\"background-color:gold;font-family:newtimeroman;font-size:200%;text-align:center\">Network Building using KERAS</h3>"
   ]
  },
  {
   "cell_type": "code",
   "execution_count": 31,
   "metadata": {
    "execution": {
     "iopub.execute_input": "2021-01-25T11:55:04.007909Z",
     "iopub.status.busy": "2021-01-25T11:55:04.007035Z",
     "iopub.status.idle": "2021-01-25T11:55:06.450262Z",
     "shell.execute_reply": "2021-01-25T11:55:06.449663Z"
    },
    "papermill": {
     "duration": 2.503204,
     "end_time": "2021-01-25T11:55:06.450381",
     "exception": false,
     "start_time": "2021-01-25T11:55:03.947177",
     "status": "completed"
    },
    "tags": []
   },
   "outputs": [
    {
     "name": "stdout",
     "output_type": "stream",
     "text": [
      "Device mapping:\n",
      "/job:localhost/replica:0/task:0/device:XLA_CPU:0 -> device: XLA_CPU device\n",
      "/job:localhost/replica:0/task:0/device:GPU:0 -> device: 0, name: Tesla P100-PCIE-16GB, pci bus id: 0000:00:04.0, compute capability: 6.0\n",
      "/job:localhost/replica:0/task:0/device:XLA_GPU:0 -> device: XLA_GPU device\n",
      "\n"
     ]
    }
   ],
   "source": [
    "## Activating model session on GPU\n",
    "import keras\n",
    "import tensorflow.compat.v1 as tf\n",
    "\n",
    "sess = tf.Session(config=tf.ConfigProto(log_device_placement=True))\n",
    "tf.compat.v1.keras.backend.set_session(sess)"
   ]
  },
  {
   "cell_type": "code",
   "execution_count": 32,
   "metadata": {
    "execution": {
     "iopub.execute_input": "2021-01-25T11:55:06.576788Z",
     "iopub.status.busy": "2021-01-25T11:55:06.575801Z",
     "iopub.status.idle": "2021-01-25T11:55:06.579110Z",
     "shell.execute_reply": "2021-01-25T11:55:06.578606Z"
    },
    "papermill": {
     "duration": 0.074571,
     "end_time": "2021-01-25T11:55:06.579212",
     "exception": false,
     "start_time": "2021-01-25T11:55:06.504641",
     "status": "completed"
    },
    "tags": []
   },
   "outputs": [],
   "source": [
    "# Building a Sequential Keras model\n",
    "from keras.models import Sequential\n",
    "from keras.layers import Dense"
   ]
  },
  {
   "cell_type": "code",
   "execution_count": 33,
   "metadata": {
    "execution": {
     "iopub.execute_input": "2021-01-25T11:55:06.693656Z",
     "iopub.status.busy": "2021-01-25T11:55:06.693011Z",
     "iopub.status.idle": "2021-01-25T11:55:07.088194Z",
     "shell.execute_reply": "2021-01-25T11:55:07.087160Z"
    },
    "papermill": {
     "duration": 0.456464,
     "end_time": "2021-01-25T11:55:07.088327",
     "exception": false,
     "start_time": "2021-01-25T11:55:06.631863",
     "status": "completed"
    },
    "tags": []
   },
   "outputs": [],
   "source": [
    "# Creating a model instance and generating simple layers\n",
    "model = Sequential()\n",
    "model.add(Dense(16,input_dim=4, activation='relu')) # I used 16 neurons, input_dim = 4 since we expect 4 features, and Rectified Linear Unit as activ. fn.\n",
    "model.add(Dense(16,input_dim=4, activation='relu')) # Adding another dense layer\n",
    "model.add(Dense(3,activation='softmax')) # Each neuron will have a probability of belonging to a particular class as we've three classes\n",
    "## The output of the above 3 neurons will look something like [0.1,0.3,0.6] with 3rd class having the highest probability.\n",
    "## Since we used softmax, it will give us a basic idea where our max probability is leaning towards!\n",
    "\n",
    "model.compile(loss='categorical_crossentropy', optimizer='adam', metrics=['accuracy'])\n",
    "## Since we've three categories, hence, we used loss = categorical_crossentropy to perform loss"
   ]
  },
  {
   "cell_type": "code",
   "execution_count": 34,
   "metadata": {
    "execution": {
     "iopub.execute_input": "2021-01-25T11:55:07.204418Z",
     "iopub.status.busy": "2021-01-25T11:55:07.203406Z",
     "iopub.status.idle": "2021-01-25T11:55:07.208281Z",
     "shell.execute_reply": "2021-01-25T11:55:07.208940Z"
    },
    "papermill": {
     "duration": 0.066565,
     "end_time": "2021-01-25T11:55:07.209101",
     "exception": false,
     "start_time": "2021-01-25T11:55:07.142536",
     "status": "completed"
    },
    "tags": []
   },
   "outputs": [
    {
     "name": "stdout",
     "output_type": "stream",
     "text": [
      "Model: \"sequential\"\n",
      "_________________________________________________________________\n",
      "Layer (type)                 Output Shape              Param #   \n",
      "=================================================================\n",
      "dense (Dense)                (None, 16)                80        \n",
      "_________________________________________________________________\n",
      "dense_1 (Dense)              (None, 16)                272       \n",
      "_________________________________________________________________\n",
      "dense_2 (Dense)              (None, 3)                 51        \n",
      "=================================================================\n",
      "Total params: 403\n",
      "Trainable params: 403\n",
      "Non-trainable params: 0\n",
      "_________________________________________________________________\n"
     ]
    }
   ],
   "source": [
    "# Let's check the shape of the model\n",
    "model.summary()"
   ]
  },
  {
   "cell_type": "markdown",
   "metadata": {
    "papermill": {
     "duration": 0.052782,
     "end_time": "2021-01-25T11:55:07.318311",
     "exception": false,
     "start_time": "2021-01-25T11:55:07.265529",
     "status": "completed"
    },
    "tags": []
   },
   "source": [
    "<a id=\"chap7\"></a>\n",
    "<h3 style=\"background-color:gold;font-family:newtimeroman;font-size:200%;text-align:center\">Model Training</h3>"
   ]
  },
  {
   "cell_type": "code",
   "execution_count": 35,
   "metadata": {
    "execution": {
     "iopub.execute_input": "2021-01-25T11:55:07.430513Z",
     "iopub.status.busy": "2021-01-25T11:55:07.429674Z",
     "iopub.status.idle": "2021-01-25T11:55:15.058049Z",
     "shell.execute_reply": "2021-01-25T11:55:15.057491Z"
    },
    "papermill": {
     "duration": 7.686905,
     "end_time": "2021-01-25T11:55:15.058159",
     "exception": false,
     "start_time": "2021-01-25T11:55:07.371254",
     "status": "completed"
    },
    "tags": []
   },
   "outputs": [
    {
     "name": "stdout",
     "output_type": "stream",
     "text": [
      "Epoch 1/240\n",
      "10/10 - 0s - loss: 1.1000 - accuracy: 0.4125\n",
      "Epoch 2/240\n",
      "10/10 - 0s - loss: 1.0721 - accuracy: 0.6316\n",
      "Epoch 3/240\n",
      "10/10 - 0s - loss: 1.0238 - accuracy: 0.6842\n",
      "Epoch 4/240\n",
      "10/10 - 0s - loss: 0.9989 - accuracy: 0.6579\n",
      "Epoch 5/240\n",
      "10/10 - 0s - loss: 0.9667 - accuracy: 0.6500\n",
      "Epoch 6/240\n",
      "10/10 - 0s - loss: 0.9312 - accuracy: 0.6711\n",
      "Epoch 7/240\n",
      "10/10 - 0s - loss: 0.9025 - accuracy: 0.6447\n",
      "Epoch 8/240\n",
      "10/10 - 0s - loss: 0.8747 - accuracy: 0.6579\n",
      "Epoch 9/240\n",
      "10/10 - 0s - loss: 0.8422 - accuracy: 0.6375\n",
      "Epoch 10/240\n",
      "10/10 - 0s - loss: 0.8154 - accuracy: 0.6447\n",
      "Epoch 11/240\n",
      "10/10 - 0s - loss: 0.7811 - accuracy: 0.6316\n",
      "Epoch 12/240\n",
      "10/10 - 0s - loss: 0.7456 - accuracy: 0.6579\n",
      "Epoch 13/240\n",
      "10/10 - 0s - loss: 0.7307 - accuracy: 0.6579\n",
      "Epoch 14/240\n",
      "10/10 - 0s - loss: 0.7089 - accuracy: 0.7625\n",
      "Epoch 15/240\n",
      "10/10 - 0s - loss: 0.6649 - accuracy: 0.8026\n",
      "Epoch 16/240\n",
      "10/10 - 0s - loss: 0.6492 - accuracy: 0.8158\n",
      "Epoch 17/240\n",
      "10/10 - 0s - loss: 0.6211 - accuracy: 0.7237\n",
      "Epoch 18/240\n",
      "10/10 - 0s - loss: 0.6182 - accuracy: 0.8250\n",
      "Epoch 19/240\n",
      "10/10 - 0s - loss: 0.5700 - accuracy: 0.8289\n",
      "Epoch 20/240\n",
      "10/10 - 0s - loss: 0.5965 - accuracy: 0.7500\n",
      "Epoch 21/240\n",
      "10/10 - 0s - loss: 0.5474 - accuracy: 0.8026\n",
      "Epoch 22/240\n",
      "10/10 - 0s - loss: 0.5447 - accuracy: 0.7250\n",
      "Epoch 23/240\n",
      "10/10 - 0s - loss: 0.5378 - accuracy: 0.6974\n",
      "Epoch 24/240\n",
      "10/10 - 0s - loss: 0.4938 - accuracy: 0.7763\n",
      "Epoch 25/240\n",
      "10/10 - 0s - loss: 0.5380 - accuracy: 0.7763\n",
      "Epoch 26/240\n",
      "10/10 - 0s - loss: 0.4803 - accuracy: 0.7895\n",
      "Epoch 27/240\n",
      "10/10 - 0s - loss: 0.4938 - accuracy: 0.7875\n",
      "Epoch 28/240\n",
      "10/10 - 0s - loss: 0.4730 - accuracy: 0.8684\n",
      "Epoch 29/240\n",
      "10/10 - 0s - loss: 0.4490 - accuracy: 0.8947\n",
      "Epoch 30/240\n",
      "10/10 - 0s - loss: 0.4873 - accuracy: 0.8421\n",
      "Epoch 31/240\n",
      "10/10 - 0s - loss: 0.4600 - accuracy: 0.8500\n",
      "Epoch 32/240\n",
      "10/10 - 0s - loss: 0.4616 - accuracy: 0.8421\n",
      "Epoch 33/240\n",
      "10/10 - 0s - loss: 0.4097 - accuracy: 0.9079\n",
      "Epoch 34/240\n",
      "10/10 - 0s - loss: 0.4336 - accuracy: 0.8816\n",
      "Epoch 35/240\n",
      "10/10 - 0s - loss: 0.4264 - accuracy: 0.9000\n",
      "Epoch 36/240\n",
      "10/10 - 0s - loss: 0.4069 - accuracy: 0.9605\n",
      "Epoch 37/240\n",
      "10/10 - 0s - loss: 0.4288 - accuracy: 0.9079\n",
      "Epoch 38/240\n",
      "10/10 - 0s - loss: 0.3903 - accuracy: 0.9079\n",
      "Epoch 39/240\n",
      "10/10 - 0s - loss: 0.3993 - accuracy: 0.9342\n",
      "Epoch 40/240\n",
      "10/10 - 0s - loss: 0.3778 - accuracy: 0.9250\n",
      "Epoch 41/240\n",
      "10/10 - 0s - loss: 0.3769 - accuracy: 0.9474\n",
      "Epoch 42/240\n",
      "10/10 - 0s - loss: 0.3695 - accuracy: 0.9342\n",
      "Epoch 43/240\n",
      "10/10 - 0s - loss: 0.3456 - accuracy: 0.9342\n",
      "Epoch 44/240\n",
      "10/10 - 0s - loss: 0.3559 - accuracy: 0.9250\n",
      "Epoch 45/240\n",
      "10/10 - 0s - loss: 0.3428 - accuracy: 0.9605\n",
      "Epoch 46/240\n",
      "10/10 - 0s - loss: 0.3366 - accuracy: 0.9342\n",
      "Epoch 47/240\n",
      "10/10 - 0s - loss: 0.3310 - accuracy: 0.9474\n",
      "Epoch 48/240\n",
      "10/10 - 0s - loss: 0.3107 - accuracy: 0.9375\n",
      "Epoch 49/240\n",
      "10/10 - 0s - loss: 0.3293 - accuracy: 0.9342\n",
      "Epoch 50/240\n",
      "10/10 - 0s - loss: 0.2990 - accuracy: 0.9342\n",
      "Epoch 51/240\n",
      "10/10 - 0s - loss: 0.2446 - accuracy: 0.9868\n",
      "Epoch 52/240\n",
      "10/10 - 0s - loss: 0.3149 - accuracy: 0.9474\n",
      "Epoch 53/240\n",
      "10/10 - 0s - loss: 0.2684 - accuracy: 0.9625\n",
      "Epoch 54/240\n",
      "10/10 - 0s - loss: 0.2862 - accuracy: 0.9474\n",
      "Epoch 55/240\n",
      "10/10 - 0s - loss: 0.2488 - accuracy: 0.9474\n",
      "Epoch 56/240\n",
      "10/10 - 0s - loss: 0.2668 - accuracy: 0.9605\n",
      "Epoch 57/240\n",
      "10/10 - 0s - loss: 0.2541 - accuracy: 0.9500\n",
      "Epoch 58/240\n",
      "10/10 - 0s - loss: 0.2601 - accuracy: 0.9605\n",
      "Epoch 59/240\n",
      "10/10 - 0s - loss: 0.2188 - accuracy: 0.9474\n",
      "Epoch 60/240\n",
      "10/10 - 0s - loss: 0.2335 - accuracy: 0.9737\n",
      "Epoch 61/240\n",
      "10/10 - 0s - loss: 0.2202 - accuracy: 0.9500\n",
      "Epoch 62/240\n",
      "10/10 - 0s - loss: 0.2189 - accuracy: 0.9474\n",
      "Epoch 63/240\n",
      "10/10 - 0s - loss: 0.2098 - accuracy: 0.9342\n",
      "Epoch 64/240\n",
      "10/10 - 0s - loss: 0.2353 - accuracy: 0.9474\n",
      "Epoch 65/240\n",
      "10/10 - 0s - loss: 0.1924 - accuracy: 0.9737\n",
      "Epoch 66/240\n",
      "10/10 - 0s - loss: 0.2147 - accuracy: 0.9500\n",
      "Epoch 67/240\n",
      "10/10 - 0s - loss: 0.1788 - accuracy: 0.9737\n",
      "Epoch 68/240\n",
      "10/10 - 0s - loss: 0.2154 - accuracy: 0.9474\n",
      "Epoch 69/240\n",
      "10/10 - 0s - loss: 0.1609 - accuracy: 0.9737\n",
      "Epoch 70/240\n",
      "10/10 - 0s - loss: 0.1853 - accuracy: 0.9625\n",
      "Epoch 71/240\n",
      "10/10 - 0s - loss: 0.1707 - accuracy: 0.9474\n",
      "Epoch 72/240\n",
      "10/10 - 0s - loss: 0.1666 - accuracy: 0.9474\n",
      "Epoch 73/240\n",
      "10/10 - 0s - loss: 0.2052 - accuracy: 0.9342\n",
      "Epoch 74/240\n",
      "10/10 - 0s - loss: 0.1646 - accuracy: 0.9750\n",
      "Epoch 75/240\n",
      "10/10 - 0s - loss: 0.1554 - accuracy: 0.9737\n",
      "Epoch 76/240\n",
      "10/10 - 0s - loss: 0.1408 - accuracy: 0.9737\n",
      "Epoch 77/240\n",
      "10/10 - 0s - loss: 0.1767 - accuracy: 0.9211\n",
      "Epoch 78/240\n",
      "10/10 - 0s - loss: 0.1688 - accuracy: 0.9474\n",
      "Epoch 79/240\n",
      "10/10 - 0s - loss: 0.1610 - accuracy: 0.9500\n",
      "Epoch 80/240\n",
      "10/10 - 0s - loss: 0.1526 - accuracy: 0.9737\n",
      "Epoch 81/240\n",
      "10/10 - 0s - loss: 0.1415 - accuracy: 0.9474\n",
      "Epoch 82/240\n",
      "10/10 - 0s - loss: 0.1513 - accuracy: 0.9605\n",
      "Epoch 83/240\n",
      "10/10 - 0s - loss: 0.1567 - accuracy: 0.9500\n",
      "Epoch 84/240\n",
      "10/10 - 0s - loss: 0.1460 - accuracy: 0.9474\n",
      "Epoch 85/240\n",
      "10/10 - 0s - loss: 0.1185 - accuracy: 1.0000\n",
      "Epoch 86/240\n",
      "10/10 - 0s - loss: 0.1346 - accuracy: 0.9474\n",
      "Epoch 87/240\n",
      "10/10 - 0s - loss: 0.1403 - accuracy: 0.9500\n",
      "Epoch 88/240\n",
      "10/10 - 0s - loss: 0.1426 - accuracy: 0.9605\n",
      "Epoch 89/240\n",
      "10/10 - 0s - loss: 0.1358 - accuracy: 0.9605\n",
      "Epoch 90/240\n",
      "10/10 - 0s - loss: 0.1278 - accuracy: 0.9737\n",
      "Epoch 91/240\n",
      "10/10 - 0s - loss: 0.1190 - accuracy: 0.9737\n",
      "Epoch 92/240\n",
      "10/10 - 0s - loss: 0.1193 - accuracy: 0.9750\n",
      "Epoch 93/240\n",
      "10/10 - 0s - loss: 0.1310 - accuracy: 0.9474\n",
      "Epoch 94/240\n",
      "10/10 - 0s - loss: 0.1148 - accuracy: 0.9868\n",
      "Epoch 95/240\n",
      "10/10 - 0s - loss: 0.1311 - accuracy: 0.9605\n",
      "Epoch 96/240\n",
      "10/10 - 0s - loss: 0.1298 - accuracy: 0.9500\n",
      "Epoch 97/240\n",
      "10/10 - 0s - loss: 0.1108 - accuracy: 0.9737\n",
      "Epoch 98/240\n",
      "10/10 - 0s - loss: 0.1260 - accuracy: 0.9605\n",
      "Epoch 99/240\n",
      "10/10 - 0s - loss: 0.1306 - accuracy: 0.9342\n",
      "Epoch 100/240\n",
      "10/10 - 0s - loss: 0.1020 - accuracy: 0.9750\n",
      "Epoch 101/240\n",
      "10/10 - 0s - loss: 0.1213 - accuracy: 0.9605\n",
      "Epoch 102/240\n",
      "10/10 - 0s - loss: 0.1078 - accuracy: 0.9868\n",
      "Epoch 103/240\n",
      "10/10 - 0s - loss: 0.1091 - accuracy: 0.9737\n",
      "Epoch 104/240\n",
      "10/10 - 0s - loss: 0.1193 - accuracy: 0.9605\n",
      "Epoch 105/240\n",
      "10/10 - 0s - loss: 0.1176 - accuracy: 0.9750\n",
      "Epoch 106/240\n",
      "10/10 - 0s - loss: 0.1135 - accuracy: 0.9474\n",
      "Epoch 107/240\n",
      "10/10 - 0s - loss: 0.0721 - accuracy: 0.9868\n",
      "Epoch 108/240\n",
      "10/10 - 0s - loss: 0.1286 - accuracy: 0.9605\n",
      "Epoch 109/240\n",
      "10/10 - 0s - loss: 0.1086 - accuracy: 0.9625\n",
      "Epoch 110/240\n",
      "10/10 - 0s - loss: 0.1287 - accuracy: 0.9605\n",
      "Epoch 111/240\n",
      "10/10 - 0s - loss: 0.0863 - accuracy: 0.9868\n",
      "Epoch 112/240\n",
      "10/10 - 0s - loss: 0.0988 - accuracy: 0.9737\n",
      "Epoch 113/240\n",
      "10/10 - 0s - loss: 0.1027 - accuracy: 0.9625\n",
      "Epoch 114/240\n",
      "10/10 - 0s - loss: 0.1089 - accuracy: 0.9605\n",
      "Epoch 115/240\n",
      "10/10 - 0s - loss: 0.0838 - accuracy: 0.9868\n",
      "Epoch 116/240\n",
      "10/10 - 0s - loss: 0.1020 - accuracy: 0.9605\n",
      "Epoch 117/240\n",
      "10/10 - 0s - loss: 0.0989 - accuracy: 0.9737\n",
      "Epoch 118/240\n",
      "10/10 - 0s - loss: 0.1081 - accuracy: 0.9625\n",
      "Epoch 119/240\n",
      "10/10 - 0s - loss: 0.0988 - accuracy: 0.9737\n",
      "Epoch 120/240\n",
      "10/10 - 0s - loss: 0.0690 - accuracy: 0.9737\n",
      "Epoch 121/240\n",
      "10/10 - 0s - loss: 0.1094 - accuracy: 0.9737\n",
      "Epoch 122/240\n",
      "10/10 - 0s - loss: 0.0959 - accuracy: 0.9625\n",
      "Epoch 123/240\n",
      "10/10 - 0s - loss: 0.0926 - accuracy: 0.9737\n",
      "Epoch 124/240\n",
      "10/10 - 0s - loss: 0.0827 - accuracy: 0.9868\n",
      "Epoch 125/240\n",
      "10/10 - 0s - loss: 0.1082 - accuracy: 0.9474\n",
      "Epoch 126/240\n",
      "10/10 - 0s - loss: 0.0885 - accuracy: 0.9750\n",
      "Epoch 127/240\n",
      "10/10 - 0s - loss: 0.0640 - accuracy: 0.9737\n",
      "Epoch 128/240\n",
      "10/10 - 0s - loss: 0.1116 - accuracy: 0.9737\n",
      "Epoch 129/240\n",
      "10/10 - 0s - loss: 0.0854 - accuracy: 0.9737\n",
      "Epoch 130/240\n",
      "10/10 - 0s - loss: 0.0959 - accuracy: 0.9605\n",
      "Epoch 131/240\n",
      "10/10 - 0s - loss: 0.0961 - accuracy: 0.9625\n",
      "Epoch 132/240\n",
      "10/10 - 0s - loss: 0.0917 - accuracy: 0.9737\n",
      "Epoch 133/240\n",
      "10/10 - 0s - loss: 0.0759 - accuracy: 0.9868\n",
      "Epoch 134/240\n",
      "10/10 - 0s - loss: 0.0828 - accuracy: 0.9605\n",
      "Epoch 135/240\n",
      "10/10 - 0s - loss: 0.0818 - accuracy: 0.9750\n",
      "Epoch 136/240\n",
      "10/10 - 0s - loss: 0.0968 - accuracy: 0.9605\n",
      "Epoch 137/240\n",
      "10/10 - 0s - loss: 0.0927 - accuracy: 1.0000\n",
      "Epoch 138/240\n",
      "10/10 - 0s - loss: 0.0840 - accuracy: 0.9605\n",
      "Epoch 139/240\n",
      "10/10 - 0s - loss: 0.0758 - accuracy: 0.9875\n",
      "Epoch 140/240\n",
      "10/10 - 0s - loss: 0.0891 - accuracy: 0.9737\n",
      "Epoch 141/240\n",
      "10/10 - 0s - loss: 0.0842 - accuracy: 0.9737\n",
      "Epoch 142/240\n",
      "10/10 - 0s - loss: 0.0709 - accuracy: 0.9737\n",
      "Epoch 143/240\n",
      "10/10 - 0s - loss: 0.0879 - accuracy: 0.9737\n",
      "Epoch 144/240\n",
      "10/10 - 0s - loss: 0.0617 - accuracy: 0.9875\n",
      "Epoch 145/240\n",
      "10/10 - 0s - loss: 0.1139 - accuracy: 0.9605\n",
      "Epoch 146/240\n",
      "10/10 - 0s - loss: 0.0814 - accuracy: 0.9737\n",
      "Epoch 147/240\n",
      "10/10 - 0s - loss: 0.0750 - accuracy: 0.9868\n",
      "Epoch 148/240\n",
      "10/10 - 0s - loss: 0.0731 - accuracy: 0.9750\n",
      "Epoch 149/240\n",
      "10/10 - 0s - loss: 0.0686 - accuracy: 0.9737\n",
      "Epoch 150/240\n",
      "10/10 - 0s - loss: 0.1096 - accuracy: 0.9605\n",
      "Epoch 151/240\n",
      "10/10 - 0s - loss: 0.0702 - accuracy: 0.9605\n",
      "Epoch 152/240\n",
      "10/10 - 0s - loss: 0.0795 - accuracy: 0.9875\n",
      "Epoch 153/240\n",
      "10/10 - 0s - loss: 0.0751 - accuracy: 0.9737\n",
      "Epoch 154/240\n",
      "10/10 - 0s - loss: 0.0832 - accuracy: 0.9868\n",
      "Epoch 155/240\n",
      "10/10 - 0s - loss: 0.0693 - accuracy: 0.9605\n",
      "Epoch 156/240\n",
      "10/10 - 0s - loss: 0.0905 - accuracy: 0.9737\n",
      "Epoch 157/240\n",
      "10/10 - 0s - loss: 0.0756 - accuracy: 0.9625\n",
      "Epoch 158/240\n",
      "10/10 - 0s - loss: 0.0860 - accuracy: 0.9605\n",
      "Epoch 159/240\n",
      "10/10 - 0s - loss: 0.0685 - accuracy: 0.9868\n",
      "Epoch 160/240\n",
      "10/10 - 0s - loss: 0.0827 - accuracy: 0.9868\n",
      "Epoch 161/240\n",
      "10/10 - 0s - loss: 0.0694 - accuracy: 0.9750\n",
      "Epoch 162/240\n",
      "10/10 - 0s - loss: 0.0690 - accuracy: 0.9737\n",
      "Epoch 163/240\n",
      "10/10 - 0s - loss: 0.0696 - accuracy: 0.9868\n",
      "Epoch 164/240\n",
      "10/10 - 0s - loss: 0.0872 - accuracy: 0.9737\n",
      "Epoch 165/240\n",
      "10/10 - 0s - loss: 0.0801 - accuracy: 0.9750\n",
      "Epoch 166/240\n",
      "10/10 - 0s - loss: 0.0744 - accuracy: 0.9737\n",
      "Epoch 167/240\n",
      "10/10 - 0s - loss: 0.0700 - accuracy: 0.9868\n",
      "Epoch 168/240\n",
      "10/10 - 0s - loss: 0.0565 - accuracy: 0.9868\n",
      "Epoch 169/240\n",
      "10/10 - 0s - loss: 0.0899 - accuracy: 0.9737\n",
      "Epoch 170/240\n",
      "10/10 - 0s - loss: 0.0720 - accuracy: 0.9750\n",
      "Epoch 171/240\n",
      "10/10 - 0s - loss: 0.0784 - accuracy: 0.9605\n",
      "Epoch 172/240\n",
      "10/10 - 0s - loss: 0.0685 - accuracy: 0.9737\n",
      "Epoch 173/240\n",
      "10/10 - 0s - loss: 0.0736 - accuracy: 0.9737\n",
      "Epoch 174/240\n",
      "10/10 - 0s - loss: 0.0791 - accuracy: 0.9625\n",
      "Epoch 175/240\n",
      "10/10 - 0s - loss: 0.0779 - accuracy: 0.9737\n",
      "Epoch 176/240\n",
      "10/10 - 0s - loss: 0.0652 - accuracy: 0.9868\n",
      "Epoch 177/240\n",
      "10/10 - 0s - loss: 0.0681 - accuracy: 0.9605\n",
      "Epoch 178/240\n",
      "10/10 - 0s - loss: 0.0702 - accuracy: 0.9750\n",
      "Epoch 179/240\n",
      "10/10 - 0s - loss: 0.0731 - accuracy: 0.9737\n",
      "Epoch 180/240\n",
      "10/10 - 0s - loss: 0.0475 - accuracy: 0.9868\n",
      "Epoch 181/240\n",
      "10/10 - 0s - loss: 0.0900 - accuracy: 0.9605\n",
      "Epoch 182/240\n",
      "10/10 - 0s - loss: 0.0737 - accuracy: 0.9868\n",
      "Epoch 183/240\n",
      "10/10 - 0s - loss: 0.0780 - accuracy: 0.9500\n",
      "Epoch 184/240\n",
      "10/10 - 0s - loss: 0.0592 - accuracy: 0.9737\n",
      "Epoch 185/240\n",
      "10/10 - 0s - loss: 0.0545 - accuracy: 1.0000\n",
      "Epoch 186/240\n",
      "10/10 - 0s - loss: 0.0868 - accuracy: 0.9737\n",
      "Epoch 187/240\n",
      "10/10 - 0s - loss: 0.0775 - accuracy: 0.9625\n",
      "Epoch 188/240\n",
      "10/10 - 0s - loss: 0.0568 - accuracy: 0.9868\n",
      "Epoch 189/240\n",
      "10/10 - 0s - loss: 0.0687 - accuracy: 0.9868\n",
      "Epoch 190/240\n",
      "10/10 - 0s - loss: 0.0713 - accuracy: 0.9605\n",
      "Epoch 191/240\n",
      "10/10 - 0s - loss: 0.0573 - accuracy: 1.0000\n",
      "Epoch 192/240\n",
      "10/10 - 0s - loss: 0.1007 - accuracy: 0.9605\n",
      "Epoch 193/240\n",
      "10/10 - 0s - loss: 0.0537 - accuracy: 0.9868\n",
      "Epoch 194/240\n",
      "10/10 - 0s - loss: 0.0760 - accuracy: 0.9737\n",
      "Epoch 195/240\n",
      "10/10 - 0s - loss: 0.0526 - accuracy: 0.9737\n",
      "Epoch 196/240\n",
      "10/10 - 0s - loss: 0.0738 - accuracy: 0.9750\n",
      "Epoch 197/240\n",
      "10/10 - 0s - loss: 0.0585 - accuracy: 0.9868\n",
      "Epoch 198/240\n",
      "10/10 - 0s - loss: 0.0656 - accuracy: 0.9868\n",
      "Epoch 199/240\n",
      "10/10 - 0s - loss: 0.0690 - accuracy: 0.9737\n",
      "Epoch 200/240\n",
      "10/10 - 0s - loss: 0.0775 - accuracy: 0.9750\n",
      "Epoch 201/240\n",
      "10/10 - 0s - loss: 0.0648 - accuracy: 0.9737\n",
      "Epoch 202/240\n",
      "10/10 - 0s - loss: 0.0588 - accuracy: 1.0000\n",
      "Epoch 203/240\n",
      "10/10 - 0s - loss: 0.0655 - accuracy: 0.9737\n",
      "Epoch 204/240\n",
      "10/10 - 0s - loss: 0.0630 - accuracy: 0.9750\n",
      "Epoch 205/240\n",
      "10/10 - 0s - loss: 0.0550 - accuracy: 0.9868\n",
      "Epoch 206/240\n",
      "10/10 - 0s - loss: 0.0726 - accuracy: 0.9605\n",
      "Epoch 207/240\n",
      "10/10 - 0s - loss: 0.0622 - accuracy: 0.9868\n",
      "Epoch 208/240\n",
      "10/10 - 0s - loss: 0.0790 - accuracy: 0.9605\n",
      "Epoch 209/240\n",
      "10/10 - 0s - loss: 0.0637 - accuracy: 0.9750\n",
      "Epoch 210/240\n",
      "10/10 - 0s - loss: 0.0578 - accuracy: 0.9868\n",
      "Epoch 211/240\n",
      "10/10 - 0s - loss: 0.0840 - accuracy: 0.9605\n",
      "Epoch 212/240\n",
      "10/10 - 0s - loss: 0.0422 - accuracy: 0.9868\n",
      "Epoch 213/240\n",
      "10/10 - 0s - loss: 0.0701 - accuracy: 0.9625\n",
      "Epoch 214/240\n",
      "10/10 - 0s - loss: 0.0494 - accuracy: 0.9868\n",
      "Epoch 215/240\n",
      "10/10 - 0s - loss: 0.0590 - accuracy: 0.9868\n",
      "Epoch 216/240\n",
      "10/10 - 0s - loss: 0.0708 - accuracy: 0.9737\n",
      "Epoch 217/240\n",
      "10/10 - 0s - loss: 0.0769 - accuracy: 0.9750\n",
      "Epoch 218/240\n",
      "10/10 - 0s - loss: 0.0584 - accuracy: 0.9737\n",
      "Epoch 219/240\n",
      "10/10 - 0s - loss: 0.0747 - accuracy: 0.9737\n",
      "Epoch 220/240\n",
      "10/10 - 0s - loss: 0.0417 - accuracy: 1.0000\n",
      "Epoch 221/240\n",
      "10/10 - 0s - loss: 0.0756 - accuracy: 0.9737\n",
      "Epoch 222/240\n",
      "10/10 - 0s - loss: 0.0715 - accuracy: 0.9750\n",
      "Epoch 223/240\n",
      "10/10 - 0s - loss: 0.0364 - accuracy: 1.0000\n",
      "Epoch 224/240\n",
      "10/10 - 0s - loss: 0.0857 - accuracy: 0.9474\n",
      "Epoch 225/240\n",
      "10/10 - 0s - loss: 0.0508 - accuracy: 0.9868\n",
      "Epoch 226/240\n",
      "10/10 - 0s - loss: 0.0742 - accuracy: 0.9750\n",
      "Epoch 227/240\n",
      "10/10 - 0s - loss: 0.0527 - accuracy: 0.9868\n",
      "Epoch 228/240\n",
      "10/10 - 0s - loss: 0.0762 - accuracy: 0.9605\n",
      "Epoch 229/240\n",
      "10/10 - 0s - loss: 0.0536 - accuracy: 0.9868\n",
      "Epoch 230/240\n",
      "10/10 - 0s - loss: 0.0589 - accuracy: 0.9875\n",
      "Epoch 231/240\n",
      "10/10 - 0s - loss: 0.0504 - accuracy: 0.9868\n",
      "Epoch 232/240\n",
      "10/10 - 0s - loss: 0.0755 - accuracy: 0.9605\n",
      "Epoch 233/240\n",
      "10/10 - 0s - loss: 0.0716 - accuracy: 0.9737\n",
      "Epoch 234/240\n",
      "10/10 - 0s - loss: 0.0488 - accuracy: 0.9737\n",
      "Epoch 235/240\n",
      "10/10 - 0s - loss: 0.0645 - accuracy: 0.9750\n",
      "Epoch 236/240\n",
      "10/10 - 0s - loss: 0.0789 - accuracy: 0.9605\n",
      "Epoch 237/240\n",
      "10/10 - 0s - loss: 0.0526 - accuracy: 0.9868\n",
      "Epoch 238/240\n",
      "10/10 - 0s - loss: 0.0497 - accuracy: 0.9868\n",
      "Epoch 239/240\n",
      "10/10 - 0s - loss: 0.0704 - accuracy: 0.9750\n",
      "Epoch 240/240\n",
      "10/10 - 0s - loss: 0.0320 - accuracy: 1.0000\n"
     ]
    }
   ],
   "source": [
    "# Also known as fitting the model\n",
    "history = model.fit(scaled_X_train, y_train, batch_size=8, epochs=240, steps_per_epoch=10, verbose=2)"
   ]
  },
  {
   "cell_type": "code",
   "execution_count": 36,
   "metadata": {
    "execution": {
     "iopub.execute_input": "2021-01-25T11:55:15.464500Z",
     "iopub.status.busy": "2021-01-25T11:55:15.463732Z",
     "iopub.status.idle": "2021-01-25T11:55:15.467965Z",
     "shell.execute_reply": "2021-01-25T11:55:15.467416Z"
    },
    "papermill": {
     "duration": 0.208442,
     "end_time": "2021-01-25T11:55:15.468066",
     "exception": false,
     "start_time": "2021-01-25T11:55:15.259624",
     "status": "completed"
    },
    "tags": []
   },
   "outputs": [],
   "source": [
    "import matplotlib.pyplot as plt"
   ]
  },
  {
   "cell_type": "code",
   "execution_count": 37,
   "metadata": {
    "execution": {
     "iopub.execute_input": "2021-01-25T11:55:15.891633Z",
     "iopub.status.busy": "2021-01-25T11:55:15.889089Z",
     "iopub.status.idle": "2021-01-25T11:55:15.894216Z",
     "shell.execute_reply": "2021-01-25T11:55:15.893651Z"
    },
    "papermill": {
     "duration": 0.226973,
     "end_time": "2021-01-25T11:55:15.894317",
     "exception": false,
     "start_time": "2021-01-25T11:55:15.667344",
     "status": "completed"
    },
    "tags": []
   },
   "outputs": [
    {
     "name": "stdout",
     "output_type": "stream",
     "text": [
      "dict_keys(['loss', 'accuracy'])\n"
     ]
    }
   ],
   "source": [
    "# list all data in history\n",
    "print(history.history.keys())"
   ]
  },
  {
   "cell_type": "code",
   "execution_count": 38,
   "metadata": {
    "execution": {
     "iopub.execute_input": "2021-01-25T11:55:16.311904Z",
     "iopub.status.busy": "2021-01-25T11:55:16.311248Z",
     "iopub.status.idle": "2021-01-25T11:55:16.545054Z",
     "shell.execute_reply": "2021-01-25T11:55:16.545621Z"
    },
    "papermill": {
     "duration": 0.444029,
     "end_time": "2021-01-25T11:55:16.545766",
     "exception": false,
     "start_time": "2021-01-25T11:55:16.101737",
     "status": "completed"
    },
    "tags": []
   },
   "outputs": [
    {
     "data": {
      "image/png": "[encoded data removed]",
      "text/plain": [
       "<Figure size 432x288 with 1 Axes>"
      ]
     },
     "metadata": {
      "needs_background": "light"
     },
     "output_type": "display_data"
    }
   ],
   "source": [
    "# summarize history for accuracy\n",
    "plt.plot(history.history['accuracy'])\n",
    "plt.title('model accuracy')\n",
    "plt.ylabel('accuracy')\n",
    "plt.xlabel('epoch')\n",
    "plt.legend(['train', 'test'], loc='upper left')\n",
    "plt.show()"
   ]
  },
  {
   "cell_type": "code",
   "execution_count": 39,
   "metadata": {
    "execution": {
     "iopub.execute_input": "2021-01-25T11:55:17.013114Z",
     "iopub.status.busy": "2021-01-25T11:55:17.011757Z",
     "iopub.status.idle": "2021-01-25T11:55:17.162520Z",
     "shell.execute_reply": "2021-01-25T11:55:17.163095Z"
    },
    "papermill": {
     "duration": 0.391261,
     "end_time": "2021-01-25T11:55:17.163238",
     "exception": false,
     "start_time": "2021-01-25T11:55:16.771977",
     "status": "completed"
    },
    "tags": []
   },
   "outputs": [
    {
     "data": {
      "image/png": "[encoded data removed]",
      "text/plain": [
       "<Figure size 432x288 with 1 Axes>"
      ]
     },
     "metadata": {
      "needs_background": "light"
     },
     "output_type": "display_data"
    }
   ],
   "source": [
    "# summarize history for loss\n",
    "plt.plot(history.history['loss'])\n",
    "plt.title('model loss')\n",
    "plt.ylabel('loss')\n",
    "plt.xlabel('epoch')\n",
    "plt.legend(['train', 'test'], loc='upper left')\n",
    "plt.show()"
   ]
  },
  {
   "cell_type": "markdown",
   "metadata": {
    "papermill": {
     "duration": 0.20118,
     "end_time": "2021-01-25T11:55:17.570579",
     "exception": false,
     "start_time": "2021-01-25T11:55:17.369399",
     "status": "completed"
    },
    "tags": []
   },
   "source": [
    "<a id=\"chap8\"></a>\n",
    "<h3 style=\"background-color:gold;font-family:newtimeroman;font-size:200%;text-align:center\">Model Prediction</h3>"
   ]
  },
  {
   "cell_type": "code",
   "execution_count": 40,
   "metadata": {
    "execution": {
     "iopub.execute_input": "2021-01-25T11:55:17.986753Z",
     "iopub.status.busy": "2021-01-25T11:55:17.985779Z",
     "iopub.status.idle": "2021-01-25T11:55:18.095805Z",
     "shell.execute_reply": "2021-01-25T11:55:18.095322Z"
    },
    "papermill": {
     "duration": 0.318437,
     "end_time": "2021-01-25T11:55:18.095944",
     "exception": false,
     "start_time": "2021-01-25T11:55:17.777507",
     "status": "completed"
    },
    "tags": []
   },
   "outputs": [
    {
     "data": {
      "text/plain": [
       "array([1, 0, 2, 1, 1, 0, 1, 2, 2, 1, 2, 0, 0, 0, 0, 1, 2, 1, 1, 2, 0, 2,\n",
       "       0, 2, 2, 2, 2, 2, 0, 0, 0, 0, 1, 0, 0, 2, 1, 0, 0, 0, 2, 1, 1, 0,\n",
       "       0, 1, 1, 2, 1, 2])"
      ]
     },
     "execution_count": 40,
     "metadata": {},
     "output_type": "execute_result"
    }
   ],
   "source": [
    "model.predict_classes(scaled_X_test) # Predicts the classes"
   ]
  },
  {
   "cell_type": "code",
   "execution_count": 41,
   "metadata": {
    "execution": {
     "iopub.execute_input": "2021-01-25T11:55:18.501334Z",
     "iopub.status.busy": "2021-01-25T11:55:18.500459Z",
     "iopub.status.idle": "2021-01-25T11:55:18.539170Z",
     "shell.execute_reply": "2021-01-25T11:55:18.538313Z"
    },
    "papermill": {
     "duration": 0.242622,
     "end_time": "2021-01-25T11:55:18.539296",
     "exception": false,
     "start_time": "2021-01-25T11:55:18.296674",
     "status": "completed"
    },
    "tags": []
   },
   "outputs": [],
   "source": [
    "# Let's compare these predictions above to our unseen 'y_test' data\n",
    "predictions = model.predict_classes(scaled_X_test)"
   ]
  },
  {
   "cell_type": "code",
   "execution_count": 42,
   "metadata": {
    "execution": {
     "iopub.execute_input": "2021-01-25T11:55:18.952194Z",
     "iopub.status.busy": "2021-01-25T11:55:18.951346Z",
     "iopub.status.idle": "2021-01-25T11:55:18.955256Z",
     "shell.execute_reply": "2021-01-25T11:55:18.955730Z"
    },
    "papermill": {
     "duration": 0.216635,
     "end_time": "2021-01-25T11:55:18.955853",
     "exception": false,
     "start_time": "2021-01-25T11:55:18.739218",
     "status": "completed"
    },
    "tags": []
   },
   "outputs": [
    {
     "data": {
      "text/plain": [
       "array([1, 0, 2, 1, 1, 0, 1, 2, 1, 1, 2, 0, 0, 0, 0, 1, 2, 1, 1, 2, 0, 2,\n",
       "       0, 2, 2, 2, 2, 2, 0, 0, 0, 0, 1, 0, 0, 2, 1, 0, 0, 0, 2, 1, 1, 0,\n",
       "       0, 1, 2, 2, 1, 2])"
      ]
     },
     "execution_count": 42,
     "metadata": {},
     "output_type": "execute_result"
    }
   ],
   "source": [
    "y_test.argmax(axis=1) # from the one-hot encoded version of y_test, argmax will report back the predicted classes at each index"
   ]
  },
  {
   "cell_type": "markdown",
   "metadata": {
    "papermill": {
     "duration": 0.202855,
     "end_time": "2021-01-25T11:55:19.361519",
     "exception": false,
     "start_time": "2021-01-25T11:55:19.158664",
     "status": "completed"
    },
    "tags": []
   },
   "source": [
    "<a id=\"chap9\"></a>\n",
    "<h3 style=\"background-color:gold;font-family:newtimeroman;font-size:200%;text-align:center\">Model Performance Evaluation</h3>"
   ]
  },
  {
   "cell_type": "code",
   "execution_count": 43,
   "metadata": {
    "execution": {
     "iopub.execute_input": "2021-01-25T11:55:19.771821Z",
     "iopub.status.busy": "2021-01-25T11:55:19.771155Z",
     "iopub.status.idle": "2021-01-25T11:55:19.775442Z",
     "shell.execute_reply": "2021-01-25T11:55:19.774854Z"
    },
    "papermill": {
     "duration": 0.213486,
     "end_time": "2021-01-25T11:55:19.775577",
     "exception": false,
     "start_time": "2021-01-25T11:55:19.562091",
     "status": "completed"
    },
    "tags": []
   },
   "outputs": [],
   "source": [
    "from sklearn.metrics import confusion_matrix,classification_report"
   ]
  },
  {
   "cell_type": "code",
   "execution_count": 44,
   "metadata": {
    "execution": {
     "iopub.execute_input": "2021-01-25T11:55:20.186811Z",
     "iopub.status.busy": "2021-01-25T11:55:20.186173Z",
     "iopub.status.idle": "2021-01-25T11:55:20.192402Z",
     "shell.execute_reply": "2021-01-25T11:55:20.192888Z"
    },
    "papermill": {
     "duration": 0.215448,
     "end_time": "2021-01-25T11:55:20.193080",
     "exception": false,
     "start_time": "2021-01-25T11:55:19.977632",
     "status": "completed"
    },
    "tags": []
   },
   "outputs": [
    {
     "data": {
      "text/plain": [
       "['loss', 'accuracy']"
      ]
     },
     "execution_count": 44,
     "metadata": {},
     "output_type": "execute_result"
    }
   ],
   "source": [
    "model.metrics_names"
   ]
  },
  {
   "cell_type": "code",
   "execution_count": 45,
   "metadata": {
    "execution": {
     "iopub.execute_input": "2021-01-25T11:55:20.655289Z",
     "iopub.status.busy": "2021-01-25T11:55:20.654258Z",
     "iopub.status.idle": "2021-01-25T11:55:20.941246Z",
     "shell.execute_reply": "2021-01-25T11:55:20.942349Z"
    },
    "papermill": {
     "duration": 0.544338,
     "end_time": "2021-01-25T11:55:20.942531",
     "exception": false,
     "start_time": "2021-01-25T11:55:20.398193",
     "status": "completed"
    },
    "tags": []
   },
   "outputs": [
    {
     "name": "stdout",
     "output_type": "stream",
     "text": [
      "2/2 [==============================] - 0s 4ms/step - loss: 0.0686 - accuracy: 0.9600\n"
     ]
    },
    {
     "data": {
      "text/plain": [
       "[0.06860758364200592, 0.9599999785423279]"
      ]
     },
     "execution_count": 45,
     "metadata": {},
     "output_type": "execute_result"
    }
   ],
   "source": [
    "model.evaluate(x=scaled_X_test,y=y_test)"
   ]
  },
  {
   "cell_type": "code",
   "execution_count": 46,
   "metadata": {
    "execution": {
     "iopub.execute_input": "2021-01-25T11:55:21.445759Z",
     "iopub.status.busy": "2021-01-25T11:55:21.439123Z",
     "iopub.status.idle": "2021-01-25T11:55:21.453989Z",
     "shell.execute_reply": "2021-01-25T11:55:21.453257Z"
    },
    "papermill": {
     "duration": 0.223909,
     "end_time": "2021-01-25T11:55:21.454146",
     "exception": false,
     "start_time": "2021-01-25T11:55:21.230237",
     "status": "completed"
    },
    "tags": []
   },
   "outputs": [
    {
     "name": "stdout",
     "output_type": "stream",
     "text": [
      "[[19  0  0]\n",
      " [ 0 14  1]\n",
      " [ 0  1 15]]\n",
      "------------------------------------------------------\n",
      "------------------------------------------------------\n",
      "              precision    recall  f1-score   support\n",
      "\n",
      "           0       1.00      1.00      1.00        19\n",
      "           1       0.93      0.93      0.93        15\n",
      "           2       0.94      0.94      0.94        16\n",
      "\n",
      "    accuracy                           0.96        50\n",
      "   macro avg       0.96      0.96      0.96        50\n",
      "weighted avg       0.96      0.96      0.96        50\n",
      "\n"
     ]
    }
   ],
   "source": [
    "print(confusion_matrix(y_test.argmax(axis=1),predictions))\n",
    "print('------------------------------------------------------')\n",
    "print('------------------------------------------------------')\n",
    "print(classification_report(y_test.argmax(axis=1),predictions))"
   ]
  },
  {
   "cell_type": "markdown",
   "metadata": {
    "papermill": {
     "duration": 0.206522,
     "end_time": "2021-01-25T11:55:21.865562",
     "exception": false,
     "start_time": "2021-01-25T11:55:21.659040",
     "status": "completed"
    },
    "tags": []
   },
   "source": [
    "<a id=\"chap10\"></a>\n",
    "<h3 style=\"background-color:gold;font-family:newtimeroman;font-size:200%;text-align:center\">Loading and saving the model</h3>"
   ]
  },
  {
   "cell_type": "code",
   "execution_count": 47,
   "metadata": {
    "execution": {
     "iopub.execute_input": "2021-01-25T11:55:22.294860Z",
     "iopub.status.busy": "2021-01-25T11:55:22.293991Z",
     "iopub.status.idle": "2021-01-25T11:55:22.316670Z",
     "shell.execute_reply": "2021-01-25T11:55:22.316134Z"
    },
    "papermill": {
     "duration": 0.236279,
     "end_time": "2021-01-25T11:55:22.316773",
     "exception": false,
     "start_time": "2021-01-25T11:55:22.080494",
     "status": "completed"
    },
    "tags": []
   },
   "outputs": [],
   "source": [
    "model.save('iris_model.h5')"
   ]
  },
  {
   "cell_type": "code",
   "execution_count": 48,
   "metadata": {
    "execution": {
     "iopub.execute_input": "2021-01-25T11:55:22.727244Z",
     "iopub.status.busy": "2021-01-25T11:55:22.726588Z",
     "iopub.status.idle": "2021-01-25T11:55:22.730683Z",
     "shell.execute_reply": "2021-01-25T11:55:22.730180Z"
    },
    "papermill": {
     "duration": 0.209947,
     "end_time": "2021-01-25T11:55:22.730777",
     "exception": false,
     "start_time": "2021-01-25T11:55:22.520830",
     "status": "completed"
    },
    "tags": []
   },
   "outputs": [],
   "source": [
    "from keras.models import load_model"
   ]
  },
  {
   "cell_type": "code",
   "execution_count": 49,
   "metadata": {
    "execution": {
     "iopub.execute_input": "2021-01-25T11:55:23.154952Z",
     "iopub.status.busy": "2021-01-25T11:55:23.154086Z",
     "iopub.status.idle": "2021-01-25T11:55:23.232428Z",
     "shell.execute_reply": "2021-01-25T11:55:23.231257Z"
    },
    "papermill": {
     "duration": 0.292795,
     "end_time": "2021-01-25T11:55:23.232552",
     "exception": false,
     "start_time": "2021-01-25T11:55:22.939757",
     "status": "completed"
    },
    "tags": []
   },
   "outputs": [],
   "source": [
    "iris_model = load_model('iris_model.h5')"
   ]
  },
  {
   "cell_type": "code",
   "execution_count": 50,
   "metadata": {
    "execution": {
     "iopub.execute_input": "2021-01-25T11:55:23.665992Z",
     "iopub.status.busy": "2021-01-25T11:55:23.665066Z",
     "iopub.status.idle": "2021-01-25T11:55:23.734623Z",
     "shell.execute_reply": "2021-01-25T11:55:23.735219Z"
    },
    "papermill": {
     "duration": 0.282701,
     "end_time": "2021-01-25T11:55:23.735373",
     "exception": false,
     "start_time": "2021-01-25T11:55:23.452672",
     "status": "completed"
    },
    "tags": []
   },
   "outputs": [
    {
     "data": {
      "text/plain": [
       "array([2, 1, 2, 2, 2, 1, 2, 2, 2, 2, 2, 1, 1, 1, 1, 2, 2, 2, 2, 2, 1, 2,\n",
       "       1, 2, 2, 2, 2, 2, 1, 1, 1, 1, 2, 1, 1, 2, 2, 1, 1, 1, 2, 2, 2, 1,\n",
       "       1, 2, 2, 2, 2, 2])"
      ]
     },
     "execution_count": 50,
     "metadata": {},
     "output_type": "execute_result"
    }
   ],
   "source": [
    "iris_model.predict_classes(X_test)"
   ]
  },
  {
   "cell_type": "code",
   "execution_count": null,
   "metadata": {
    "papermill": {
     "duration": 0.206888,
     "end_time": "2021-01-25T11:55:24.156453",
     "exception": false,
     "start_time": "2021-01-25T11:55:23.949565",
     "status": "completed"
    },
    "tags": []
   },
   "outputs": [],
   "source": []
  }
 ],
 "metadata": {
  "kernelspec": {
   "display_name": "Python 3",
   "language": "python",
   "name": "python3"
  },
  "language_info": {
   "codemirror_mode": {
    "name": "ipython",
    "version": 3
   },
   "file_extension": ".py",
   "mimetype": "text/x-python",
   "name": "python",
   "nbconvert_exporter": "python",
   "pygments_lexer": "ipython3",
   "version": "3.7.6"
  },
  "papermill": {
   "duration": 36.967323,
   "end_time": "2021-01-25T11:55:26.094457",
   "environment_variables": {},
   "exception": null,
   "input_path": "__notebook__.ipynb",
   "output_path": "__notebook__.ipynb",
   "parameters": {},
   "start_time": "2021-01-25T11:54:49.127134",
   "version": "2.1.0"
  }
 },
 "nbformat": 4,
 "nbformat_minor": 4
}
