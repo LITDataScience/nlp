{
 "cells": [
  {
   "cell_type": "code",
   "execution_count": 1,
   "metadata": {
    "_cell_guid": "b1076dfc-b9ad-4769-8c92-a6c4dae69d19",
    "_uuid": "8f2839f25d086af736a60e9eeb907d3b93b6e0e5",
    "execution": {
     "iopub.execute_input": "2021-01-24T14:35:24.560798Z",
     "iopub.status.busy": "2021-01-24T14:35:24.560111Z",
     "iopub.status.idle": "2021-01-24T14:35:24.563896Z",
     "shell.execute_reply": "2021-01-24T14:35:24.564442Z"
    },
    "papermill": {
     "duration": 0.022394,
     "end_time": "2021-01-24T14:35:24.564602",
     "exception": false,
     "start_time": "2021-01-24T14:35:24.542208",
     "status": "completed"
    },
    "tags": []
   },
   "outputs": [],
   "source": [
    "import numpy as np # linear algebra\n",
    "import pandas as pd # data processing, CSV file I/O (e.g. pd.read_csv)"
   ]
  },
  {
   "cell_type": "code",
   "execution_count": 2,
   "metadata": {
    "execution": {
     "iopub.execute_input": "2021-01-24T14:35:24.594013Z",
     "iopub.status.busy": "2021-01-24T14:35:24.593384Z",
     "iopub.status.idle": "2021-01-24T14:35:26.199552Z",
     "shell.execute_reply": "2021-01-24T14:35:26.200083Z"
    },
    "papermill": {
     "duration": 1.622577,
     "end_time": "2021-01-24T14:35:26.200271",
     "exception": false,
     "start_time": "2021-01-24T14:35:24.577694",
     "status": "completed"
    },
    "tags": []
   },
   "outputs": [],
   "source": [
    "df = pd.read_csv('../input/articles/articles.csv')"
   ]
  },
  {
   "cell_type": "code",
   "execution_count": 3,
   "metadata": {
    "execution": {
     "iopub.execute_input": "2021-01-24T14:35:26.231083Z",
     "iopub.status.busy": "2021-01-24T14:35:26.230108Z",
     "iopub.status.idle": "2021-01-24T14:35:26.253041Z",
     "shell.execute_reply": "2021-01-24T14:35:26.253615Z"
    },
    "papermill": {
     "duration": 0.039335,
     "end_time": "2021-01-24T14:35:26.253760",
     "exception": false,
     "start_time": "2021-01-24T14:35:26.214425",
     "status": "completed"
    },
    "tags": []
   },
   "outputs": [
    {
     "data": {
      "text/html": [
       "<div>\n",
       "<style scoped>\n",
       "    .dataframe tbody tr th:only-of-type {\n",
       "        vertical-align: middle;\n",
       "    }\n",
       "\n",
       "    .dataframe tbody tr th {\n",
       "        vertical-align: top;\n",
       "    }\n",
       "\n",
       "    .dataframe thead th {\n",
       "        text-align: right;\n",
       "    }\n",
       "</style>\n",
       "<table border=\"1\" class=\"dataframe\">\n",
       "  <thead>\n",
       "    <tr style=\"text-align: right;\">\n",
       "      <th></th>\n",
       "      <th>Article</th>\n",
       "    </tr>\n",
       "  </thead>\n",
       "  <tbody>\n",
       "    <tr>\n",
       "      <th>0</th>\n",
       "      <td>In the Washington of 2016, even when the polic...</td>\n",
       "    </tr>\n",
       "    <tr>\n",
       "      <th>1</th>\n",
       "      <td>Donald Trump has used Twitter  —   his prefe...</td>\n",
       "    </tr>\n",
       "    <tr>\n",
       "      <th>2</th>\n",
       "      <td>Donald Trump is unabashedly praising Russian...</td>\n",
       "    </tr>\n",
       "    <tr>\n",
       "      <th>3</th>\n",
       "      <td>Updated at 2:50 p. m. ET, Russian President Vl...</td>\n",
       "    </tr>\n",
       "    <tr>\n",
       "      <th>4</th>\n",
       "      <td>From photography, illustration and video, to d...</td>\n",
       "    </tr>\n",
       "  </tbody>\n",
       "</table>\n",
       "</div>"
      ],
      "text/plain": [
       "                                             Article\n",
       "0  In the Washington of 2016, even when the polic...\n",
       "1    Donald Trump has used Twitter  —   his prefe...\n",
       "2    Donald Trump is unabashedly praising Russian...\n",
       "3  Updated at 2:50 p. m. ET, Russian President Vl...\n",
       "4  From photography, illustration and video, to d..."
      ]
     },
     "execution_count": 3,
     "metadata": {},
     "output_type": "execute_result"
    }
   ],
   "source": [
    "df.head()"
   ]
  },
  {
   "cell_type": "code",
   "execution_count": 4,
   "metadata": {
    "execution": {
     "iopub.execute_input": "2021-01-24T14:35:26.284845Z",
     "iopub.status.busy": "2021-01-24T14:35:26.283834Z",
     "iopub.status.idle": "2021-01-24T14:35:27.288019Z",
     "shell.execute_reply": "2021-01-24T14:35:27.288575Z"
    },
    "papermill": {
     "duration": 1.021201,
     "end_time": "2021-01-24T14:35:27.288743",
     "exception": false,
     "start_time": "2021-01-24T14:35:26.267542",
     "status": "completed"
    },
    "tags": []
   },
   "outputs": [],
   "source": [
    "from sklearn.feature_extraction.text import TfidfVectorizer\n",
    "tfidf = TfidfVectorizer(max_df=0.95, min_df=2, stop_words='english')"
   ]
  },
  {
   "cell_type": "code",
   "execution_count": 5,
   "metadata": {
    "execution": {
     "iopub.execute_input": "2021-01-24T14:35:27.324043Z",
     "iopub.status.busy": "2021-01-24T14:35:27.323052Z",
     "iopub.status.idle": "2021-01-24T14:35:37.549057Z",
     "shell.execute_reply": "2021-01-24T14:35:37.549595Z"
    },
    "papermill": {
     "duration": 10.246901,
     "end_time": "2021-01-24T14:35:37.549762",
     "exception": false,
     "start_time": "2021-01-24T14:35:27.302861",
     "status": "completed"
    },
    "tags": []
   },
   "outputs": [],
   "source": [
    "# Document Term Matric\n",
    "dtm = tfidf.fit_transform(df['Article'])"
   ]
  },
  {
   "cell_type": "code",
   "execution_count": 6,
   "metadata": {
    "execution": {
     "iopub.execute_input": "2021-01-24T14:35:37.582628Z",
     "iopub.status.busy": "2021-01-24T14:35:37.581535Z",
     "iopub.status.idle": "2021-01-24T14:35:37.588503Z",
     "shell.execute_reply": "2021-01-24T14:35:37.587793Z"
    },
    "papermill": {
     "duration": 0.024524,
     "end_time": "2021-01-24T14:35:37.588634",
     "exception": false,
     "start_time": "2021-01-24T14:35:37.564110",
     "status": "completed"
    },
    "tags": []
   },
   "outputs": [
    {
     "data": {
      "text/plain": [
       "<11992x54777 sparse matrix of type '<class 'numpy.float64'>'\n",
       "\twith 3033388 stored elements in Compressed Sparse Row format>"
      ]
     },
     "execution_count": 6,
     "metadata": {},
     "output_type": "execute_result"
    }
   ],
   "source": [
    "dtm"
   ]
  },
  {
   "cell_type": "markdown",
   "metadata": {
    "papermill": {
     "duration": 0.013983,
     "end_time": "2021-01-24T14:35:37.617020",
     "exception": false,
     "start_time": "2021-01-24T14:35:37.603037",
     "status": "completed"
    },
    "tags": []
   },
   "source": [
    "> `# PERFORMING NMF using sklearn`"
   ]
  },
  {
   "cell_type": "code",
   "execution_count": 7,
   "metadata": {
    "execution": {
     "iopub.execute_input": "2021-01-24T14:35:37.651110Z",
     "iopub.status.busy": "2021-01-24T14:35:37.650362Z",
     "iopub.status.idle": "2021-01-24T14:35:37.834843Z",
     "shell.execute_reply": "2021-01-24T14:35:37.834090Z"
    },
    "papermill": {
     "duration": 0.20362,
     "end_time": "2021-01-24T14:35:37.834963",
     "exception": false,
     "start_time": "2021-01-24T14:35:37.631343",
     "status": "completed"
    },
    "tags": []
   },
   "outputs": [],
   "source": [
    "from sklearn.decomposition import NMF"
   ]
  },
  {
   "cell_type": "code",
   "execution_count": 8,
   "metadata": {
    "execution": {
     "iopub.execute_input": "2021-01-24T14:35:37.870455Z",
     "iopub.status.busy": "2021-01-24T14:35:37.869384Z",
     "iopub.status.idle": "2021-01-24T14:35:37.873239Z",
     "shell.execute_reply": "2021-01-24T14:35:37.872429Z"
    },
    "papermill": {
     "duration": 0.023521,
     "end_time": "2021-01-24T14:35:37.873429",
     "exception": false,
     "start_time": "2021-01-24T14:35:37.849908",
     "status": "completed"
    },
    "tags": []
   },
   "outputs": [],
   "source": [
    "nmf_model = NMF(n_components=7, random_state=42)"
   ]
  },
  {
   "cell_type": "code",
   "execution_count": 9,
   "metadata": {
    "execution": {
     "iopub.execute_input": "2021-01-24T14:35:37.914366Z",
     "iopub.status.busy": "2021-01-24T14:35:37.913089Z",
     "iopub.status.idle": "2021-01-24T14:35:47.054027Z",
     "shell.execute_reply": "2021-01-24T14:35:47.054871Z"
    },
    "papermill": {
     "duration": 9.16183,
     "end_time": "2021-01-24T14:35:47.055030",
     "exception": false,
     "start_time": "2021-01-24T14:35:37.893200",
     "status": "completed"
    },
    "tags": []
   },
   "outputs": [
    {
     "data": {
      "text/plain": [
       "NMF(n_components=7, random_state=42)"
      ]
     },
     "execution_count": 9,
     "metadata": {},
     "output_type": "execute_result"
    }
   ],
   "source": [
    "nmf_model.fit(dtm)"
   ]
  },
  {
   "cell_type": "code",
   "execution_count": 10,
   "metadata": {
    "execution": {
     "iopub.execute_input": "2021-01-24T14:35:47.089591Z",
     "iopub.status.busy": "2021-01-24T14:35:47.088509Z",
     "iopub.status.idle": "2021-01-24T14:35:47.144949Z",
     "shell.execute_reply": "2021-01-24T14:35:47.145497Z"
    },
    "papermill": {
     "duration": 0.07537,
     "end_time": "2021-01-24T14:35:47.145643",
     "exception": false,
     "start_time": "2021-01-24T14:35:47.070273",
     "status": "completed"
    },
    "tags": []
   },
   "outputs": [
    {
     "data": {
      "text/plain": [
       "'756'"
      ]
     },
     "execution_count": 10,
     "metadata": {},
     "output_type": "execute_result"
    }
   ],
   "source": [
    "tfidf.get_feature_names()[1029]"
   ]
  },
  {
   "cell_type": "code",
   "execution_count": 11,
   "metadata": {
    "execution": {
     "iopub.execute_input": "2021-01-24T14:35:47.180615Z",
     "iopub.status.busy": "2021-01-24T14:35:47.179611Z",
     "iopub.status.idle": "2021-01-24T14:35:52.378971Z",
     "shell.execute_reply": "2021-01-24T14:35:52.378228Z"
    },
    "papermill": {
     "duration": 5.217879,
     "end_time": "2021-01-24T14:35:52.379088",
     "exception": false,
     "start_time": "2021-01-24T14:35:47.161209",
     "status": "completed"
    },
    "tags": []
   },
   "outputs": [
    {
     "name": "stdout",
     "output_type": "stream",
     "text": [
      "TOP 15 WORDS FOR TOPIC #0\n",
      "['new', 'research', 'like', 'patients', 'health', 'disease', 'percent', 'women', 'virus', 'study', 'water', 'food', 'people', 'zika', 'says']\n",
      "\n",
      "\n",
      "\n",
      "TOP 15 WORDS FOR TOPIC #1\n",
      "['gop', 'pence', 'presidential', 'russia', 'administration', 'election', 'republican', 'obama', 'white', 'house', 'donald', 'campaign', 'said', 'president', 'trump']\n",
      "\n",
      "\n",
      "\n",
      "TOP 15 WORDS FOR TOPIC #2\n",
      "['senate', 'house', 'people', 'act', 'law', 'tax', 'plan', 'republicans', 'affordable', 'obamacare', 'coverage', 'medicaid', 'insurance', 'care', 'health']\n",
      "\n",
      "\n",
      "\n",
      "TOP 15 WORDS FOR TOPIC #3\n",
      "['officers', 'syria', 'security', 'department', 'law', 'isis', 'russia', 'government', 'state', 'attack', 'president', 'reports', 'court', 'said', 'police']\n",
      "\n",
      "\n",
      "\n",
      "TOP 15 WORDS FOR TOPIC #4\n",
      "['primary', 'cruz', 'election', 'democrats', 'percent', 'party', 'delegates', 'vote', 'state', 'democratic', 'hillary', 'campaign', 'voters', 'sanders', 'clinton']\n",
      "\n",
      "\n",
      "\n",
      "TOP 15 WORDS FOR TOPIC #5\n",
      "['love', 've', 'don', 'album', 'way', 'time', 'song', 'life', 'really', 'know', 'people', 'think', 'just', 'music', 'like']\n",
      "\n",
      "\n",
      "\n",
      "TOP 15 WORDS FOR TOPIC #6\n",
      "['teacher', 'state', 'high', 'says', 'parents', 'devos', 'children', 'college', 'kids', 'teachers', 'student', 'education', 'schools', 'school', 'students']\n",
      "\n",
      "\n",
      "\n"
     ]
    }
   ],
   "source": [
    "# Grab the highest probability words per topic\n",
    "for i, topic in enumerate(nmf_model.components_):\n",
    "    print(f'TOP 15 WORDS FOR TOPIC #{i}')\n",
    "    print([tfidf.get_feature_names()[index] for index in topic.argsort()[-15:]])\n",
    "    print('\\n\\n')"
   ]
  },
  {
   "cell_type": "code",
   "execution_count": 12,
   "metadata": {
    "execution": {
     "iopub.execute_input": "2021-01-24T14:35:52.422202Z",
     "iopub.status.busy": "2021-01-24T14:35:52.421551Z",
     "iopub.status.idle": "2021-01-24T14:35:52.705821Z",
     "shell.execute_reply": "2021-01-24T14:35:52.706650Z"
    },
    "papermill": {
     "duration": 0.308643,
     "end_time": "2021-01-24T14:35:52.706846",
     "exception": false,
     "start_time": "2021-01-24T14:35:52.398203",
     "status": "completed"
    },
    "tags": []
   },
   "outputs": [],
   "source": [
    "topic_results = nmf_model.transform(dtm)"
   ]
  },
  {
   "cell_type": "code",
   "execution_count": 13,
   "metadata": {
    "execution": {
     "iopub.execute_input": "2021-01-24T14:35:52.752958Z",
     "iopub.status.busy": "2021-01-24T14:35:52.751961Z",
     "iopub.status.idle": "2021-01-24T14:35:52.757873Z",
     "shell.execute_reply": "2021-01-24T14:35:52.758442Z"
    },
    "papermill": {
     "duration": 0.028758,
     "end_time": "2021-01-24T14:35:52.758581",
     "exception": false,
     "start_time": "2021-01-24T14:35:52.729823",
     "status": "completed"
    },
    "tags": []
   },
   "outputs": [
    {
     "data": {
      "text/plain": [
       "array([0.        , 0.12075603, 0.00140297, 0.05919954, 0.01518909,\n",
       "       0.        , 0.        ])"
      ]
     },
     "execution_count": 13,
     "metadata": {},
     "output_type": "execute_result"
    }
   ],
   "source": [
    "topic_results[0]"
   ]
  },
  {
   "cell_type": "code",
   "execution_count": 14,
   "metadata": {
    "execution": {
     "iopub.execute_input": "2021-01-24T14:35:52.800178Z",
     "iopub.status.busy": "2021-01-24T14:35:52.799193Z",
     "iopub.status.idle": "2021-01-24T14:35:52.804768Z",
     "shell.execute_reply": "2021-01-24T14:35:52.805416Z"
    },
    "papermill": {
     "duration": 0.028104,
     "end_time": "2021-01-24T14:35:52.805565",
     "exception": false,
     "start_time": "2021-01-24T14:35:52.777461",
     "status": "completed"
    },
    "tags": []
   },
   "outputs": [
    {
     "data": {
      "text/plain": [
       "(11992, 7)"
      ]
     },
     "execution_count": 14,
     "metadata": {},
     "output_type": "execute_result"
    }
   ],
   "source": [
    "topic_results.shape"
   ]
  },
  {
   "cell_type": "code",
   "execution_count": 15,
   "metadata": {
    "execution": {
     "iopub.execute_input": "2021-01-24T14:35:52.849076Z",
     "iopub.status.busy": "2021-01-24T14:35:52.848056Z",
     "iopub.status.idle": "2021-01-24T14:35:52.855925Z",
     "shell.execute_reply": "2021-01-24T14:35:52.856434Z"
    },
    "papermill": {
     "duration": 0.030877,
     "end_time": "2021-01-24T14:35:52.856583",
     "exception": false,
     "start_time": "2021-01-24T14:35:52.825706",
     "status": "completed"
    },
    "tags": []
   },
   "outputs": [
    {
     "name": "stdout",
     "output_type": "stream",
     "text": [
      "[0.         0.12075603 0.00140297 0.05919954 0.01518909 0.\n",
      " 0.        ]\n",
      "-------------------------------------------------------------\n",
      "[0.   0.12 0.   0.06 0.02 0.   0.  ]\n"
     ]
    }
   ],
   "source": [
    "# Probabilities belonging to a particular topic\n",
    "print(topic_results[0])\n",
    "\n",
    "print(f'-------------------------------------------------------------')\n",
    "# Percentages in a rounded off form\n",
    "print(topic_results[0].round(2))"
   ]
  },
  {
   "cell_type": "code",
   "execution_count": 16,
   "metadata": {
    "execution": {
     "iopub.execute_input": "2021-01-24T14:35:52.912799Z",
     "iopub.status.busy": "2021-01-24T14:35:52.911797Z",
     "iopub.status.idle": "2021-01-24T14:35:52.917231Z",
     "shell.execute_reply": "2021-01-24T14:35:52.917847Z"
    },
    "papermill": {
     "duration": 0.04136,
     "end_time": "2021-01-24T14:35:52.917993",
     "exception": false,
     "start_time": "2021-01-24T14:35:52.876633",
     "status": "completed"
    },
    "tags": []
   },
   "outputs": [],
   "source": [
    "df['Topics'] = topic_results.argmax(axis=1)"
   ]
  },
  {
   "cell_type": "code",
   "execution_count": 17,
   "metadata": {
    "execution": {
     "iopub.execute_input": "2021-01-24T14:35:52.962036Z",
     "iopub.status.busy": "2021-01-24T14:35:52.961001Z",
     "iopub.status.idle": "2021-01-24T14:35:52.973384Z",
     "shell.execute_reply": "2021-01-24T14:35:52.973936Z"
    },
    "papermill": {
     "duration": 0.035997,
     "end_time": "2021-01-24T14:35:52.974067",
     "exception": false,
     "start_time": "2021-01-24T14:35:52.938070",
     "status": "completed"
    },
    "tags": []
   },
   "outputs": [
    {
     "data": {
      "text/html": [
       "<div>\n",
       "<style scoped>\n",
       "    .dataframe tbody tr th:only-of-type {\n",
       "        vertical-align: middle;\n",
       "    }\n",
       "\n",
       "    .dataframe tbody tr th {\n",
       "        vertical-align: top;\n",
       "    }\n",
       "\n",
       "    .dataframe thead th {\n",
       "        text-align: right;\n",
       "    }\n",
       "</style>\n",
       "<table border=\"1\" class=\"dataframe\">\n",
       "  <thead>\n",
       "    <tr style=\"text-align: right;\">\n",
       "      <th></th>\n",
       "      <th>Article</th>\n",
       "      <th>Topics</th>\n",
       "    </tr>\n",
       "  </thead>\n",
       "  <tbody>\n",
       "    <tr>\n",
       "      <th>0</th>\n",
       "      <td>In the Washington of 2016, even when the polic...</td>\n",
       "      <td>1</td>\n",
       "    </tr>\n",
       "    <tr>\n",
       "      <th>1</th>\n",
       "      <td>Donald Trump has used Twitter  —   his prefe...</td>\n",
       "      <td>1</td>\n",
       "    </tr>\n",
       "    <tr>\n",
       "      <th>2</th>\n",
       "      <td>Donald Trump is unabashedly praising Russian...</td>\n",
       "      <td>1</td>\n",
       "    </tr>\n",
       "    <tr>\n",
       "      <th>3</th>\n",
       "      <td>Updated at 2:50 p. m. ET, Russian President Vl...</td>\n",
       "      <td>3</td>\n",
       "    </tr>\n",
       "    <tr>\n",
       "      <th>4</th>\n",
       "      <td>From photography, illustration and video, to d...</td>\n",
       "      <td>6</td>\n",
       "    </tr>\n",
       "    <tr>\n",
       "      <th>5</th>\n",
       "      <td>I did not want to join yoga class. I hated tho...</td>\n",
       "      <td>5</td>\n",
       "    </tr>\n",
       "    <tr>\n",
       "      <th>6</th>\n",
       "      <td>With a   who has publicly supported the debunk...</td>\n",
       "      <td>0</td>\n",
       "    </tr>\n",
       "    <tr>\n",
       "      <th>7</th>\n",
       "      <td>I was standing by the airport exit, debating w...</td>\n",
       "      <td>0</td>\n",
       "    </tr>\n",
       "    <tr>\n",
       "      <th>8</th>\n",
       "      <td>If movies were trying to be more realistic, pe...</td>\n",
       "      <td>0</td>\n",
       "    </tr>\n",
       "    <tr>\n",
       "      <th>9</th>\n",
       "      <td>Eighteen years ago, on New Year’s Eve, David F...</td>\n",
       "      <td>5</td>\n",
       "    </tr>\n",
       "    <tr>\n",
       "      <th>10</th>\n",
       "      <td>For years now, some of the best, wildest, most...</td>\n",
       "      <td>5</td>\n",
       "    </tr>\n",
       "    <tr>\n",
       "      <th>11</th>\n",
       "      <td>For years now, some of the best, wildest, most...</td>\n",
       "      <td>5</td>\n",
       "    </tr>\n",
       "    <tr>\n",
       "      <th>12</th>\n",
       "      <td>The Colorado River is like a giant bank accoun...</td>\n",
       "      <td>0</td>\n",
       "    </tr>\n",
       "    <tr>\n",
       "      <th>13</th>\n",
       "      <td>For the last installment of NPR’s holiday reci...</td>\n",
       "      <td>5</td>\n",
       "    </tr>\n",
       "    <tr>\n",
       "      <th>14</th>\n",
       "      <td>Being overweight can raise your blood pressure...</td>\n",
       "      <td>0</td>\n",
       "    </tr>\n",
       "    <tr>\n",
       "      <th>15</th>\n",
       "      <td>Who’s the YouTube star of 2016? Adele singing ...</td>\n",
       "      <td>5</td>\n",
       "    </tr>\n",
       "    <tr>\n",
       "      <th>16</th>\n",
       "      <td>Here’s a quick roundup of some of the   you ma...</td>\n",
       "      <td>3</td>\n",
       "    </tr>\n",
       "    <tr>\n",
       "      <th>17</th>\n",
       "      <td>Ben Johnston doesn’t follow the rules of music...</td>\n",
       "      <td>5</td>\n",
       "    </tr>\n",
       "    <tr>\n",
       "      <th>18</th>\n",
       "      <td>David Bowie, Prince and George Michael are all...</td>\n",
       "      <td>5</td>\n",
       "    </tr>\n",
       "    <tr>\n",
       "      <th>19</th>\n",
       "      <td>In November, the typically straitlaced Office ...</td>\n",
       "      <td>1</td>\n",
       "    </tr>\n",
       "  </tbody>\n",
       "</table>\n",
       "</div>"
      ],
      "text/plain": [
       "                                              Article  Topics\n",
       "0   In the Washington of 2016, even when the polic...       1\n",
       "1     Donald Trump has used Twitter  —   his prefe...       1\n",
       "2     Donald Trump is unabashedly praising Russian...       1\n",
       "3   Updated at 2:50 p. m. ET, Russian President Vl...       3\n",
       "4   From photography, illustration and video, to d...       6\n",
       "5   I did not want to join yoga class. I hated tho...       5\n",
       "6   With a   who has publicly supported the debunk...       0\n",
       "7   I was standing by the airport exit, debating w...       0\n",
       "8   If movies were trying to be more realistic, pe...       0\n",
       "9   Eighteen years ago, on New Year’s Eve, David F...       5\n",
       "10  For years now, some of the best, wildest, most...       5\n",
       "11  For years now, some of the best, wildest, most...       5\n",
       "12  The Colorado River is like a giant bank accoun...       0\n",
       "13  For the last installment of NPR’s holiday reci...       5\n",
       "14  Being overweight can raise your blood pressure...       0\n",
       "15  Who’s the YouTube star of 2016? Adele singing ...       5\n",
       "16  Here’s a quick roundup of some of the   you ma...       3\n",
       "17  Ben Johnston doesn’t follow the rules of music...       5\n",
       "18  David Bowie, Prince and George Michael are all...       5\n",
       "19  In November, the typically straitlaced Office ...       1"
      ]
     },
     "execution_count": 17,
     "metadata": {},
     "output_type": "execute_result"
    }
   ],
   "source": [
    "df.head(20)"
   ]
  },
  {
   "cell_type": "code",
   "execution_count": null,
   "metadata": {
    "papermill": {
     "duration": 0.020946,
     "end_time": "2021-01-24T14:35:53.015877",
     "exception": false,
     "start_time": "2021-01-24T14:35:52.994931",
     "status": "completed"
    },
    "tags": []
   },
   "outputs": [],
   "source": []
  }
 ],
 "metadata": {
  "kernelspec": {
   "display_name": "Python 3",
   "language": "python",
   "name": "python3"
  },
  "language_info": {
   "codemirror_mode": {
    "name": "ipython",
    "version": 3
   },
   "file_extension": ".py",
   "mimetype": "text/x-python",
   "name": "python",
   "nbconvert_exporter": "python",
   "pygments_lexer": "ipython3",
   "version": "3.7.6"
  },
  "papermill": {
   "duration": 33.406818,
   "end_time": "2021-01-24T14:35:53.148826",
   "environment_variables": {},
   "exception": null,
   "input_path": "__notebook__.ipynb",
   "output_path": "__notebook__.ipynb",
   "parameters": {},
   "start_time": "2021-01-24T14:35:19.742008",
   "version": "2.1.0"
  }
 },
 "nbformat": 4,
 "nbformat_minor": 4
}
