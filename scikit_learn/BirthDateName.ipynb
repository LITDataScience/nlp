{
  "nbformat": 4,
  "nbformat_minor": 0,
  "metadata": {
    "colab": {
      "name": "BirthDateName.ipynb",
      "provenance": []
    },
    "kernelspec": {
      "name": "python3",
      "display_name": "Python 3"
    }
  },
  "cells": [
    {
      "cell_type": "code",
      "metadata": {
        "id": "1BCGFbyYhVLQ"
      },
      "source": [
        "import datetime\r\n",
        "import calendar"
      ],
      "execution_count": 1,
      "outputs": []
    },
    {
      "cell_type": "code",
      "metadata": {
        "id": "_KH1FxkdhdP_"
      },
      "source": [
        "class CALENDAR:\r\n",
        "    ## Class defined to calculate the weekday from a given date\r\n",
        "    \r\n",
        "    def __init__(self, date):\r\n",
        "        self.date = date        \r\n",
        "    \r\n",
        "    # Method to calculate the day from the provided date\r\n",
        "    def calculateDay(self):        \r\n",
        "        # Stripping the date/month/year.\r\n",
        "        birthdate = datetime.datetime.strptime(self.date, '%m %d %Y').weekday()\r\n",
        "        ## Since day_name method defined in the calendar library has weekday names as list, hence, we pass birthdate as a list.\r\n",
        "        return (calendar.day_name[birthdate])"
      ],
      "execution_count": 3,
      "outputs": []
    },
    {
      "cell_type": "code",
      "metadata": {
        "colab": {
          "base_uri": "https://localhost:8080/"
        },
        "id": "Luhd9-r9hhyC",
        "outputId": "c88d69fc-6c67-47ef-ef66-88ee47572575"
      },
      "source": [
        "# Driver program\r\n",
        "if __name__ == '__main__':\r\n",
        "    date = input()\r\n",
        "    dt = CALENDAR(date=date)\r\n",
        "    print(dt.calculateDay().upper())"
      ],
      "execution_count": 4,
      "outputs": [
        {
          "output_type": "stream",
          "text": [
            "08 07 2017\n",
            "MONDAY\n"
          ],
          "name": "stdout"
        }
      ]
    },
    {
      "cell_type": "code",
      "metadata": {
        "id": "wb0uiwDxhmmc"
      },
      "source": [
        ""
      ],
      "execution_count": null,
      "outputs": []
    }
  ]
}