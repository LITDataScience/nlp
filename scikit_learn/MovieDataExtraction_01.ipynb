{
  "nbformat": 4,
  "nbformat_minor": 0,
  "metadata": {
    "colab": {
      "name": "MovieData.ipynb",
      "provenance": [],
      "collapsed_sections": []
    },
    "kernelspec": {
      "name": "python3",
      "display_name": "Python 3"
    }
  },
  "cells": [
    {
      "cell_type": "code",
      "metadata": {
        "id": "BTBH_SYROiY2"
      },
      "source": [
        "import numpy as np\r\n",
        "import pandas as pd"
      ],
      "execution_count": 1,
      "outputs": []
    },
    {
      "cell_type": "code",
      "metadata": {
        "colab": {
          "base_uri": "https://localhost:8080/",
          "height": 203
        },
        "id": "R-kaZxkMO2VE",
        "outputId": "6cda6330-37da-4aef-f843-8058de916ea0"
      },
      "source": [
        "df = pd.read_csv('/dataset/moviereviews.tsv', sep='\\t')\r\n",
        "df.head()"
      ],
      "execution_count": 2,
      "outputs": [
        {
          "output_type": "execute_result",
          "data": {
            "text/html": [
              "<div>\n",
              "<style scoped>\n",
              "    .dataframe tbody tr th:only-of-type {\n",
              "        vertical-align: middle;\n",
              "    }\n",
              "\n",
              "    .dataframe tbody tr th {\n",
              "        vertical-align: top;\n",
              "    }\n",
              "\n",
              "    .dataframe thead th {\n",
              "        text-align: right;\n",
              "    }\n",
              "</style>\n",
              "<table border=\"1\" class=\"dataframe\">\n",
              "  <thead>\n",
              "    <tr style=\"text-align: right;\">\n",
              "      <th></th>\n",
              "      <th>label</th>\n",
              "      <th>review</th>\n",
              "    </tr>\n",
              "  </thead>\n",
              "  <tbody>\n",
              "    <tr>\n",
              "      <th>0</th>\n",
              "      <td>neg</td>\n",
              "      <td>how do films like mouse hunt get into theatres...</td>\n",
              "    </tr>\n",
              "    <tr>\n",
              "      <th>1</th>\n",
              "      <td>neg</td>\n",
              "      <td>some talented actresses are blessed with a dem...</td>\n",
              "    </tr>\n",
              "    <tr>\n",
              "      <th>2</th>\n",
              "      <td>pos</td>\n",
              "      <td>this has been an extraordinary year for austra...</td>\n",
              "    </tr>\n",
              "    <tr>\n",
              "      <th>3</th>\n",
              "      <td>pos</td>\n",
              "      <td>according to hollywood movies made in last few...</td>\n",
              "    </tr>\n",
              "    <tr>\n",
              "      <th>4</th>\n",
              "      <td>neg</td>\n",
              "      <td>my first press screening of 1998 and already i...</td>\n",
              "    </tr>\n",
              "  </tbody>\n",
              "</table>\n",
              "</div>"
            ],
            "text/plain": [
              "  label                                             review\n",
              "0   neg  how do films like mouse hunt get into theatres...\n",
              "1   neg  some talented actresses are blessed with a dem...\n",
              "2   pos  this has been an extraordinary year for austra...\n",
              "3   pos  according to hollywood movies made in last few...\n",
              "4   neg  my first press screening of 1998 and already i..."
            ]
          },
          "metadata": {
            "tags": []
          },
          "execution_count": 2
        }
      ]
    },
    {
      "cell_type": "code",
      "metadata": {
        "colab": {
          "base_uri": "https://localhost:8080/"
        },
        "id": "UCVc-AHbPAex",
        "outputId": "725174c4-7a06-4b02-da16-cd75a08a9de0"
      },
      "source": [
        "len(df)"
      ],
      "execution_count": 3,
      "outputs": [
        {
          "output_type": "execute_result",
          "data": {
            "text/plain": [
              "2000"
            ]
          },
          "metadata": {
            "tags": []
          },
          "execution_count": 3
        }
      ]
    },
    {
      "cell_type": "code",
      "metadata": {
        "colab": {
          "base_uri": "https://localhost:8080/"
        },
        "id": "FBRvLCW_PG-S",
        "outputId": "e635af33-962c-4f22-f8e0-6525ed4a5ba5"
      },
      "source": [
        "print(df['review'][0]) ## Let's check a negative review of the movie"
      ],
      "execution_count": 4,
      "outputs": [
        {
          "output_type": "stream",
          "text": [
            "how do films like mouse hunt get into theatres ? \r\n",
            "isn't there a law or something ? \r\n",
            "this diabolical load of claptrap from steven speilberg's dreamworks studio is hollywood family fare at its deadly worst . \r\n",
            "mouse hunt takes the bare threads of a plot and tries to prop it up with overacting and flat-out stupid slapstick that makes comedies like jingle all the way look decent by comparison . \r\n",
            "writer adam rifkin and director gore verbinski are the names chiefly responsible for this swill . \r\n",
            "the plot , for what its worth , concerns two brothers ( nathan lane and an appalling lee evens ) who inherit a poorly run string factory and a seemingly worthless house from their eccentric father . \r\n",
            "deciding to check out the long-abandoned house , they soon learn that it's worth a fortune and set about selling it in auction to the highest bidder . \r\n",
            "but battling them at every turn is a very smart mouse , happy with his run-down little abode and wanting it to stay that way . \r\n",
            "the story alternates between unfunny scenes of the brothers bickering over what to do with their inheritance and endless action sequences as the two take on their increasingly determined furry foe . \r\n",
            "whatever promise the film starts with soon deteriorates into boring dialogue , terrible overacting , and increasingly uninspired slapstick that becomes all sound and fury , signifying nothing . \r\n",
            "the script becomes so unspeakably bad that the best line poor lee evens can utter after another run in with the rodent is : \" i hate that mouse \" . \r\n",
            "oh cringe ! \r\n",
            "this is home alone all over again , and ten times worse . \r\n",
            "one touching scene early on is worth mentioning . \r\n",
            "we follow the mouse through a maze of walls and pipes until he arrives at his makeshift abode somewhere in a wall . \r\n",
            "he jumps into a tiny bed , pulls up a makeshift sheet and snuggles up to sleep , seemingly happy and just wanting to be left alone . \r\n",
            "it's a magical little moment in an otherwise soulless film . \r\n",
            "a message to speilberg : if you want dreamworks to be associated with some kind of artistic credibility , then either give all concerned in mouse hunt a swift kick up the arse or hire yourself some decent writers and directors . \r\n",
            "this kind of rubbish will just not do at all . \r\n",
            "\n"
          ],
          "name": "stdout"
        }
      ]
    },
    {
      "cell_type": "code",
      "metadata": {
        "id": "WNpY2zehPMqf",
        "colab": {
          "base_uri": "https://localhost:8080/"
        },
        "outputId": "484af382-0ac2-42cb-de8d-74262a4a0bcb"
      },
      "source": [
        "print(df['review'][2]) ## Let's check a positive review of the movie"
      ],
      "execution_count": 5,
      "outputs": [
        {
          "output_type": "stream",
          "text": [
            "this has been an extraordinary year for australian films . \r\n",
            " \" shine \" has just scooped the pool at the australian film institute awards , picking up best film , best actor , best director etc . to that we can add the gritty \" life \" ( the anguish , courage and friendship of a group of male prisoners in the hiv-positive section of a jail ) and \" love and other catastrophes \" ( a low budget gem about straight and gay love on and near a university campus ) . \r\n",
            "i can't recall a year in which such a rich and varied celluloid library was unleashed from australia . \r\n",
            " \" shine \" was one bookend . \r\n",
            "stand by for the other one : \" dead heart \" . \r\n",
            ">from the opening credits the theme of division is established . \r\n",
            "the cast credits have clear and distinct lines separating their first and last names . \r\n",
            "bryan | brown . \r\n",
            "in a desert settlement , hundreds of kilometres from the nearest town , there is an uneasy calm between the local aboriginals and the handful of white settlers who live nearby . \r\n",
            "the local police officer has the task of enforcing \" white man's justice \" to the aboriginals . \r\n",
            "these are people with a proud 40 , 000 year heritage behind them . \r\n",
            "naturally , this includes their own system of justice ; key to which is \" payback \" . \r\n",
            "an eye for an eye . \r\n",
            "revenge . \r\n",
            "usually extracted by the spearing through of the recipient's thigh . \r\n",
            "brown , as the officer , manages quite well to keep the balance . \r\n",
            "he admits that he has to 'bend the rules' a bit , including actively encouraging at least one brutal \" payback \" . \r\n",
            " ( be warned that this scene , near the start , is not for the squeamish ) . \r\n",
            "the local priest - an aboriginal , but in the \" white fellas \" church - has a foot on either side of the line . \r\n",
            "he is , figuratively and literally , in both camps . \r\n",
            "ernie dingo brings a great deal of understanding to this role as the man in the middle . \r\n",
            "he is part churchman and part politician . \r\n",
            "however the tension , like the heat , flies and dust , is always there . \r\n",
            "whilst her husband - the local teacher - is in church , white lady kate ( milliken ) and her aborginal friend tony , ( pedersen ) have gone off into the hills . \r\n",
            "he takes her to a sacred site , even today strictly men-only . \r\n",
            "she appears to not know this . \r\n",
            "tony tells her that this is a special place , an initiation place . \r\n",
            "he then makes love to her , surrounded by ancient rock art . \r\n",
            "the community finds out about this sacrilegious act and it's payback time . \r\n",
            "the fuse is lit and the brittle inter-racial peace is shattered . \r\n",
            "everyone is affected in the fall out . \r\n",
            "to say more is to give away the details of this finely crafted film . \r\n",
            "suffice to say it's a rewarding experience . \r\n",
            "bryan brown , acting and co-producing , is the pivotal character . \r\n",
            "his officer is real , human and therefore flawed . \r\n",
            "brown comments that he expects audiences to feel warmth towards the man , then suddenly feel angry about him . \r\n",
            "it wasn't long ago that i visited central australia - ayers rock ( uluru ) and alice springs - for the first time . \r\n",
            "the wide-screen cinematography shows the dead heart of australia in a way that captures it's vicious beauty , but never deteriorates into a moving slide show , in which the gorgeous background dominates those pesky actors in the foreground . \r\n",
            "the cultural clash has provided the thesis for many a film ; from the western to the birdcage . \r\n",
            "at least three excellent australian films have covered the aboriginal people and the line between them and we anglo-saxon 'invaders' : \" jedda \" , \" the chant of jimmie blacksmith \" and \" the last wave \" . \r\n",
            "in a year when the race 'debate' has reared up in australia , it is nourishing to see such an intelligent , non-judgemental film as \" dead heart \" . \r\n",
            "the aboriginal priest best sums this up . \r\n",
            "he is asked to say if he is a \" black fella or white fella \" . \r\n",
            "\n"
          ],
          "name": "stdout"
        }
      ]
    },
    {
      "cell_type": "markdown",
      "metadata": {
        "id": "fcNMMaob0NPC"
      },
      "source": [
        "\r\n",
        "\r\n",
        "```\r\n",
        "# Let's train the raw text to predict if a new review is positive or negative!\r\n",
        "```\r\n",
        "\r\n"
      ]
    },
    {
      "cell_type": "code",
      "metadata": {
        "colab": {
          "base_uri": "https://localhost:8080/"
        },
        "id": "nxcs6szH0TaD",
        "outputId": "594c7eef-7599-4bc3-f21d-d9f2cb5da8cd"
      },
      "source": [
        "## Checking for missing values first\r\n",
        "df.isnull().sum()"
      ],
      "execution_count": 6,
      "outputs": [
        {
          "output_type": "execute_result",
          "data": {
            "text/plain": [
              "label      0\n",
              "review    35\n",
              "dtype: int64"
            ]
          },
          "metadata": {
            "tags": []
          },
          "execution_count": 6
        }
      ]
    },
    {
      "cell_type": "markdown",
      "metadata": {
        "id": "FYf2TF7k02ZW"
      },
      "source": [
        "\r\n",
        "\r\n",
        "```\r\n",
        "# In the above, we're not missing any labels but 35 reviews are missing! Let's remove these empty values.\r\n",
        "```\r\n",
        "\r\n"
      ]
    },
    {
      "cell_type": "code",
      "metadata": {
        "id": "3r7_QqIh1DE7"
      },
      "source": [
        "df.dropna(inplace=True) # inplace=True makes a permanent drop of the missing values"
      ],
      "execution_count": 7,
      "outputs": []
    },
    {
      "cell_type": "code",
      "metadata": {
        "colab": {
          "base_uri": "https://localhost:8080/"
        },
        "id": "qQ-ho16N1aqS",
        "outputId": "6ae4083b-b47f-4c63-b4e1-6e73d15c4a12"
      },
      "source": [
        "df.isnull().sum()"
      ],
      "execution_count": 8,
      "outputs": [
        {
          "output_type": "execute_result",
          "data": {
            "text/plain": [
              "label     0\n",
              "review    0\n",
              "dtype: int64"
            ]
          },
          "metadata": {
            "tags": []
          },
          "execution_count": 8
        }
      ]
    },
    {
      "cell_type": "code",
      "metadata": {
        "id": "PwrvN4Zo1d1F"
      },
      "source": [
        "## This will drop empty strings.\r\n",
        "blanks = []\r\n",
        "\r\n",
        "for i, lb, rv in df.itertuples():\r\n",
        "  if rv.isspace():\r\n",
        "    blanks.append(i) # Here I'm collecting index position of these blanks statements"
      ],
      "execution_count": 9,
      "outputs": []
    },
    {
      "cell_type": "code",
      "metadata": {
        "colab": {
          "base_uri": "https://localhost:8080/"
        },
        "id": "SSoAzI1e27aJ",
        "outputId": "95aadd95-aaac-4656-da91-69f065d7138d"
      },
      "source": [
        "blanks"
      ],
      "execution_count": 10,
      "outputs": [
        {
          "output_type": "execute_result",
          "data": {
            "text/plain": [
              "[57,\n",
              " 71,\n",
              " 147,\n",
              " 151,\n",
              " 283,\n",
              " 307,\n",
              " 313,\n",
              " 323,\n",
              " 343,\n",
              " 351,\n",
              " 427,\n",
              " 501,\n",
              " 633,\n",
              " 675,\n",
              " 815,\n",
              " 851,\n",
              " 977,\n",
              " 1079,\n",
              " 1299,\n",
              " 1455,\n",
              " 1493,\n",
              " 1525,\n",
              " 1531,\n",
              " 1763,\n",
              " 1851,\n",
              " 1905,\n",
              " 1993]"
            ]
          },
          "metadata": {
            "tags": []
          },
          "execution_count": 10
        }
      ]
    },
    {
      "cell_type": "code",
      "metadata": {
        "id": "8m1RluhB3TEx"
      },
      "source": [
        "# Let's drop these indexes with blanks\r\n",
        "df.drop(blanks, inplace=True)"
      ],
      "execution_count": 11,
      "outputs": []
    },
    {
      "cell_type": "code",
      "metadata": {
        "colab": {
          "base_uri": "https://localhost:8080/"
        },
        "id": "XpA5cMBh3exn",
        "outputId": "84a028b6-8664-4763-a461-97f4f07dee90"
      },
      "source": [
        "len(df) ## New length of cleaned dataframe (dropping missing data and empty strings data)"
      ],
      "execution_count": 12,
      "outputs": [
        {
          "output_type": "execute_result",
          "data": {
            "text/plain": [
              "1938"
            ]
          },
          "metadata": {
            "tags": []
          },
          "execution_count": 12
        }
      ]
    },
    {
      "cell_type": "code",
      "metadata": {
        "id": "F_-Qxk5i3jGM"
      },
      "source": [
        "from sklearn.model_selection import train_test_split\r\n",
        "X = df['review']\r\n",
        "y = df['label']"
      ],
      "execution_count": 13,
      "outputs": []
    },
    {
      "cell_type": "code",
      "metadata": {
        "id": "_OMq4g5X4j41"
      },
      "source": [
        "X_train, X_test, y_train, y_test = train_test_split(X, y, test_size=0.33, random_state=42)"
      ],
      "execution_count": 14,
      "outputs": []
    },
    {
      "cell_type": "markdown",
      "metadata": {
        "id": "2KDMWsLn4wxk"
      },
      "source": [
        "\r\n",
        "\r\n",
        "```\r\n",
        "# Let's build a pipeline\r\n",
        "```\r\n",
        "\r\n"
      ]
    },
    {
      "cell_type": "code",
      "metadata": {
        "id": "b43gvYbx4zBn"
      },
      "source": [
        "from sklearn.pipeline import Pipeline\r\n",
        "from sklearn.feature_extraction.text import TfidfVectorizer\r\n",
        "from sklearn.svm import LinearSVC"
      ],
      "execution_count": 15,
      "outputs": []
    },
    {
      "cell_type": "code",
      "metadata": {
        "id": "LXuGj-1E5Deb"
      },
      "source": [
        "test_clf = Pipeline([('tfidf', TfidfVectorizer()),\r\n",
        "                     ('clf', LinearSVC())]).fit(X_train, y_train)"
      ],
      "execution_count": 16,
      "outputs": []
    },
    {
      "cell_type": "code",
      "metadata": {
        "id": "Aft7MB9d6HRh"
      },
      "source": [
        "predictions = test_clf.predict(X_test)"
      ],
      "execution_count": 17,
      "outputs": []
    },
    {
      "cell_type": "code",
      "metadata": {
        "id": "quciHX2r6Unc"
      },
      "source": [
        "from sklearn import metrics\r\n",
        "from sklearn.metrics import confusion_matrix, classification_report"
      ],
      "execution_count": 18,
      "outputs": []
    },
    {
      "cell_type": "code",
      "metadata": {
        "colab": {
          "base_uri": "https://localhost:8080/"
        },
        "id": "8TDm9pBt6izc",
        "outputId": "d6bed9fe-63dd-475a-cc41-7e6f37f7e462"
      },
      "source": [
        "print(confusion_matrix(y_test, predictions))\r\n",
        "print(f'--------------------------------------------------------')\r\n",
        "print(classification_report(y_test, predictions))"
      ],
      "execution_count": 19,
      "outputs": [
        {
          "output_type": "stream",
          "text": [
            "[[259  49]\n",
            " [ 49 283]]\n",
            "--------------------------------------------------------\n",
            "              precision    recall  f1-score   support\n",
            "\n",
            "         neg       0.84      0.84      0.84       308\n",
            "         pos       0.85      0.85      0.85       332\n",
            "\n",
            "    accuracy                           0.85       640\n",
            "   macro avg       0.85      0.85      0.85       640\n",
            "weighted avg       0.85      0.85      0.85       640\n",
            "\n"
          ],
          "name": "stdout"
        }
      ]
    },
    {
      "cell_type": "code",
      "metadata": {
        "colab": {
          "base_uri": "https://localhost:8080/"
        },
        "id": "dWUNp1Mj6pHp",
        "outputId": "65f23e9a-cc1c-4001-b1b2-3eacbac0e09b"
      },
      "source": [
        "print(metrics.accuracy_score(y_test, predictions))"
      ],
      "execution_count": 20,
      "outputs": [
        {
          "output_type": "stream",
          "text": [
            "0.846875\n"
          ],
          "name": "stdout"
        }
      ]
    }
  ]
}
